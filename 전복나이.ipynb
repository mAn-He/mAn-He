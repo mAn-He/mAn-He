{
  "nbformat": 4,
  "nbformat_minor": 0,
  "metadata": {
    "colab": {
      "name": "전복나이",
      "provenance": [],
      "mount_file_id": "1EtbJe3c0CDdxlHAj6je_QSXZrUFg6lzK",
      "authorship_tag": "ABX9TyNCSkIu/02ek0qknAydRDHW",
      "include_colab_link": true
    },
    "kernelspec": {
      "name": "python3",
      "display_name": "Python 3"
    },
    "language_info": {
      "name": "python"
    }
  },
  "cells": [
    {
      "cell_type": "markdown",
      "metadata": {
        "id": "view-in-github",
        "colab_type": "text"
      },
      "source": [
        "<a href=\"https://colab.research.google.com/github/mAn-He/mAn-He/blob/main/%EC%A0%84%EB%B3%B5%EB%82%98%EC%9D%B4.ipynb\" target=\"_parent\"><img src=\"https://colab.research.google.com/assets/colab-badge.svg\" alt=\"Open In Colab\"/></a>"
      ]
    },
    {
      "cell_type": "code",
      "source": [
        "import pandas as pd \n",
        "import numpy as np\n",
        "import matplotlib.pyplot as plt\n",
        "import seaborn as sns\n",
        "import missingno as msno\n",
        "from sklearn.preprocessing import LabelEncoder\n",
        "from sklearn.impute import SimpleImputer\n",
        "from sklearn.model_selection import KFold\n",
        "import scipy as sp"
      ],
      "metadata": {
        "id": "5_eZypbNp2fQ"
      },
      "execution_count": 1,
      "outputs": []
    },
    {
      "cell_type": "code",
      "execution_count": 2,
      "metadata": {
        "id": "0WoumdWJmwe8"
      },
      "outputs": [],
      "source": [
        "train = pd.read_csv('/content/drive/MyDrive/데이콘/전복/train.csv')\n",
        "test = pd.read_csv('/content/drive/MyDrive/데이콘/전복/test.csv')\n",
        "submission = pd.read_csv('/content/drive/MyDrive/데이콘/전복/sample_submission.csv')"
      ]
    },
    {
      "cell_type": "code",
      "source": [
        "train"
      ],
      "metadata": {
        "colab": {
          "base_uri": "https://localhost:8080/",
          "height": 423
        },
        "id": "hH1qxNRupr9T",
        "outputId": "ef693e77-ba72-4dbe-8bf7-73a1d34cd0b2"
      },
      "execution_count": 3,
      "outputs": [
        {
          "output_type": "execute_result",
          "data": {
            "text/plain": [
              "        id Gender  Lenght  Diameter  Height  Whole Weight  Shucked Weight  \\\n",
              "0        1      M   0.605     0.470   0.115        1.1140          0.3925   \n",
              "1        2      I   0.430     0.315   0.095        0.3780          0.1750   \n",
              "2        3      I   0.580     0.490   0.195        1.3165          0.5305   \n",
              "3        4      M   0.535     0.405   0.175        1.2705          0.5480   \n",
              "4        5      I   0.310     0.235   0.090        0.1270          0.0480   \n",
              "...    ...    ...     ...       ...     ...           ...             ...   \n",
              "1248  1249      I   0.190     0.145   0.040        0.0380          0.0165   \n",
              "1249  1250      I   0.395     0.310   0.085        0.3170          0.1530   \n",
              "1250  1251      F   0.525     0.410   0.115        0.7745          0.4160   \n",
              "1251  1252      F   0.445     0.335   0.110        0.4355          0.2025   \n",
              "1252  1253      F   0.750     0.550   0.195        1.8325          0.8300   \n",
              "\n",
              "      Viscra Weight  Shell Weight  Target  \n",
              "0            0.2910        0.3100      15  \n",
              "1            0.0800        0.1045       8  \n",
              "2            0.2540        0.4100      18  \n",
              "3            0.3265        0.3370      13  \n",
              "4            0.0310        0.0400       6  \n",
              "...             ...           ...     ...  \n",
              "1248         0.0065        0.0150       4  \n",
              "1249         0.0505        0.0935       7  \n",
              "1250         0.1630        0.1800       7  \n",
              "1251         0.1095        0.1195       6  \n",
              "1252         0.3660        0.4400      11  \n",
              "\n",
              "[1253 rows x 10 columns]"
            ],
            "text/html": [
              "\n",
              "  <div id=\"df-02992e02-91e8-421b-82dd-ad93f0a0c7df\">\n",
              "    <div class=\"colab-df-container\">\n",
              "      <div>\n",
              "<style scoped>\n",
              "    .dataframe tbody tr th:only-of-type {\n",
              "        vertical-align: middle;\n",
              "    }\n",
              "\n",
              "    .dataframe tbody tr th {\n",
              "        vertical-align: top;\n",
              "    }\n",
              "\n",
              "    .dataframe thead th {\n",
              "        text-align: right;\n",
              "    }\n",
              "</style>\n",
              "<table border=\"1\" class=\"dataframe\">\n",
              "  <thead>\n",
              "    <tr style=\"text-align: right;\">\n",
              "      <th></th>\n",
              "      <th>id</th>\n",
              "      <th>Gender</th>\n",
              "      <th>Lenght</th>\n",
              "      <th>Diameter</th>\n",
              "      <th>Height</th>\n",
              "      <th>Whole Weight</th>\n",
              "      <th>Shucked Weight</th>\n",
              "      <th>Viscra Weight</th>\n",
              "      <th>Shell Weight</th>\n",
              "      <th>Target</th>\n",
              "    </tr>\n",
              "  </thead>\n",
              "  <tbody>\n",
              "    <tr>\n",
              "      <th>0</th>\n",
              "      <td>1</td>\n",
              "      <td>M</td>\n",
              "      <td>0.605</td>\n",
              "      <td>0.470</td>\n",
              "      <td>0.115</td>\n",
              "      <td>1.1140</td>\n",
              "      <td>0.3925</td>\n",
              "      <td>0.2910</td>\n",
              "      <td>0.3100</td>\n",
              "      <td>15</td>\n",
              "    </tr>\n",
              "    <tr>\n",
              "      <th>1</th>\n",
              "      <td>2</td>\n",
              "      <td>I</td>\n",
              "      <td>0.430</td>\n",
              "      <td>0.315</td>\n",
              "      <td>0.095</td>\n",
              "      <td>0.3780</td>\n",
              "      <td>0.1750</td>\n",
              "      <td>0.0800</td>\n",
              "      <td>0.1045</td>\n",
              "      <td>8</td>\n",
              "    </tr>\n",
              "    <tr>\n",
              "      <th>2</th>\n",
              "      <td>3</td>\n",
              "      <td>I</td>\n",
              "      <td>0.580</td>\n",
              "      <td>0.490</td>\n",
              "      <td>0.195</td>\n",
              "      <td>1.3165</td>\n",
              "      <td>0.5305</td>\n",
              "      <td>0.2540</td>\n",
              "      <td>0.4100</td>\n",
              "      <td>18</td>\n",
              "    </tr>\n",
              "    <tr>\n",
              "      <th>3</th>\n",
              "      <td>4</td>\n",
              "      <td>M</td>\n",
              "      <td>0.535</td>\n",
              "      <td>0.405</td>\n",
              "      <td>0.175</td>\n",
              "      <td>1.2705</td>\n",
              "      <td>0.5480</td>\n",
              "      <td>0.3265</td>\n",
              "      <td>0.3370</td>\n",
              "      <td>13</td>\n",
              "    </tr>\n",
              "    <tr>\n",
              "      <th>4</th>\n",
              "      <td>5</td>\n",
              "      <td>I</td>\n",
              "      <td>0.310</td>\n",
              "      <td>0.235</td>\n",
              "      <td>0.090</td>\n",
              "      <td>0.1270</td>\n",
              "      <td>0.0480</td>\n",
              "      <td>0.0310</td>\n",
              "      <td>0.0400</td>\n",
              "      <td>6</td>\n",
              "    </tr>\n",
              "    <tr>\n",
              "      <th>...</th>\n",
              "      <td>...</td>\n",
              "      <td>...</td>\n",
              "      <td>...</td>\n",
              "      <td>...</td>\n",
              "      <td>...</td>\n",
              "      <td>...</td>\n",
              "      <td>...</td>\n",
              "      <td>...</td>\n",
              "      <td>...</td>\n",
              "      <td>...</td>\n",
              "    </tr>\n",
              "    <tr>\n",
              "      <th>1248</th>\n",
              "      <td>1249</td>\n",
              "      <td>I</td>\n",
              "      <td>0.190</td>\n",
              "      <td>0.145</td>\n",
              "      <td>0.040</td>\n",
              "      <td>0.0380</td>\n",
              "      <td>0.0165</td>\n",
              "      <td>0.0065</td>\n",
              "      <td>0.0150</td>\n",
              "      <td>4</td>\n",
              "    </tr>\n",
              "    <tr>\n",
              "      <th>1249</th>\n",
              "      <td>1250</td>\n",
              "      <td>I</td>\n",
              "      <td>0.395</td>\n",
              "      <td>0.310</td>\n",
              "      <td>0.085</td>\n",
              "      <td>0.3170</td>\n",
              "      <td>0.1530</td>\n",
              "      <td>0.0505</td>\n",
              "      <td>0.0935</td>\n",
              "      <td>7</td>\n",
              "    </tr>\n",
              "    <tr>\n",
              "      <th>1250</th>\n",
              "      <td>1251</td>\n",
              "      <td>F</td>\n",
              "      <td>0.525</td>\n",
              "      <td>0.410</td>\n",
              "      <td>0.115</td>\n",
              "      <td>0.7745</td>\n",
              "      <td>0.4160</td>\n",
              "      <td>0.1630</td>\n",
              "      <td>0.1800</td>\n",
              "      <td>7</td>\n",
              "    </tr>\n",
              "    <tr>\n",
              "      <th>1251</th>\n",
              "      <td>1252</td>\n",
              "      <td>F</td>\n",
              "      <td>0.445</td>\n",
              "      <td>0.335</td>\n",
              "      <td>0.110</td>\n",
              "      <td>0.4355</td>\n",
              "      <td>0.2025</td>\n",
              "      <td>0.1095</td>\n",
              "      <td>0.1195</td>\n",
              "      <td>6</td>\n",
              "    </tr>\n",
              "    <tr>\n",
              "      <th>1252</th>\n",
              "      <td>1253</td>\n",
              "      <td>F</td>\n",
              "      <td>0.750</td>\n",
              "      <td>0.550</td>\n",
              "      <td>0.195</td>\n",
              "      <td>1.8325</td>\n",
              "      <td>0.8300</td>\n",
              "      <td>0.3660</td>\n",
              "      <td>0.4400</td>\n",
              "      <td>11</td>\n",
              "    </tr>\n",
              "  </tbody>\n",
              "</table>\n",
              "<p>1253 rows × 10 columns</p>\n",
              "</div>\n",
              "      <button class=\"colab-df-convert\" onclick=\"convertToInteractive('df-02992e02-91e8-421b-82dd-ad93f0a0c7df')\"\n",
              "              title=\"Convert this dataframe to an interactive table.\"\n",
              "              style=\"display:none;\">\n",
              "        \n",
              "  <svg xmlns=\"http://www.w3.org/2000/svg\" height=\"24px\"viewBox=\"0 0 24 24\"\n",
              "       width=\"24px\">\n",
              "    <path d=\"M0 0h24v24H0V0z\" fill=\"none\"/>\n",
              "    <path d=\"M18.56 5.44l.94 2.06.94-2.06 2.06-.94-2.06-.94-.94-2.06-.94 2.06-2.06.94zm-11 1L8.5 8.5l.94-2.06 2.06-.94-2.06-.94L8.5 2.5l-.94 2.06-2.06.94zm10 10l.94 2.06.94-2.06 2.06-.94-2.06-.94-.94-2.06-.94 2.06-2.06.94z\"/><path d=\"M17.41 7.96l-1.37-1.37c-.4-.4-.92-.59-1.43-.59-.52 0-1.04.2-1.43.59L10.3 9.45l-7.72 7.72c-.78.78-.78 2.05 0 2.83L4 21.41c.39.39.9.59 1.41.59.51 0 1.02-.2 1.41-.59l7.78-7.78 2.81-2.81c.8-.78.8-2.07 0-2.86zM5.41 20L4 18.59l7.72-7.72 1.47 1.35L5.41 20z\"/>\n",
              "  </svg>\n",
              "      </button>\n",
              "      \n",
              "  <style>\n",
              "    .colab-df-container {\n",
              "      display:flex;\n",
              "      flex-wrap:wrap;\n",
              "      gap: 12px;\n",
              "    }\n",
              "\n",
              "    .colab-df-convert {\n",
              "      background-color: #E8F0FE;\n",
              "      border: none;\n",
              "      border-radius: 50%;\n",
              "      cursor: pointer;\n",
              "      display: none;\n",
              "      fill: #1967D2;\n",
              "      height: 32px;\n",
              "      padding: 0 0 0 0;\n",
              "      width: 32px;\n",
              "    }\n",
              "\n",
              "    .colab-df-convert:hover {\n",
              "      background-color: #E2EBFA;\n",
              "      box-shadow: 0px 1px 2px rgba(60, 64, 67, 0.3), 0px 1px 3px 1px rgba(60, 64, 67, 0.15);\n",
              "      fill: #174EA6;\n",
              "    }\n",
              "\n",
              "    [theme=dark] .colab-df-convert {\n",
              "      background-color: #3B4455;\n",
              "      fill: #D2E3FC;\n",
              "    }\n",
              "\n",
              "    [theme=dark] .colab-df-convert:hover {\n",
              "      background-color: #434B5C;\n",
              "      box-shadow: 0px 1px 3px 1px rgba(0, 0, 0, 0.15);\n",
              "      filter: drop-shadow(0px 1px 2px rgba(0, 0, 0, 0.3));\n",
              "      fill: #FFFFFF;\n",
              "    }\n",
              "  </style>\n",
              "\n",
              "      <script>\n",
              "        const buttonEl =\n",
              "          document.querySelector('#df-02992e02-91e8-421b-82dd-ad93f0a0c7df button.colab-df-convert');\n",
              "        buttonEl.style.display =\n",
              "          google.colab.kernel.accessAllowed ? 'block' : 'none';\n",
              "\n",
              "        async function convertToInteractive(key) {\n",
              "          const element = document.querySelector('#df-02992e02-91e8-421b-82dd-ad93f0a0c7df');\n",
              "          const dataTable =\n",
              "            await google.colab.kernel.invokeFunction('convertToInteractive',\n",
              "                                                     [key], {});\n",
              "          if (!dataTable) return;\n",
              "\n",
              "          const docLinkHtml = 'Like what you see? Visit the ' +\n",
              "            '<a target=\"_blank\" href=https://colab.research.google.com/notebooks/data_table.ipynb>data table notebook</a>'\n",
              "            + ' to learn more about interactive tables.';\n",
              "          element.innerHTML = '';\n",
              "          dataTable['output_type'] = 'display_data';\n",
              "          await google.colab.output.renderOutput(dataTable, element);\n",
              "          const docLink = document.createElement('div');\n",
              "          docLink.innerHTML = docLinkHtml;\n",
              "          element.appendChild(docLink);\n",
              "        }\n",
              "      </script>\n",
              "    </div>\n",
              "  </div>\n",
              "  "
            ]
          },
          "metadata": {},
          "execution_count": 3
        }
      ]
    },
    {
      "cell_type": "code",
      "source": [
        "train.info()"
      ],
      "metadata": {
        "colab": {
          "base_uri": "https://localhost:8080/"
        },
        "id": "126DO_uYquah",
        "outputId": "7acebcbf-8135-443b-b9d2-311d79d3612e"
      },
      "execution_count": 4,
      "outputs": [
        {
          "output_type": "stream",
          "name": "stdout",
          "text": [
            "<class 'pandas.core.frame.DataFrame'>\n",
            "RangeIndex: 1253 entries, 0 to 1252\n",
            "Data columns (total 10 columns):\n",
            " #   Column          Non-Null Count  Dtype  \n",
            "---  ------          --------------  -----  \n",
            " 0   id              1253 non-null   int64  \n",
            " 1   Gender          1253 non-null   object \n",
            " 2   Lenght          1253 non-null   float64\n",
            " 3   Diameter        1253 non-null   float64\n",
            " 4   Height          1253 non-null   float64\n",
            " 5   Whole Weight    1253 non-null   float64\n",
            " 6   Shucked Weight  1253 non-null   float64\n",
            " 7   Viscra Weight   1253 non-null   float64\n",
            " 8   Shell Weight    1253 non-null   float64\n",
            " 9   Target          1253 non-null   int64  \n",
            "dtypes: float64(7), int64(2), object(1)\n",
            "memory usage: 98.0+ KB\n"
          ]
        }
      ]
    },
    {
      "cell_type": "code",
      "source": [
        "test"
      ],
      "metadata": {
        "colab": {
          "base_uri": "https://localhost:8080/",
          "height": 423
        },
        "id": "yQQTdtsTqwsZ",
        "outputId": "84ba76e5-3bd0-4bbb-e3ad-5408499fccd8"
      },
      "execution_count": 5,
      "outputs": [
        {
          "output_type": "execute_result",
          "data": {
            "text/plain": [
              "        id Gender  Lenght  Diameter  Height  Whole Weight  Shucked Weight  \\\n",
              "0        1      F   0.595     0.470   0.155        1.1210          0.4515   \n",
              "1        2      M   0.580     0.450   0.150        0.9270          0.2760   \n",
              "2        3      I   0.260     0.205   0.070        0.0970          0.0415   \n",
              "3        4      M   0.590     0.460   0.130        1.1020          0.4550   \n",
              "4        5      F   0.595     0.465   0.140        1.1130          0.5175   \n",
              "...    ...    ...     ...       ...     ...           ...             ...   \n",
              "2919  2920      I   0.170     0.105   0.035        0.0340          0.0120   \n",
              "2920  2921      I   0.435     0.345   0.115        0.4180          0.2220   \n",
              "2921  2922      I   0.570     0.450   0.135        0.7940          0.3815   \n",
              "2922  2923      I   0.460     0.350   0.120        0.4885          0.1930   \n",
              "2923  2924      F   0.565     0.440   0.160        0.9150          0.3540   \n",
              "\n",
              "      Viscra Weight  Shell Weight  \n",
              "0            0.1780        0.1550  \n",
              "1            0.1815        0.3600  \n",
              "2            0.0190        0.0305  \n",
              "3            0.2055        0.3300  \n",
              "4            0.2440        0.3050  \n",
              "...             ...           ...  \n",
              "2919         0.0085        0.0050  \n",
              "2920         0.0735        0.1060  \n",
              "2921         0.1415        0.2450  \n",
              "2922         0.1050        0.1550  \n",
              "2923         0.1935        0.3200  \n",
              "\n",
              "[2924 rows x 9 columns]"
            ],
            "text/html": [
              "\n",
              "  <div id=\"df-7ab60dab-4d4d-41a9-aa63-b68fc70353ca\">\n",
              "    <div class=\"colab-df-container\">\n",
              "      <div>\n",
              "<style scoped>\n",
              "    .dataframe tbody tr th:only-of-type {\n",
              "        vertical-align: middle;\n",
              "    }\n",
              "\n",
              "    .dataframe tbody tr th {\n",
              "        vertical-align: top;\n",
              "    }\n",
              "\n",
              "    .dataframe thead th {\n",
              "        text-align: right;\n",
              "    }\n",
              "</style>\n",
              "<table border=\"1\" class=\"dataframe\">\n",
              "  <thead>\n",
              "    <tr style=\"text-align: right;\">\n",
              "      <th></th>\n",
              "      <th>id</th>\n",
              "      <th>Gender</th>\n",
              "      <th>Lenght</th>\n",
              "      <th>Diameter</th>\n",
              "      <th>Height</th>\n",
              "      <th>Whole Weight</th>\n",
              "      <th>Shucked Weight</th>\n",
              "      <th>Viscra Weight</th>\n",
              "      <th>Shell Weight</th>\n",
              "    </tr>\n",
              "  </thead>\n",
              "  <tbody>\n",
              "    <tr>\n",
              "      <th>0</th>\n",
              "      <td>1</td>\n",
              "      <td>F</td>\n",
              "      <td>0.595</td>\n",
              "      <td>0.470</td>\n",
              "      <td>0.155</td>\n",
              "      <td>1.1210</td>\n",
              "      <td>0.4515</td>\n",
              "      <td>0.1780</td>\n",
              "      <td>0.1550</td>\n",
              "    </tr>\n",
              "    <tr>\n",
              "      <th>1</th>\n",
              "      <td>2</td>\n",
              "      <td>M</td>\n",
              "      <td>0.580</td>\n",
              "      <td>0.450</td>\n",
              "      <td>0.150</td>\n",
              "      <td>0.9270</td>\n",
              "      <td>0.2760</td>\n",
              "      <td>0.1815</td>\n",
              "      <td>0.3600</td>\n",
              "    </tr>\n",
              "    <tr>\n",
              "      <th>2</th>\n",
              "      <td>3</td>\n",
              "      <td>I</td>\n",
              "      <td>0.260</td>\n",
              "      <td>0.205</td>\n",
              "      <td>0.070</td>\n",
              "      <td>0.0970</td>\n",
              "      <td>0.0415</td>\n",
              "      <td>0.0190</td>\n",
              "      <td>0.0305</td>\n",
              "    </tr>\n",
              "    <tr>\n",
              "      <th>3</th>\n",
              "      <td>4</td>\n",
              "      <td>M</td>\n",
              "      <td>0.590</td>\n",
              "      <td>0.460</td>\n",
              "      <td>0.130</td>\n",
              "      <td>1.1020</td>\n",
              "      <td>0.4550</td>\n",
              "      <td>0.2055</td>\n",
              "      <td>0.3300</td>\n",
              "    </tr>\n",
              "    <tr>\n",
              "      <th>4</th>\n",
              "      <td>5</td>\n",
              "      <td>F</td>\n",
              "      <td>0.595</td>\n",
              "      <td>0.465</td>\n",
              "      <td>0.140</td>\n",
              "      <td>1.1130</td>\n",
              "      <td>0.5175</td>\n",
              "      <td>0.2440</td>\n",
              "      <td>0.3050</td>\n",
              "    </tr>\n",
              "    <tr>\n",
              "      <th>...</th>\n",
              "      <td>...</td>\n",
              "      <td>...</td>\n",
              "      <td>...</td>\n",
              "      <td>...</td>\n",
              "      <td>...</td>\n",
              "      <td>...</td>\n",
              "      <td>...</td>\n",
              "      <td>...</td>\n",
              "      <td>...</td>\n",
              "    </tr>\n",
              "    <tr>\n",
              "      <th>2919</th>\n",
              "      <td>2920</td>\n",
              "      <td>I</td>\n",
              "      <td>0.170</td>\n",
              "      <td>0.105</td>\n",
              "      <td>0.035</td>\n",
              "      <td>0.0340</td>\n",
              "      <td>0.0120</td>\n",
              "      <td>0.0085</td>\n",
              "      <td>0.0050</td>\n",
              "    </tr>\n",
              "    <tr>\n",
              "      <th>2920</th>\n",
              "      <td>2921</td>\n",
              "      <td>I</td>\n",
              "      <td>0.435</td>\n",
              "      <td>0.345</td>\n",
              "      <td>0.115</td>\n",
              "      <td>0.4180</td>\n",
              "      <td>0.2220</td>\n",
              "      <td>0.0735</td>\n",
              "      <td>0.1060</td>\n",
              "    </tr>\n",
              "    <tr>\n",
              "      <th>2921</th>\n",
              "      <td>2922</td>\n",
              "      <td>I</td>\n",
              "      <td>0.570</td>\n",
              "      <td>0.450</td>\n",
              "      <td>0.135</td>\n",
              "      <td>0.7940</td>\n",
              "      <td>0.3815</td>\n",
              "      <td>0.1415</td>\n",
              "      <td>0.2450</td>\n",
              "    </tr>\n",
              "    <tr>\n",
              "      <th>2922</th>\n",
              "      <td>2923</td>\n",
              "      <td>I</td>\n",
              "      <td>0.460</td>\n",
              "      <td>0.350</td>\n",
              "      <td>0.120</td>\n",
              "      <td>0.4885</td>\n",
              "      <td>0.1930</td>\n",
              "      <td>0.1050</td>\n",
              "      <td>0.1550</td>\n",
              "    </tr>\n",
              "    <tr>\n",
              "      <th>2923</th>\n",
              "      <td>2924</td>\n",
              "      <td>F</td>\n",
              "      <td>0.565</td>\n",
              "      <td>0.440</td>\n",
              "      <td>0.160</td>\n",
              "      <td>0.9150</td>\n",
              "      <td>0.3540</td>\n",
              "      <td>0.1935</td>\n",
              "      <td>0.3200</td>\n",
              "    </tr>\n",
              "  </tbody>\n",
              "</table>\n",
              "<p>2924 rows × 9 columns</p>\n",
              "</div>\n",
              "      <button class=\"colab-df-convert\" onclick=\"convertToInteractive('df-7ab60dab-4d4d-41a9-aa63-b68fc70353ca')\"\n",
              "              title=\"Convert this dataframe to an interactive table.\"\n",
              "              style=\"display:none;\">\n",
              "        \n",
              "  <svg xmlns=\"http://www.w3.org/2000/svg\" height=\"24px\"viewBox=\"0 0 24 24\"\n",
              "       width=\"24px\">\n",
              "    <path d=\"M0 0h24v24H0V0z\" fill=\"none\"/>\n",
              "    <path d=\"M18.56 5.44l.94 2.06.94-2.06 2.06-.94-2.06-.94-.94-2.06-.94 2.06-2.06.94zm-11 1L8.5 8.5l.94-2.06 2.06-.94-2.06-.94L8.5 2.5l-.94 2.06-2.06.94zm10 10l.94 2.06.94-2.06 2.06-.94-2.06-.94-.94-2.06-.94 2.06-2.06.94z\"/><path d=\"M17.41 7.96l-1.37-1.37c-.4-.4-.92-.59-1.43-.59-.52 0-1.04.2-1.43.59L10.3 9.45l-7.72 7.72c-.78.78-.78 2.05 0 2.83L4 21.41c.39.39.9.59 1.41.59.51 0 1.02-.2 1.41-.59l7.78-7.78 2.81-2.81c.8-.78.8-2.07 0-2.86zM5.41 20L4 18.59l7.72-7.72 1.47 1.35L5.41 20z\"/>\n",
              "  </svg>\n",
              "      </button>\n",
              "      \n",
              "  <style>\n",
              "    .colab-df-container {\n",
              "      display:flex;\n",
              "      flex-wrap:wrap;\n",
              "      gap: 12px;\n",
              "    }\n",
              "\n",
              "    .colab-df-convert {\n",
              "      background-color: #E8F0FE;\n",
              "      border: none;\n",
              "      border-radius: 50%;\n",
              "      cursor: pointer;\n",
              "      display: none;\n",
              "      fill: #1967D2;\n",
              "      height: 32px;\n",
              "      padding: 0 0 0 0;\n",
              "      width: 32px;\n",
              "    }\n",
              "\n",
              "    .colab-df-convert:hover {\n",
              "      background-color: #E2EBFA;\n",
              "      box-shadow: 0px 1px 2px rgba(60, 64, 67, 0.3), 0px 1px 3px 1px rgba(60, 64, 67, 0.15);\n",
              "      fill: #174EA6;\n",
              "    }\n",
              "\n",
              "    [theme=dark] .colab-df-convert {\n",
              "      background-color: #3B4455;\n",
              "      fill: #D2E3FC;\n",
              "    }\n",
              "\n",
              "    [theme=dark] .colab-df-convert:hover {\n",
              "      background-color: #434B5C;\n",
              "      box-shadow: 0px 1px 3px 1px rgba(0, 0, 0, 0.15);\n",
              "      filter: drop-shadow(0px 1px 2px rgba(0, 0, 0, 0.3));\n",
              "      fill: #FFFFFF;\n",
              "    }\n",
              "  </style>\n",
              "\n",
              "      <script>\n",
              "        const buttonEl =\n",
              "          document.querySelector('#df-7ab60dab-4d4d-41a9-aa63-b68fc70353ca button.colab-df-convert');\n",
              "        buttonEl.style.display =\n",
              "          google.colab.kernel.accessAllowed ? 'block' : 'none';\n",
              "\n",
              "        async function convertToInteractive(key) {\n",
              "          const element = document.querySelector('#df-7ab60dab-4d4d-41a9-aa63-b68fc70353ca');\n",
              "          const dataTable =\n",
              "            await google.colab.kernel.invokeFunction('convertToInteractive',\n",
              "                                                     [key], {});\n",
              "          if (!dataTable) return;\n",
              "\n",
              "          const docLinkHtml = 'Like what you see? Visit the ' +\n",
              "            '<a target=\"_blank\" href=https://colab.research.google.com/notebooks/data_table.ipynb>data table notebook</a>'\n",
              "            + ' to learn more about interactive tables.';\n",
              "          element.innerHTML = '';\n",
              "          dataTable['output_type'] = 'display_data';\n",
              "          await google.colab.output.renderOutput(dataTable, element);\n",
              "          const docLink = document.createElement('div');\n",
              "          docLink.innerHTML = docLinkHtml;\n",
              "          element.appendChild(docLink);\n",
              "        }\n",
              "      </script>\n",
              "    </div>\n",
              "  </div>\n",
              "  "
            ]
          },
          "metadata": {},
          "execution_count": 5
        }
      ]
    },
    {
      "cell_type": "code",
      "source": [
        "test.info()"
      ],
      "metadata": {
        "colab": {
          "base_uri": "https://localhost:8080/"
        },
        "id": "J2N1VXJiqygZ",
        "outputId": "d1cdf5e5-0284-45b8-c8db-9debea738de3"
      },
      "execution_count": 6,
      "outputs": [
        {
          "output_type": "stream",
          "name": "stdout",
          "text": [
            "<class 'pandas.core.frame.DataFrame'>\n",
            "RangeIndex: 2924 entries, 0 to 2923\n",
            "Data columns (total 9 columns):\n",
            " #   Column          Non-Null Count  Dtype  \n",
            "---  ------          --------------  -----  \n",
            " 0   id              2924 non-null   int64  \n",
            " 1   Gender          2924 non-null   object \n",
            " 2   Lenght          2924 non-null   float64\n",
            " 3   Diameter        2924 non-null   float64\n",
            " 4   Height          2924 non-null   float64\n",
            " 5   Whole Weight    2924 non-null   float64\n",
            " 6   Shucked Weight  2924 non-null   float64\n",
            " 7   Viscra Weight   2924 non-null   float64\n",
            " 8   Shell Weight    2924 non-null   float64\n",
            "dtypes: float64(7), int64(1), object(1)\n",
            "memory usage: 205.7+ KB\n"
          ]
        }
      ]
    },
    {
      "cell_type": "code",
      "source": [
        "train.columns[(train.dtypes == object)]"
      ],
      "metadata": {
        "colab": {
          "base_uri": "https://localhost:8080/"
        },
        "id": "AyFAWAQeq3HC",
        "outputId": "9b61df11-c6c0-4f15-e855-af2d8cc18283"
      },
      "execution_count": 7,
      "outputs": [
        {
          "output_type": "execute_result",
          "data": {
            "text/plain": [
              "Index(['Gender'], dtype='object')"
            ]
          },
          "metadata": {},
          "execution_count": 7
        }
      ]
    },
    {
      "cell_type": "code",
      "source": [
        "train['Gender'].unique()"
      ],
      "metadata": {
        "colab": {
          "base_uri": "https://localhost:8080/"
        },
        "id": "GKP_YeKbq9BJ",
        "outputId": "43ea07b6-1615-4067-f4a4-acce43344f0b"
      },
      "execution_count": 8,
      "outputs": [
        {
          "output_type": "execute_result",
          "data": {
            "text/plain": [
              "array(['M', 'I', 'F'], dtype=object)"
            ]
          },
          "metadata": {},
          "execution_count": 8
        }
      ]
    },
    {
      "cell_type": "code",
      "source": [
        "train.drop('id', axis=1, inplace=True) \n",
        "test.drop('id', axis=1, inplace=True) "
      ],
      "metadata": {
        "id": "ZduDuIFmq_4p"
      },
      "execution_count": 9,
      "outputs": []
    },
    {
      "cell_type": "code",
      "source": [
        "train.replace(['M','I','F'], [1, 0, -1], inplace = True)\n",
        "test.replace(['M','I','F'], [1, 0, -1], inplace = True)"
      ],
      "metadata": {
        "id": "fOSpLOu2sNBh"
      },
      "execution_count": 10,
      "outputs": []
    },
    {
      "cell_type": "code",
      "source": [
        "train"
      ],
      "metadata": {
        "colab": {
          "base_uri": "https://localhost:8080/",
          "height": 423
        },
        "id": "DfvmK15gsaxO",
        "outputId": "3d8cded2-40d7-4916-8ac4-9ea2cd0b15ea"
      },
      "execution_count": 11,
      "outputs": [
        {
          "output_type": "execute_result",
          "data": {
            "text/plain": [
              "      Gender  Lenght  Diameter  Height  Whole Weight  Shucked Weight  \\\n",
              "0          1   0.605     0.470   0.115        1.1140          0.3925   \n",
              "1          0   0.430     0.315   0.095        0.3780          0.1750   \n",
              "2          0   0.580     0.490   0.195        1.3165          0.5305   \n",
              "3          1   0.535     0.405   0.175        1.2705          0.5480   \n",
              "4          0   0.310     0.235   0.090        0.1270          0.0480   \n",
              "...      ...     ...       ...     ...           ...             ...   \n",
              "1248       0   0.190     0.145   0.040        0.0380          0.0165   \n",
              "1249       0   0.395     0.310   0.085        0.3170          0.1530   \n",
              "1250      -1   0.525     0.410   0.115        0.7745          0.4160   \n",
              "1251      -1   0.445     0.335   0.110        0.4355          0.2025   \n",
              "1252      -1   0.750     0.550   0.195        1.8325          0.8300   \n",
              "\n",
              "      Viscra Weight  Shell Weight  Target  \n",
              "0            0.2910        0.3100      15  \n",
              "1            0.0800        0.1045       8  \n",
              "2            0.2540        0.4100      18  \n",
              "3            0.3265        0.3370      13  \n",
              "4            0.0310        0.0400       6  \n",
              "...             ...           ...     ...  \n",
              "1248         0.0065        0.0150       4  \n",
              "1249         0.0505        0.0935       7  \n",
              "1250         0.1630        0.1800       7  \n",
              "1251         0.1095        0.1195       6  \n",
              "1252         0.3660        0.4400      11  \n",
              "\n",
              "[1253 rows x 9 columns]"
            ],
            "text/html": [
              "\n",
              "  <div id=\"df-a6c7e370-048b-4b70-85ad-e70ad432fb6e\">\n",
              "    <div class=\"colab-df-container\">\n",
              "      <div>\n",
              "<style scoped>\n",
              "    .dataframe tbody tr th:only-of-type {\n",
              "        vertical-align: middle;\n",
              "    }\n",
              "\n",
              "    .dataframe tbody tr th {\n",
              "        vertical-align: top;\n",
              "    }\n",
              "\n",
              "    .dataframe thead th {\n",
              "        text-align: right;\n",
              "    }\n",
              "</style>\n",
              "<table border=\"1\" class=\"dataframe\">\n",
              "  <thead>\n",
              "    <tr style=\"text-align: right;\">\n",
              "      <th></th>\n",
              "      <th>Gender</th>\n",
              "      <th>Lenght</th>\n",
              "      <th>Diameter</th>\n",
              "      <th>Height</th>\n",
              "      <th>Whole Weight</th>\n",
              "      <th>Shucked Weight</th>\n",
              "      <th>Viscra Weight</th>\n",
              "      <th>Shell Weight</th>\n",
              "      <th>Target</th>\n",
              "    </tr>\n",
              "  </thead>\n",
              "  <tbody>\n",
              "    <tr>\n",
              "      <th>0</th>\n",
              "      <td>1</td>\n",
              "      <td>0.605</td>\n",
              "      <td>0.470</td>\n",
              "      <td>0.115</td>\n",
              "      <td>1.1140</td>\n",
              "      <td>0.3925</td>\n",
              "      <td>0.2910</td>\n",
              "      <td>0.3100</td>\n",
              "      <td>15</td>\n",
              "    </tr>\n",
              "    <tr>\n",
              "      <th>1</th>\n",
              "      <td>0</td>\n",
              "      <td>0.430</td>\n",
              "      <td>0.315</td>\n",
              "      <td>0.095</td>\n",
              "      <td>0.3780</td>\n",
              "      <td>0.1750</td>\n",
              "      <td>0.0800</td>\n",
              "      <td>0.1045</td>\n",
              "      <td>8</td>\n",
              "    </tr>\n",
              "    <tr>\n",
              "      <th>2</th>\n",
              "      <td>0</td>\n",
              "      <td>0.580</td>\n",
              "      <td>0.490</td>\n",
              "      <td>0.195</td>\n",
              "      <td>1.3165</td>\n",
              "      <td>0.5305</td>\n",
              "      <td>0.2540</td>\n",
              "      <td>0.4100</td>\n",
              "      <td>18</td>\n",
              "    </tr>\n",
              "    <tr>\n",
              "      <th>3</th>\n",
              "      <td>1</td>\n",
              "      <td>0.535</td>\n",
              "      <td>0.405</td>\n",
              "      <td>0.175</td>\n",
              "      <td>1.2705</td>\n",
              "      <td>0.5480</td>\n",
              "      <td>0.3265</td>\n",
              "      <td>0.3370</td>\n",
              "      <td>13</td>\n",
              "    </tr>\n",
              "    <tr>\n",
              "      <th>4</th>\n",
              "      <td>0</td>\n",
              "      <td>0.310</td>\n",
              "      <td>0.235</td>\n",
              "      <td>0.090</td>\n",
              "      <td>0.1270</td>\n",
              "      <td>0.0480</td>\n",
              "      <td>0.0310</td>\n",
              "      <td>0.0400</td>\n",
              "      <td>6</td>\n",
              "    </tr>\n",
              "    <tr>\n",
              "      <th>...</th>\n",
              "      <td>...</td>\n",
              "      <td>...</td>\n",
              "      <td>...</td>\n",
              "      <td>...</td>\n",
              "      <td>...</td>\n",
              "      <td>...</td>\n",
              "      <td>...</td>\n",
              "      <td>...</td>\n",
              "      <td>...</td>\n",
              "    </tr>\n",
              "    <tr>\n",
              "      <th>1248</th>\n",
              "      <td>0</td>\n",
              "      <td>0.190</td>\n",
              "      <td>0.145</td>\n",
              "      <td>0.040</td>\n",
              "      <td>0.0380</td>\n",
              "      <td>0.0165</td>\n",
              "      <td>0.0065</td>\n",
              "      <td>0.0150</td>\n",
              "      <td>4</td>\n",
              "    </tr>\n",
              "    <tr>\n",
              "      <th>1249</th>\n",
              "      <td>0</td>\n",
              "      <td>0.395</td>\n",
              "      <td>0.310</td>\n",
              "      <td>0.085</td>\n",
              "      <td>0.3170</td>\n",
              "      <td>0.1530</td>\n",
              "      <td>0.0505</td>\n",
              "      <td>0.0935</td>\n",
              "      <td>7</td>\n",
              "    </tr>\n",
              "    <tr>\n",
              "      <th>1250</th>\n",
              "      <td>-1</td>\n",
              "      <td>0.525</td>\n",
              "      <td>0.410</td>\n",
              "      <td>0.115</td>\n",
              "      <td>0.7745</td>\n",
              "      <td>0.4160</td>\n",
              "      <td>0.1630</td>\n",
              "      <td>0.1800</td>\n",
              "      <td>7</td>\n",
              "    </tr>\n",
              "    <tr>\n",
              "      <th>1251</th>\n",
              "      <td>-1</td>\n",
              "      <td>0.445</td>\n",
              "      <td>0.335</td>\n",
              "      <td>0.110</td>\n",
              "      <td>0.4355</td>\n",
              "      <td>0.2025</td>\n",
              "      <td>0.1095</td>\n",
              "      <td>0.1195</td>\n",
              "      <td>6</td>\n",
              "    </tr>\n",
              "    <tr>\n",
              "      <th>1252</th>\n",
              "      <td>-1</td>\n",
              "      <td>0.750</td>\n",
              "      <td>0.550</td>\n",
              "      <td>0.195</td>\n",
              "      <td>1.8325</td>\n",
              "      <td>0.8300</td>\n",
              "      <td>0.3660</td>\n",
              "      <td>0.4400</td>\n",
              "      <td>11</td>\n",
              "    </tr>\n",
              "  </tbody>\n",
              "</table>\n",
              "<p>1253 rows × 9 columns</p>\n",
              "</div>\n",
              "      <button class=\"colab-df-convert\" onclick=\"convertToInteractive('df-a6c7e370-048b-4b70-85ad-e70ad432fb6e')\"\n",
              "              title=\"Convert this dataframe to an interactive table.\"\n",
              "              style=\"display:none;\">\n",
              "        \n",
              "  <svg xmlns=\"http://www.w3.org/2000/svg\" height=\"24px\"viewBox=\"0 0 24 24\"\n",
              "       width=\"24px\">\n",
              "    <path d=\"M0 0h24v24H0V0z\" fill=\"none\"/>\n",
              "    <path d=\"M18.56 5.44l.94 2.06.94-2.06 2.06-.94-2.06-.94-.94-2.06-.94 2.06-2.06.94zm-11 1L8.5 8.5l.94-2.06 2.06-.94-2.06-.94L8.5 2.5l-.94 2.06-2.06.94zm10 10l.94 2.06.94-2.06 2.06-.94-2.06-.94-.94-2.06-.94 2.06-2.06.94z\"/><path d=\"M17.41 7.96l-1.37-1.37c-.4-.4-.92-.59-1.43-.59-.52 0-1.04.2-1.43.59L10.3 9.45l-7.72 7.72c-.78.78-.78 2.05 0 2.83L4 21.41c.39.39.9.59 1.41.59.51 0 1.02-.2 1.41-.59l7.78-7.78 2.81-2.81c.8-.78.8-2.07 0-2.86zM5.41 20L4 18.59l7.72-7.72 1.47 1.35L5.41 20z\"/>\n",
              "  </svg>\n",
              "      </button>\n",
              "      \n",
              "  <style>\n",
              "    .colab-df-container {\n",
              "      display:flex;\n",
              "      flex-wrap:wrap;\n",
              "      gap: 12px;\n",
              "    }\n",
              "\n",
              "    .colab-df-convert {\n",
              "      background-color: #E8F0FE;\n",
              "      border: none;\n",
              "      border-radius: 50%;\n",
              "      cursor: pointer;\n",
              "      display: none;\n",
              "      fill: #1967D2;\n",
              "      height: 32px;\n",
              "      padding: 0 0 0 0;\n",
              "      width: 32px;\n",
              "    }\n",
              "\n",
              "    .colab-df-convert:hover {\n",
              "      background-color: #E2EBFA;\n",
              "      box-shadow: 0px 1px 2px rgba(60, 64, 67, 0.3), 0px 1px 3px 1px rgba(60, 64, 67, 0.15);\n",
              "      fill: #174EA6;\n",
              "    }\n",
              "\n",
              "    [theme=dark] .colab-df-convert {\n",
              "      background-color: #3B4455;\n",
              "      fill: #D2E3FC;\n",
              "    }\n",
              "\n",
              "    [theme=dark] .colab-df-convert:hover {\n",
              "      background-color: #434B5C;\n",
              "      box-shadow: 0px 1px 3px 1px rgba(0, 0, 0, 0.15);\n",
              "      filter: drop-shadow(0px 1px 2px rgba(0, 0, 0, 0.3));\n",
              "      fill: #FFFFFF;\n",
              "    }\n",
              "  </style>\n",
              "\n",
              "      <script>\n",
              "        const buttonEl =\n",
              "          document.querySelector('#df-a6c7e370-048b-4b70-85ad-e70ad432fb6e button.colab-df-convert');\n",
              "        buttonEl.style.display =\n",
              "          google.colab.kernel.accessAllowed ? 'block' : 'none';\n",
              "\n",
              "        async function convertToInteractive(key) {\n",
              "          const element = document.querySelector('#df-a6c7e370-048b-4b70-85ad-e70ad432fb6e');\n",
              "          const dataTable =\n",
              "            await google.colab.kernel.invokeFunction('convertToInteractive',\n",
              "                                                     [key], {});\n",
              "          if (!dataTable) return;\n",
              "\n",
              "          const docLinkHtml = 'Like what you see? Visit the ' +\n",
              "            '<a target=\"_blank\" href=https://colab.research.google.com/notebooks/data_table.ipynb>data table notebook</a>'\n",
              "            + ' to learn more about interactive tables.';\n",
              "          element.innerHTML = '';\n",
              "          dataTable['output_type'] = 'display_data';\n",
              "          await google.colab.output.renderOutput(dataTable, element);\n",
              "          const docLink = document.createElement('div');\n",
              "          docLink.innerHTML = docLinkHtml;\n",
              "          element.appendChild(docLink);\n",
              "        }\n",
              "      </script>\n",
              "    </div>\n",
              "  </div>\n",
              "  "
            ]
          },
          "metadata": {},
          "execution_count": 11
        }
      ]
    },
    {
      "cell_type": "code",
      "source": [
        "train.describe()"
      ],
      "metadata": {
        "colab": {
          "base_uri": "https://localhost:8080/",
          "height": 300
        },
        "id": "rZ59TEKLsg3D",
        "outputId": "8b2e21ae-b80d-492b-b31e-6b9be24f52c0"
      },
      "execution_count": 12,
      "outputs": [
        {
          "output_type": "execute_result",
          "data": {
            "text/plain": [
              "            Gender       Lenght     Diameter       Height  Whole Weight  \\\n",
              "count  1253.000000  1253.000000  1253.000000  1253.000000   1253.000000   \n",
              "mean      0.071030     0.522869     0.406963     0.139545      0.831199   \n",
              "std       0.820406     0.120231     0.099771     0.039033      0.500491   \n",
              "min      -1.000000     0.110000     0.090000     0.030000      0.008000   \n",
              "25%      -1.000000     0.445000     0.345000     0.115000      0.440500   \n",
              "50%       0.000000     0.535000     0.420000     0.140000      0.777500   \n",
              "75%       1.000000     0.615000     0.480000     0.165000      1.160000   \n",
              "max       1.000000     0.780000     0.630000     0.250000      2.779500   \n",
              "\n",
              "       Shucked Weight  Viscra Weight  Shell Weight       Target  \n",
              "count     1253.000000    1253.000000   1253.000000  1253.000000  \n",
              "mean         0.358818       0.181006      0.240077     9.912211  \n",
              "std          0.224612       0.111936      0.142574     3.214676  \n",
              "min          0.002500       0.002000      0.003000     3.000000  \n",
              "25%          0.182500       0.092500      0.130000     8.000000  \n",
              "50%          0.326000       0.168000      0.230000    10.000000  \n",
              "75%          0.505500       0.256500      0.330000    11.000000  \n",
              "max          1.488000       0.760000      1.005000    29.000000  "
            ],
            "text/html": [
              "\n",
              "  <div id=\"df-7207b30f-df36-4d01-8a76-0fba8ece0a9f\">\n",
              "    <div class=\"colab-df-container\">\n",
              "      <div>\n",
              "<style scoped>\n",
              "    .dataframe tbody tr th:only-of-type {\n",
              "        vertical-align: middle;\n",
              "    }\n",
              "\n",
              "    .dataframe tbody tr th {\n",
              "        vertical-align: top;\n",
              "    }\n",
              "\n",
              "    .dataframe thead th {\n",
              "        text-align: right;\n",
              "    }\n",
              "</style>\n",
              "<table border=\"1\" class=\"dataframe\">\n",
              "  <thead>\n",
              "    <tr style=\"text-align: right;\">\n",
              "      <th></th>\n",
              "      <th>Gender</th>\n",
              "      <th>Lenght</th>\n",
              "      <th>Diameter</th>\n",
              "      <th>Height</th>\n",
              "      <th>Whole Weight</th>\n",
              "      <th>Shucked Weight</th>\n",
              "      <th>Viscra Weight</th>\n",
              "      <th>Shell Weight</th>\n",
              "      <th>Target</th>\n",
              "    </tr>\n",
              "  </thead>\n",
              "  <tbody>\n",
              "    <tr>\n",
              "      <th>count</th>\n",
              "      <td>1253.000000</td>\n",
              "      <td>1253.000000</td>\n",
              "      <td>1253.000000</td>\n",
              "      <td>1253.000000</td>\n",
              "      <td>1253.000000</td>\n",
              "      <td>1253.000000</td>\n",
              "      <td>1253.000000</td>\n",
              "      <td>1253.000000</td>\n",
              "      <td>1253.000000</td>\n",
              "    </tr>\n",
              "    <tr>\n",
              "      <th>mean</th>\n",
              "      <td>0.071030</td>\n",
              "      <td>0.522869</td>\n",
              "      <td>0.406963</td>\n",
              "      <td>0.139545</td>\n",
              "      <td>0.831199</td>\n",
              "      <td>0.358818</td>\n",
              "      <td>0.181006</td>\n",
              "      <td>0.240077</td>\n",
              "      <td>9.912211</td>\n",
              "    </tr>\n",
              "    <tr>\n",
              "      <th>std</th>\n",
              "      <td>0.820406</td>\n",
              "      <td>0.120231</td>\n",
              "      <td>0.099771</td>\n",
              "      <td>0.039033</td>\n",
              "      <td>0.500491</td>\n",
              "      <td>0.224612</td>\n",
              "      <td>0.111936</td>\n",
              "      <td>0.142574</td>\n",
              "      <td>3.214676</td>\n",
              "    </tr>\n",
              "    <tr>\n",
              "      <th>min</th>\n",
              "      <td>-1.000000</td>\n",
              "      <td>0.110000</td>\n",
              "      <td>0.090000</td>\n",
              "      <td>0.030000</td>\n",
              "      <td>0.008000</td>\n",
              "      <td>0.002500</td>\n",
              "      <td>0.002000</td>\n",
              "      <td>0.003000</td>\n",
              "      <td>3.000000</td>\n",
              "    </tr>\n",
              "    <tr>\n",
              "      <th>25%</th>\n",
              "      <td>-1.000000</td>\n",
              "      <td>0.445000</td>\n",
              "      <td>0.345000</td>\n",
              "      <td>0.115000</td>\n",
              "      <td>0.440500</td>\n",
              "      <td>0.182500</td>\n",
              "      <td>0.092500</td>\n",
              "      <td>0.130000</td>\n",
              "      <td>8.000000</td>\n",
              "    </tr>\n",
              "    <tr>\n",
              "      <th>50%</th>\n",
              "      <td>0.000000</td>\n",
              "      <td>0.535000</td>\n",
              "      <td>0.420000</td>\n",
              "      <td>0.140000</td>\n",
              "      <td>0.777500</td>\n",
              "      <td>0.326000</td>\n",
              "      <td>0.168000</td>\n",
              "      <td>0.230000</td>\n",
              "      <td>10.000000</td>\n",
              "    </tr>\n",
              "    <tr>\n",
              "      <th>75%</th>\n",
              "      <td>1.000000</td>\n",
              "      <td>0.615000</td>\n",
              "      <td>0.480000</td>\n",
              "      <td>0.165000</td>\n",
              "      <td>1.160000</td>\n",
              "      <td>0.505500</td>\n",
              "      <td>0.256500</td>\n",
              "      <td>0.330000</td>\n",
              "      <td>11.000000</td>\n",
              "    </tr>\n",
              "    <tr>\n",
              "      <th>max</th>\n",
              "      <td>1.000000</td>\n",
              "      <td>0.780000</td>\n",
              "      <td>0.630000</td>\n",
              "      <td>0.250000</td>\n",
              "      <td>2.779500</td>\n",
              "      <td>1.488000</td>\n",
              "      <td>0.760000</td>\n",
              "      <td>1.005000</td>\n",
              "      <td>29.000000</td>\n",
              "    </tr>\n",
              "  </tbody>\n",
              "</table>\n",
              "</div>\n",
              "      <button class=\"colab-df-convert\" onclick=\"convertToInteractive('df-7207b30f-df36-4d01-8a76-0fba8ece0a9f')\"\n",
              "              title=\"Convert this dataframe to an interactive table.\"\n",
              "              style=\"display:none;\">\n",
              "        \n",
              "  <svg xmlns=\"http://www.w3.org/2000/svg\" height=\"24px\"viewBox=\"0 0 24 24\"\n",
              "       width=\"24px\">\n",
              "    <path d=\"M0 0h24v24H0V0z\" fill=\"none\"/>\n",
              "    <path d=\"M18.56 5.44l.94 2.06.94-2.06 2.06-.94-2.06-.94-.94-2.06-.94 2.06-2.06.94zm-11 1L8.5 8.5l.94-2.06 2.06-.94-2.06-.94L8.5 2.5l-.94 2.06-2.06.94zm10 10l.94 2.06.94-2.06 2.06-.94-2.06-.94-.94-2.06-.94 2.06-2.06.94z\"/><path d=\"M17.41 7.96l-1.37-1.37c-.4-.4-.92-.59-1.43-.59-.52 0-1.04.2-1.43.59L10.3 9.45l-7.72 7.72c-.78.78-.78 2.05 0 2.83L4 21.41c.39.39.9.59 1.41.59.51 0 1.02-.2 1.41-.59l7.78-7.78 2.81-2.81c.8-.78.8-2.07 0-2.86zM5.41 20L4 18.59l7.72-7.72 1.47 1.35L5.41 20z\"/>\n",
              "  </svg>\n",
              "      </button>\n",
              "      \n",
              "  <style>\n",
              "    .colab-df-container {\n",
              "      display:flex;\n",
              "      flex-wrap:wrap;\n",
              "      gap: 12px;\n",
              "    }\n",
              "\n",
              "    .colab-df-convert {\n",
              "      background-color: #E8F0FE;\n",
              "      border: none;\n",
              "      border-radius: 50%;\n",
              "      cursor: pointer;\n",
              "      display: none;\n",
              "      fill: #1967D2;\n",
              "      height: 32px;\n",
              "      padding: 0 0 0 0;\n",
              "      width: 32px;\n",
              "    }\n",
              "\n",
              "    .colab-df-convert:hover {\n",
              "      background-color: #E2EBFA;\n",
              "      box-shadow: 0px 1px 2px rgba(60, 64, 67, 0.3), 0px 1px 3px 1px rgba(60, 64, 67, 0.15);\n",
              "      fill: #174EA6;\n",
              "    }\n",
              "\n",
              "    [theme=dark] .colab-df-convert {\n",
              "      background-color: #3B4455;\n",
              "      fill: #D2E3FC;\n",
              "    }\n",
              "\n",
              "    [theme=dark] .colab-df-convert:hover {\n",
              "      background-color: #434B5C;\n",
              "      box-shadow: 0px 1px 3px 1px rgba(0, 0, 0, 0.15);\n",
              "      filter: drop-shadow(0px 1px 2px rgba(0, 0, 0, 0.3));\n",
              "      fill: #FFFFFF;\n",
              "    }\n",
              "  </style>\n",
              "\n",
              "      <script>\n",
              "        const buttonEl =\n",
              "          document.querySelector('#df-7207b30f-df36-4d01-8a76-0fba8ece0a9f button.colab-df-convert');\n",
              "        buttonEl.style.display =\n",
              "          google.colab.kernel.accessAllowed ? 'block' : 'none';\n",
              "\n",
              "        async function convertToInteractive(key) {\n",
              "          const element = document.querySelector('#df-7207b30f-df36-4d01-8a76-0fba8ece0a9f');\n",
              "          const dataTable =\n",
              "            await google.colab.kernel.invokeFunction('convertToInteractive',\n",
              "                                                     [key], {});\n",
              "          if (!dataTable) return;\n",
              "\n",
              "          const docLinkHtml = 'Like what you see? Visit the ' +\n",
              "            '<a target=\"_blank\" href=https://colab.research.google.com/notebooks/data_table.ipynb>data table notebook</a>'\n",
              "            + ' to learn more about interactive tables.';\n",
              "          element.innerHTML = '';\n",
              "          dataTable['output_type'] = 'display_data';\n",
              "          await google.colab.output.renderOutput(dataTable, element);\n",
              "          const docLink = document.createElement('div');\n",
              "          docLink.innerHTML = docLinkHtml;\n",
              "          element.appendChild(docLink);\n",
              "        }\n",
              "      </script>\n",
              "    </div>\n",
              "  </div>\n",
              "  "
            ]
          },
          "metadata": {},
          "execution_count": 12
        }
      ]
    },
    {
      "cell_type": "code",
      "source": [
        "plt.subplots(figsize=(25,25))\n",
        "\n",
        "sns.heatmap(train.corr(), mask=np.zeros_like(train.corr(), dtype=bool),\n",
        "            square=True, annot=True)\n",
        "plt.show()"
      ],
      "metadata": {
        "colab": {
          "base_uri": "https://localhost:8080/",
          "height": 1000
        },
        "id": "OAPVyIgLsnLb",
        "outputId": "2d265451-5398-4b0f-9f67-bb2ce7fee873"
      },
      "execution_count": 13,
      "outputs": [
        {
          "output_type": "display_data",
          "data": {
            "text/plain": [
              "<Figure size 1800x1800 with 2 Axes>"
            ],
            "image/png": "[encoded data removed]"
          },
          "metadata": {
            "needs_background": "light"
          }
        }
      ]
    },
    {
      "cell_type": "code",
      "source": [
        "train.hist(bins=50, figsize=(20,20))\n",
        "plt.show()\n",
        "#분포 확인을 위한 그래프\n",
        "#target의 분포가 왼쪽으로 기울어져 있습니다."
      ],
      "metadata": {
        "colab": {
          "base_uri": "https://localhost:8080/",
          "height": 1000
        },
        "id": "Wi-NFbWks2RZ",
        "outputId": "af69caa4-952e-4f32-ea22-7e4be0728692"
      },
      "execution_count": 14,
      "outputs": [
        {
          "output_type": "display_data",
          "data": {
            "text/plain": [
              "<Figure size 1440x1440 with 9 Axes>"
            ],
            "image/png": "[encoded data removed]"
          },
          "metadata": {
            "needs_background": "light"
          }
        }
      ]
    },
    {
      "cell_type": "code",
      "source": [
        "train.columns"
      ],
      "metadata": {
        "colab": {
          "base_uri": "https://localhost:8080/"
        },
        "id": "N9HbkUlztB-j",
        "outputId": "618e319d-5de2-4b95-8df5-8a77fda61ff1"
      },
      "execution_count": 15,
      "outputs": [
        {
          "output_type": "execute_result",
          "data": {
            "text/plain": [
              "Index(['Gender', 'Lenght', 'Diameter', 'Height', 'Whole Weight',\n",
              "       'Shucked Weight', 'Viscra Weight', 'Shell Weight', 'Target'],\n",
              "      dtype='object')"
            ]
          },
          "metadata": {},
          "execution_count": 15
        }
      ]
    },
    {
      "cell_type": "code",
      "source": [
        "plt.figure(figsize = (15,20))\n",
        "for i in range(len(train.columns)-1):\n",
        "  plt.subplot(5,5,i+1)\n",
        "  plt.xlabel(train.columns[i])\n",
        "  plt.scatter(train[train.columns[i]], train['Target'])\n",
        "  "
      ],
      "metadata": {
        "colab": {
          "base_uri": "https://localhost:8080/",
          "height": 476
        },
        "id": "E5NdB00WtEFV",
        "outputId": "1634149d-7ced-4bcf-81aa-5dca9c53a49a"
      },
      "execution_count": 16,
      "outputs": [
        {
          "output_type": "display_data",
          "data": {
            "text/plain": [
              "<Figure size 1080x1440 with 8 Axes>"
            ],
            "image/png": "[encoded data removed]"
          },
          "metadata": {
            "needs_background": "light"
          }
        }
      ]
    },
    {
      "cell_type": "code",
      "source": [
        "\n",
        "plt.figure(figsize = (15,20))\n",
        "for i in range(len(train.columns)-1):\n",
        "  plt.subplot(5,5,i+1)\n",
        "  plt.xlabel(train.columns[i])\n",
        "  plt.boxplot(train[train.columns[i]])\n",
        "  "
      ],
      "metadata": {
        "colab": {
          "base_uri": "https://localhost:8080/",
          "height": 475
        },
        "id": "y3r2pz8G0OP2",
        "outputId": "1f6bf204-976b-4aed-ed58-78a0e370e6ff"
      },
      "execution_count": 17,
      "outputs": [
        {
          "output_type": "display_data",
          "data": {
            "text/plain": [
              "<Figure size 1080x1440 with 8 Axes>"
            ],
            "image/png": "[encoded data removed]"
          },
          "metadata": {
            "needs_background": "light"
          }
        }
      ]
    },
    {
      "cell_type": "code",
      "source": [
        "\"\"\"\n",
        "quartile_1 = test.quantile(0.25)\n",
        "quartile_3 = test.quantile(0.75)\n",
        "\n",
        "IQR = quartile_3 - quartile_1\n",
        "condition = (test < (quartile_1 - 1.5 * IQR)) | (test > (quartile_3 + 1.5 * IQR))\n",
        "condition = condition.any(axis=1)\n",
        "test = test[condition]\n",
        "print('훈련데이터 Shape', test.shape)\n",
        "\n",
        "print('교과서 방법으로 이상치가 제거된 모습')\n",
        "fig, ax = plt.subplots(nrows = 2, ncols = 6, figsize = (18, 10))\n",
        "\n",
        "num = 0\n",
        "ax = ax.flatten()\n",
        "\n",
        "for col in list(test.columns[0:]):\n",
        "    sns.boxplot(test[col], ax = ax[num])\n",
        "    num += 1    \n",
        "    \n",
        "plt.show()\n",
        "\"\"\""
      ],
      "metadata": {
        "colab": {
          "base_uri": "https://localhost:8080/",
          "height": 72
        },
        "id": "1kwG4L9v8s9p",
        "outputId": "c2ff80d6-bca3-43f2-c184-8ffeaee00b48"
      },
      "execution_count": 18,
      "outputs": [
        {
          "output_type": "execute_result",
          "data": {
            "text/plain": [
              "\"\\nquartile_1 = test.quantile(0.25)\\nquartile_3 = test.quantile(0.75)\\n\\nIQR = quartile_3 - quartile_1\\ncondition = (test < (quartile_1 - 1.5 * IQR)) | (test > (quartile_3 + 1.5 * IQR))\\ncondition = condition.any(axis=1)\\ntest = test[condition]\\nprint('훈련데이터 Shape', test.shape)\\n\\nprint('교과서 방법으로 이상치가 제거된 모습')\\nfig, ax = plt.subplots(nrows = 2, ncols = 6, figsize = (18, 10))\\n\\nnum = 0\\nax = ax.flatten()\\n\\nfor col in list(test.columns[0:]):\\n    sns.boxplot(test[col], ax = ax[num])\\n    num += 1    \\n    \\nplt.show()\\n\""
            ],
            "application/vnd.google.colaboratory.intrinsic+json": {
              "type": "string"
            }
          },
          "metadata": {},
          "execution_count": 18
        }
      ]
    },
    {
      "cell_type": "code",
      "source": [
        "def outliers_iqr(data):\n",
        "  q1, q3 = np.percentile(data, [25,75])\n",
        "  iqr = q3 - q1\n",
        "  lower_bound = q1 - (iqr *1.5)\n",
        "  upper_bound = q3 + (iqr*1.5)\n",
        "\n",
        "  return np.where((data > upper_bound)|(data < lower_bound))"
      ],
      "metadata": {
        "id": "mjYUZSiT2BPS"
      },
      "execution_count": 19,
      "outputs": []
    },
    {
      "cell_type": "code",
      "source": [
        "#이상치 제거를 위해서 None으로 바꾼 후 머신 러닝 모델을 돌려서 결측값 메우는 방식으로 했습니다.\n",
        "Lenght_out_index= outliers_iqr(train['Lenght'])[0]\n",
        "Diameter_out_index = outliers_iqr(train['Diameter'])[0]\n",
        "Height_out_index = outliers_iqr(train['Height'])[0]\n",
        "Whole_Weight_out_index = outliers_iqr(train['Whole Weight'])[0]\n",
        "Shucked_out_index = outliers_iqr(train['Shucked Weight'])[0]\n",
        "Viscra_out_index = outliers_iqr(train['Viscra Weight'])[0]\n",
        "Shell_out_index = outliers_iqr(train['Shell Weight'])[0]"
      ],
      "metadata": {
        "id": "Y8tOppdu4ijr"
      },
      "execution_count": 20,
      "outputs": []
    },
    {
      "cell_type": "code",
      "source": [
        "Lenght_out_index_t= outliers_iqr(test['Lenght'])[0]\n",
        "Diameter_out_index_t = outliers_iqr(test['Diameter'])[0]\n",
        "Height_out_index_t = outliers_iqr(test['Height'])[0]\n",
        "Whole_Weight_out_index_t = outliers_iqr(test['Whole Weight'])[0]\n",
        "Shucked_out_index_t = outliers_iqr(test['Shucked Weight'])[0]\n",
        "Viscra_out_index_t = outliers_iqr(test['Viscra Weight'])[0]\n",
        "Shell_out_index_t = outliers_iqr(test['Shell Weight'])[0]"
      ],
      "metadata": {
        "id": "1II12oBj7ynL"
      },
      "execution_count": 21,
      "outputs": []
    },
    {
      "cell_type": "code",
      "source": [
        "train.loc[Lenght_out_index, 'Lenght'] = None"
      ],
      "metadata": {
        "id": "LHKP2oSK5CQa"
      },
      "execution_count": 22,
      "outputs": []
    },
    {
      "cell_type": "code",
      "source": [
        "test.loc[Lenght_out_index_t, 'Lenght'] = None"
      ],
      "metadata": {
        "id": "QV5BtMTS8LYv"
      },
      "execution_count": 23,
      "outputs": []
    },
    {
      "cell_type": "code",
      "source": [
        "len_data = train.loc[train['Lenght'].notna() == True]\n",
        "na_len_data = train.loc[train['Lenght'].isna() == True]\n"
      ],
      "metadata": {
        "id": "_06pCBW98ir9"
      },
      "execution_count": 24,
      "outputs": []
    },
    {
      "cell_type": "code",
      "source": [
        "len_data_t = test.loc[test['Lenght'].notna() == True]\n",
        "na_len_data_t = test.loc[test['Lenght'].isna() == True]\n"
      ],
      "metadata": {
        "id": "J-vM31Lg8O5R"
      },
      "execution_count": 25,
      "outputs": []
    },
    {
      "cell_type": "code",
      "source": [
        "len_data.columns"
      ],
      "metadata": {
        "colab": {
          "base_uri": "https://localhost:8080/"
        },
        "id": "9pB2ame_8u_o",
        "outputId": "a5401f1e-eca5-4e4c-dc8f-e83a4141df38"
      },
      "execution_count": 26,
      "outputs": [
        {
          "output_type": "execute_result",
          "data": {
            "text/plain": [
              "Index(['Gender', 'Lenght', 'Diameter', 'Height', 'Whole Weight',\n",
              "       'Shucked Weight', 'Viscra Weight', 'Shell Weight', 'Target'],\n",
              "      dtype='object')"
            ]
          },
          "metadata": {},
          "execution_count": 26
        }
      ]
    },
    {
      "cell_type": "code",
      "source": [
        "len_data_t.columns"
      ],
      "metadata": {
        "colab": {
          "base_uri": "https://localhost:8080/"
        },
        "id": "4YaPowS-8W6U",
        "outputId": "269f5748-7779-4c98-a40a-a7fefdffaad5"
      },
      "execution_count": 27,
      "outputs": [
        {
          "output_type": "execute_result",
          "data": {
            "text/plain": [
              "Index(['Gender', 'Lenght', 'Diameter', 'Height', 'Whole Weight',\n",
              "       'Shucked Weight', 'Viscra Weight', 'Shell Weight'],\n",
              "      dtype='object')"
            ]
          },
          "metadata": {},
          "execution_count": 27
        }
      ]
    },
    {
      "cell_type": "code",
      "source": [
        "features_len = [\n",
        "    'Gender', 'Diameter', 'Height', 'Whole Weight',\n",
        "       'Shucked Weight', 'Viscra Weight', 'Shell Weight', 'Target'\n",
        "]\n"
      ],
      "metadata": {
        "id": "Z438u1Q3839A"
      },
      "execution_count": 28,
      "outputs": []
    },
    {
      "cell_type": "code",
      "source": [
        "features_len_t = ['Gender',  'Diameter', 'Height', 'Whole Weight',\n",
        "       'Shucked Weight', 'Viscra Weight', 'Shell Weight']"
      ],
      "metadata": {
        "id": "SIzmyKtk8fDf"
      },
      "execution_count": 29,
      "outputs": []
    },
    {
      "cell_type": "code",
      "source": [
        "train_len = len_data[features_len]\n",
        "test_len = len_data['Lenght']"
      ],
      "metadata": {
        "id": "7n19Eeh99O70"
      },
      "execution_count": 30,
      "outputs": []
    },
    {
      "cell_type": "code",
      "source": [
        "train_len_t = len_data_t[features_len_t]\n",
        "test_len_t = len_data_t['Lenght']"
      ],
      "metadata": {
        "id": "rvA-Zpcx8itd"
      },
      "execution_count": 31,
      "outputs": []
    },
    {
      "cell_type": "code",
      "source": [
        "from sklearn.model_selection import train_test_split"
      ],
      "metadata": {
        "id": "QtuVHQBr9ZtG"
      },
      "execution_count": 32,
      "outputs": []
    },
    {
      "cell_type": "code",
      "source": [
        "x_train_len, x_test_len, y_train_len, y_test_len = train_test_split(train_len, test_len, random_state=23, test_size=0.1)\n",
        "x_train_lent, x_test_lent, y_train_lent, y_test_lent = train_test_split(train_len_t, test_len_t, random_state=23, test_size=0.1)\n"
      ],
      "metadata": {
        "id": "5f4K5dXb9bA2"
      },
      "execution_count": 33,
      "outputs": []
    },
    {
      "cell_type": "code",
      "source": [
        "from sklearn.ensemble import RandomForestRegressor\n",
        "from sklearn.neighbors import KNeighborsRegressor\n",
        "from sklearn.linear_model import LinearRegression\n",
        "from sklearn.linear_model import LogisticRegression\n",
        "from sklearn.ensemble import GradientBoostingRegressor\n",
        "from sklearn.ensemble import BaggingRegressor\n",
        "from xgboost import XGBRegressor\n",
        "from lightgbm import LGBMRegressor\n",
        "from sklearn.ensemble import AdaBoostRegressor\n",
        "from sklearn.svm import SVR\n",
        "from sklearn.linear_model import Ridge\n",
        "from sklearn.linear_model import Lasso\n",
        "\n"
      ],
      "metadata": {
        "id": "ba_ZBp-x-ZZ1"
      },
      "execution_count": 34,
      "outputs": []
    },
    {
      "cell_type": "code",
      "source": [
        "model_na_lgbm = LGBMRegressor().fit(train_len, test_len)\n",
        "pred_len = model_na_lgbm.predict(na_len_data[features_len])"
      ],
      "metadata": {
        "id": "pmRvwW_U_SSr"
      },
      "execution_count": 35,
      "outputs": []
    },
    {
      "cell_type": "code",
      "source": [
        "model_na_lgbmt = LGBMRegressor().fit(train_len_t, test_len_t)\n",
        "pred_lent = model_na_lgbmt.predict(na_len_data_t[features_len_t])"
      ],
      "metadata": {
        "id": "ai77wJyyCyJv"
      },
      "execution_count": 36,
      "outputs": []
    },
    {
      "cell_type": "code",
      "source": [
        "train.loc[Lenght_out_index, 'Lenght'] = pred_len\n",
        "test.loc[Lenght_out_index_t, 'Lenght'] = pred_lent"
      ],
      "metadata": {
        "id": "ao7oP2BRAeT5"
      },
      "execution_count": 37,
      "outputs": []
    },
    {
      "cell_type": "code",
      "source": [
        "test.isna().sum()"
      ],
      "metadata": {
        "colab": {
          "base_uri": "https://localhost:8080/"
        },
        "id": "VTwAkC-bAO3e",
        "outputId": "bb45f644-885b-49b9-d821-73df9fd8bc73"
      },
      "execution_count": 38,
      "outputs": [
        {
          "output_type": "execute_result",
          "data": {
            "text/plain": [
              "Gender            0\n",
              "Lenght            0\n",
              "Diameter          0\n",
              "Height            0\n",
              "Whole Weight      0\n",
              "Shucked Weight    0\n",
              "Viscra Weight     0\n",
              "Shell Weight      0\n",
              "dtype: int64"
            ]
          },
          "metadata": {},
          "execution_count": 38
        }
      ]
    },
    {
      "cell_type": "code",
      "source": [
        "train.loc[Diameter_out_index, 'Diameter'] = None\n",
        "test.loc[Diameter_out_index_t, 'Diameter'] = None"
      ],
      "metadata": {
        "id": "i1HKHu60AicV"
      },
      "execution_count": 39,
      "outputs": []
    },
    {
      "cell_type": "code",
      "source": [
        "dia_data = train.loc[train['Diameter'].notna() == True]\n",
        "na_dia_data = train.loc[train['Diameter'].isna() == True]\n",
        "\n",
        "dia_datat = test.loc[test['Diameter'].notna() == True]\n",
        "na_dia_datat = test.loc[test['Diameter'].isna() == True]\n"
      ],
      "metadata": {
        "id": "ZPJkb9mvAs2N"
      },
      "execution_count": 40,
      "outputs": []
    },
    {
      "cell_type": "code",
      "source": [
        "dia_data.columns"
      ],
      "metadata": {
        "colab": {
          "base_uri": "https://localhost:8080/"
        },
        "id": "OCD6CFxNBE_W",
        "outputId": "2fccb430-7096-49ba-9b6c-14ad1ebb8da9"
      },
      "execution_count": 41,
      "outputs": [
        {
          "output_type": "execute_result",
          "data": {
            "text/plain": [
              "Index(['Gender', 'Lenght', 'Diameter', 'Height', 'Whole Weight',\n",
              "       'Shucked Weight', 'Viscra Weight', 'Shell Weight', 'Target'],\n",
              "      dtype='object')"
            ]
          },
          "metadata": {},
          "execution_count": 41
        }
      ]
    },
    {
      "cell_type": "code",
      "source": [
        "dia_datat.columns"
      ],
      "metadata": {
        "colab": {
          "base_uri": "https://localhost:8080/"
        },
        "id": "jxNjB9znDbQI",
        "outputId": "2c3c8d9a-5f91-4fbd-b244-7877f3ba0c45"
      },
      "execution_count": 42,
      "outputs": [
        {
          "output_type": "execute_result",
          "data": {
            "text/plain": [
              "Index(['Gender', 'Lenght', 'Diameter', 'Height', 'Whole Weight',\n",
              "       'Shucked Weight', 'Viscra Weight', 'Shell Weight'],\n",
              "      dtype='object')"
            ]
          },
          "metadata": {},
          "execution_count": 42
        }
      ]
    },
    {
      "cell_type": "code",
      "source": [
        "features_dia = ['Gender', 'Lenght', 'Height', 'Whole Weight',\n",
        "       'Shucked Weight', 'Viscra Weight', 'Shell Weight', 'Target']"
      ],
      "metadata": {
        "id": "5H-ckmThBJRD"
      },
      "execution_count": 43,
      "outputs": []
    },
    {
      "cell_type": "code",
      "source": [
        "features_diat = ['Gender', 'Lenght', 'Height', 'Whole Weight',\n",
        "       'Shucked Weight', 'Viscra Weight', 'Shell Weight']"
      ],
      "metadata": {
        "id": "dSyk2EcHDefF"
      },
      "execution_count": 44,
      "outputs": []
    },
    {
      "cell_type": "code",
      "source": [
        "train_dia = dia_data[features_dia]\n",
        "test_dia = dia_data['Diameter']"
      ],
      "metadata": {
        "id": "thRyylkdBSf9"
      },
      "execution_count": 45,
      "outputs": []
    },
    {
      "cell_type": "code",
      "source": [
        "train_diat = dia_datat[features_diat]\n",
        "test_diat = dia_datat['Diameter']"
      ],
      "metadata": {
        "id": "JUQAZAo7D5bJ"
      },
      "execution_count": 46,
      "outputs": []
    },
    {
      "cell_type": "code",
      "source": [
        "x_train_dia, x_test_dia, y_train_dia, y_test_dia = train_test_split(train_dia, test_dia, random_state=23, test_size=0.1)\n",
        "x_train_diat, x_test_diat, y_train_diat, y_test_diat = train_test_split(train_diat, test_diat, random_state=23, test_size=0.1)"
      ],
      "metadata": {
        "id": "-UFs6tWyBSd0"
      },
      "execution_count": 47,
      "outputs": []
    },
    {
      "cell_type": "code",
      "source": [
        "model_na_lgbm = LGBMRegressor().fit(train_dia, test_dia)\n",
        "pred_dia = model_na_lgbm.predict(na_dia_data[features_dia])\n",
        "\n",
        "model_na_lgbmt = LGBMRegressor().fit(train_diat, test_diat)\n",
        "pred_diat = model_na_lgbmt.predict(na_dia_datat[features_diat])"
      ],
      "metadata": {
        "id": "fmbt5CU5BSXk"
      },
      "execution_count": 48,
      "outputs": []
    },
    {
      "cell_type": "code",
      "source": [
        "train.loc[Diameter_out_index, 'Diameter'] = pred_dia\n",
        "test.loc[Diameter_out_index_t, 'Diameter'] = pred_diat"
      ],
      "metadata": {
        "id": "JCgmSQR0CGze"
      },
      "execution_count": 49,
      "outputs": []
    },
    {
      "cell_type": "code",
      "source": [
        "train.loc[Height_out_index, 'Height'] = None\n",
        "test.loc[Height_out_index_t, 'Height'] = None"
      ],
      "metadata": {
        "id": "OT3paQZJCs--"
      },
      "execution_count": 50,
      "outputs": []
    },
    {
      "cell_type": "code",
      "source": [
        "h_data = train.loc[train['Height'].notna() == True]\n",
        "na_h_data = train.loc[train['Height'].isna() == True]\n",
        "\n",
        "\n",
        "h_datat = test.loc[test['Height'].notna() == True]\n",
        "na_h_datat = test.loc[test['Height'].isna() == True]\n"
      ],
      "metadata": {
        "id": "90p6zNhACx5S"
      },
      "execution_count": 51,
      "outputs": []
    },
    {
      "cell_type": "code",
      "source": [
        "h_data.columns"
      ],
      "metadata": {
        "colab": {
          "base_uri": "https://localhost:8080/"
        },
        "id": "wR_tKc7qC3t1",
        "outputId": "60f0d66b-c186-4116-ab2d-27b27804c7d0"
      },
      "execution_count": 52,
      "outputs": [
        {
          "output_type": "execute_result",
          "data": {
            "text/plain": [
              "Index(['Gender', 'Lenght', 'Diameter', 'Height', 'Whole Weight',\n",
              "       'Shucked Weight', 'Viscra Weight', 'Shell Weight', 'Target'],\n",
              "      dtype='object')"
            ]
          },
          "metadata": {},
          "execution_count": 52
        }
      ]
    },
    {
      "cell_type": "code",
      "source": [
        "h_datat.columns"
      ],
      "metadata": {
        "colab": {
          "base_uri": "https://localhost:8080/"
        },
        "id": "TM0BLKRpF8ND",
        "outputId": "a8b50217-ac31-4cc2-e3b1-94bcb1290013"
      },
      "execution_count": 53,
      "outputs": [
        {
          "output_type": "execute_result",
          "data": {
            "text/plain": [
              "Index(['Gender', 'Lenght', 'Diameter', 'Height', 'Whole Weight',\n",
              "       'Shucked Weight', 'Viscra Weight', 'Shell Weight'],\n",
              "      dtype='object')"
            ]
          },
          "metadata": {},
          "execution_count": 53
        }
      ]
    },
    {
      "cell_type": "code",
      "source": [
        "features_h = ['Gender', 'Lenght', 'Diameter', 'Whole Weight',\n",
        "       'Shucked Weight', 'Viscra Weight', 'Shell Weight', 'Target']\n"
      ],
      "metadata": {
        "id": "PQz2KaHvC55l"
      },
      "execution_count": 54,
      "outputs": []
    },
    {
      "cell_type": "code",
      "source": [
        "features_ht =  ['Gender', 'Lenght', 'Diameter',  'Whole Weight',\n",
        "       'Shucked Weight', 'Viscra Weight', 'Shell Weight']"
      ],
      "metadata": {
        "id": "j5z_a1WoF_i5"
      },
      "execution_count": 55,
      "outputs": []
    },
    {
      "cell_type": "code",
      "source": [
        "train_h = h_data[features_h]\n",
        "test_h = h_data['Height']"
      ],
      "metadata": {
        "id": "o81yWqZRtySO"
      },
      "execution_count": 56,
      "outputs": []
    },
    {
      "cell_type": "code",
      "source": [
        "train_ht = h_datat[features_ht]\n",
        "test_ht = h_datat['Height']"
      ],
      "metadata": {
        "id": "Wf0DJve-GD87"
      },
      "execution_count": 57,
      "outputs": []
    },
    {
      "cell_type": "code",
      "source": [
        "x_train_h, x_test_h, y_train_h, y_test_h = train_test_split(train_h, test_h, random_state=23, test_size=0.1)\n",
        "x_train_ht, x_test_ht, y_train_ht, y_test_ht = train_test_split(train_ht, test_ht, random_state=23, test_size=0.1)"
      ],
      "metadata": {
        "id": "SfqS4jY7t3Uo"
      },
      "execution_count": 58,
      "outputs": []
    },
    {
      "cell_type": "code",
      "source": [
        "model_na_lgbm = LGBMRegressor().fit(train_h, test_h)\n",
        "pred_h = model_na_lgbm.predict(na_h_data[features_h])\n",
        "\n",
        "model_na_lgbmt = LGBMRegressor().fit(train_ht, test_ht)\n",
        "pred_ht = model_na_lgbmt.predict(na_h_datat[features_ht])"
      ],
      "metadata": {
        "id": "J5dEexEat6MG"
      },
      "execution_count": 59,
      "outputs": []
    },
    {
      "cell_type": "code",
      "source": [
        "train.loc[Height_out_index, 'Height'] = pred_h\n",
        "test.loc[Height_out_index_t, 'Height'] = pred_ht"
      ],
      "metadata": {
        "id": "_BQG6hWUuL0V"
      },
      "execution_count": 60,
      "outputs": []
    },
    {
      "cell_type": "code",
      "source": [
        "train.loc[Whole_Weight_out_index, 'Whole Weight'] = None\n",
        "test.loc[Whole_Weight_out_index_t, 'Whole Weight'] = None"
      ],
      "metadata": {
        "id": "p_ctInx_uTeV"
      },
      "execution_count": 61,
      "outputs": []
    },
    {
      "cell_type": "code",
      "source": [
        "ww_data = train.loc[train['Whole Weight'].notna() == True]\n",
        "na_ww_data = train.loc[train['Whole Weight'].isna() == True]\n",
        "\n",
        "ww_datat = test.loc[test['Whole Weight'].notna() == True]\n",
        "na_ww_datat = test.loc[test['Whole Weight'].isna() == True]"
      ],
      "metadata": {
        "id": "iFPSUjxKuUoT"
      },
      "execution_count": 62,
      "outputs": []
    },
    {
      "cell_type": "code",
      "source": [
        "features_ww = ['Gender', 'Lenght', 'Diameter', 'Height',\n",
        "       'Shucked Weight', 'Viscra Weight', 'Shell Weight', 'Target']\n"
      ],
      "metadata": {
        "id": "lFLnHDKRuerK"
      },
      "execution_count": 63,
      "outputs": []
    },
    {
      "cell_type": "code",
      "source": [
        "features_wwt = ['Gender', 'Lenght', 'Diameter', 'Height',\n",
        "       'Shucked Weight', 'Viscra Weight', 'Shell Weight']"
      ],
      "metadata": {
        "id": "ooDM8Q1PGlGB"
      },
      "execution_count": 64,
      "outputs": []
    },
    {
      "cell_type": "code",
      "source": [
        "train_ww = ww_data[features_ww]\n",
        "test_ww = ww_data['Whole Weight']\n",
        "\n",
        "train_wwt = ww_datat[features_wwt]\n",
        "test_wwt = ww_datat['Whole Weight']\n"
      ],
      "metadata": {
        "id": "6qOPW-VJulbD"
      },
      "execution_count": 65,
      "outputs": []
    },
    {
      "cell_type": "code",
      "source": [
        "x_train_ww, x_test_ww, y_train_ww, y_test_ww = train_test_split(train_ww, test_ww, random_state=23, test_size=0.1)\n",
        "x_train_wwt, x_test_wwt, y_train_wwt, y_test_wwt = train_test_split(train_wwt, test_wwt, random_state=23, test_size=0.1)"
      ],
      "metadata": {
        "id": "9DBwvqUEurGe"
      },
      "execution_count": 66,
      "outputs": []
    },
    {
      "cell_type": "code",
      "source": [
        "model_na_lgbm = LGBMRegressor().fit(train_ww, test_ww)\n",
        "pred_ww = model_na_lgbm.predict(na_ww_data[features_ww])\n",
        "\n",
        "model_na_lgbmt = LGBMRegressor().fit(train_wwt, test_wwt)\n",
        "pred_wwt = model_na_lgbmt.predict(na_ww_datat[features_wwt])"
      ],
      "metadata": {
        "id": "EEZ2KQnmuyX_"
      },
      "execution_count": 67,
      "outputs": []
    },
    {
      "cell_type": "code",
      "source": [
        "train.loc[Whole_Weight_out_index, 'Whole Weight'] = pred_ww\n",
        "test.loc[Whole_Weight_out_index_t, 'Whole Weight'] = pred_wwt"
      ],
      "metadata": {
        "id": "0dTNdA6Hu5-T"
      },
      "execution_count": 68,
      "outputs": []
    },
    {
      "cell_type": "code",
      "source": [
        "train.loc[Shucked_out_index, 'Shucked Weight'] = None\n",
        "\n",
        "sw_data = train.loc[train['Shucked Weight'].notna() == True]\n",
        "na_sw_data = train.loc[train['Shucked Weight'].isna() == True]\n",
        "\n",
        "features_sw = ['Gender', 'Lenght', 'Diameter', 'Height', 'Whole Weight',\n",
        "        'Viscra Weight', 'Shell Weight', 'Target']\n",
        "\n",
        "train_sw = sw_data[features_sw]\n",
        "test_sw = sw_data['Shucked Weight']\n",
        "\n",
        "x_train_sw, x_test_sw, y_train_sw, y_test_sw = train_test_split(train_sw, test_sw, random_state=23, test_size=0.1)"
      ],
      "metadata": {
        "id": "rlwjBhXGvKT4"
      },
      "execution_count": 69,
      "outputs": []
    },
    {
      "cell_type": "code",
      "source": [
        "test.loc[Shucked_out_index_t, 'Shucked Weight'] = None\n",
        "\n",
        "sw_datat = test.loc[test['Shucked Weight'].notna() == True]\n",
        "na_sw_datat = test.loc[test['Shucked Weight'].isna() == True]\n",
        "\n",
        "features_swt = ['Gender', 'Lenght', 'Diameter', 'Height', 'Whole Weight',\n",
        "        'Viscra Weight', 'Shell Weight']\n",
        "\n",
        "train_swt = sw_datat[features_swt]\n",
        "test_swt = sw_datat['Shucked Weight']\n",
        "\n",
        "x_train_swt, x_test_swt, y_train_swt, y_test_swt = train_test_split(train_swt, test_swt, random_state=23, test_size=0.1)"
      ],
      "metadata": {
        "id": "vAYSjH2FHLgz"
      },
      "execution_count": 70,
      "outputs": []
    },
    {
      "cell_type": "code",
      "source": [
        "model_na_lgbm = LGBMRegressor().fit(train_sw, test_sw)\n",
        "pred_sw = model_na_lgbm.predict(na_sw_data[features_sw])\n",
        "\n",
        "train.loc[Shucked_out_index, 'Shucked Weight'] = pred_sw\n",
        "\n",
        "model_na_lgbmt = LGBMRegressor().fit(train_swt, test_swt)\n",
        "pred_swt = model_na_lgbmt.predict(na_sw_datat[features_swt])\n",
        "\n",
        "test.loc[Shucked_out_index_t, 'Shucked Weight'] = pred_swt"
      ],
      "metadata": {
        "id": "VX6a7-iLv7hr"
      },
      "execution_count": 71,
      "outputs": []
    },
    {
      "cell_type": "code",
      "source": [
        "train.loc[Viscra_out_index, 'Viscra Weight'] = None\n",
        "vw_data = train.loc[train['Viscra Weight'].notna() == True]\n",
        "na_vw_data = train.loc[train['Viscra Weight'].isna() == True]\n",
        "\n",
        "features_vw = ['Gender', 'Lenght', 'Diameter', 'Height', 'Whole Weight',\n",
        "       'Shucked Weight',  'Shell Weight', 'Target']\n",
        "\n",
        "test.loc[Viscra_out_index_t, 'Viscra Weight'] = None\n",
        "vw_datat = test.loc[test['Viscra Weight'].notna() == True]\n",
        "na_vw_datat = test.loc[test['Viscra Weight'].isna() == True]\n",
        "\n",
        "features_vwt = ['Gender', 'Lenght', 'Diameter', 'Height', 'Whole Weight',\n",
        "       'Shucked Weight',  'Shell Weight']"
      ],
      "metadata": {
        "id": "tGzVUNv3wJwj"
      },
      "execution_count": 72,
      "outputs": []
    },
    {
      "cell_type": "code",
      "source": [
        "train_vw = vw_data[features_vw]\n",
        "test_vw = vw_data['Viscra Weight']\n",
        "\n",
        "train_vwt = vw_datat[features_vwt]\n",
        "test_vwt = vw_datat['Viscra Weight']"
      ],
      "metadata": {
        "id": "SbYlBz79wjyS"
      },
      "execution_count": 73,
      "outputs": []
    },
    {
      "cell_type": "code",
      "source": [
        "x_train_vw, x_test_vw, y_train_vw, y_test_vw = train_test_split(train_vw, test_vw, random_state=23, test_size=0.1)\n",
        "x_train_vwt, x_test_vwt, y_train_vwt, y_test_vwt = train_test_split(train_vwt, test_vwt, random_state=23, test_size=0.1)"
      ],
      "metadata": {
        "id": "Zv-R5NVRwqCR"
      },
      "execution_count": 74,
      "outputs": []
    },
    {
      "cell_type": "code",
      "source": [
        "model_na_lgbm = LGBMRegressor().fit(train_vw, test_vw)\n",
        "pred_vw = model_na_lgbm.predict(na_vw_data[features_vw])\n",
        "\n",
        "model_na_lgbmt = LGBMRegressor().fit(train_vwt, test_vwt)\n",
        "pred_vwt = model_na_lgbmt.predict(na_vw_datat[features_vwt])"
      ],
      "metadata": {
        "id": "NIAYH1Nuwv-4"
      },
      "execution_count": 75,
      "outputs": []
    },
    {
      "cell_type": "code",
      "source": [
        "train.loc[Viscra_out_index, 'Viscra Weight'] = pred_vw\n",
        "test.loc[Viscra_out_index_t, 'Viscra Weight'] = pred_vwt"
      ],
      "metadata": {
        "id": "-ipfFNqeyWDA"
      },
      "execution_count": 76,
      "outputs": []
    },
    {
      "cell_type": "code",
      "source": [
        "train.loc[Shell_out_index, 'Shell Weight'] = None\n",
        "slw_data = train.loc[train['Shell Weight'].notna() == True]\n",
        "na_slw_data = train.loc[train['Shell Weight'].isna() == True]\n",
        "\n",
        "features_slw = ['Gender', 'Lenght', 'Diameter', 'Height', 'Whole Weight',\n",
        "       'Shucked Weight', 'Viscra Weight', 'Target']\n",
        "train_slw = slw_data[features_slw]\n",
        "test_slw = slw_data['Shell Weight']\n"
      ],
      "metadata": {
        "id": "wPvJlvWbw161"
      },
      "execution_count": 77,
      "outputs": []
    },
    {
      "cell_type": "code",
      "source": [
        "test.loc[Shell_out_index_t, 'Shell Weight'] = None\n",
        "slw_datat = test.loc[test['Shell Weight'].notna() == True]\n",
        "na_slw_datat = test.loc[test['Shell Weight'].isna() == True]\n",
        "\n",
        "features_slwt = ['Gender', 'Lenght', 'Diameter', 'Height', 'Whole Weight',\n",
        "       'Shucked Weight', 'Viscra Weight']\n",
        "train_slwt = slw_datat[features_slwt]\n",
        "test_slwt = slw_datat['Shell Weight']\n"
      ],
      "metadata": {
        "id": "Mn_9u8FSIeNK"
      },
      "execution_count": 78,
      "outputs": []
    },
    {
      "cell_type": "code",
      "source": [
        "test.loc[Shell_out_index_t, 'Shell Weight']"
      ],
      "metadata": {
        "colab": {
          "base_uri": "https://localhost:8080/"
        },
        "id": "nAVcpKrWL2Dm",
        "outputId": "fe99a3d2-2182-4f62-f7d2-bc0e9a14ed56"
      },
      "execution_count": 79,
      "outputs": [
        {
          "output_type": "execute_result",
          "data": {
            "text/plain": [
              "102    NaN\n",
              "112    NaN\n",
              "128    NaN\n",
              "365    NaN\n",
              "397    NaN\n",
              "568    NaN\n",
              "683    NaN\n",
              "718    NaN\n",
              "1000   NaN\n",
              "1010   NaN\n",
              "1080   NaN\n",
              "1390   NaN\n",
              "1429   NaN\n",
              "1488   NaN\n",
              "1507   NaN\n",
              "1898   NaN\n",
              "1962   NaN\n",
              "2101   NaN\n",
              "2117   NaN\n",
              "2128   NaN\n",
              "2181   NaN\n",
              "2210   NaN\n",
              "2231   NaN\n",
              "2239   NaN\n",
              "2253   NaN\n",
              "2385   NaN\n",
              "2464   NaN\n",
              "2668   NaN\n",
              "2875   NaN\n",
              "2881   NaN\n",
              "Name: Shell Weight, dtype: float64"
            ]
          },
          "metadata": {},
          "execution_count": 79
        }
      ]
    },
    {
      "cell_type": "code",
      "source": [
        "len(na_slw_datat)"
      ],
      "metadata": {
        "colab": {
          "base_uri": "https://localhost:8080/"
        },
        "id": "uGBNwRaTL7f6",
        "outputId": "d094ef13-6623-48d5-ae9f-a1b811bd1acf"
      },
      "execution_count": 80,
      "outputs": [
        {
          "output_type": "execute_result",
          "data": {
            "text/plain": [
              "30"
            ]
          },
          "metadata": {},
          "execution_count": 80
        }
      ]
    },
    {
      "cell_type": "code",
      "source": [
        "x_train_slw, x_test_slw, y_train_slw, y_test_slw = train_test_split(train_slw, test_slw, random_state=23, test_size=0.1)\n",
        "x_train_slwt, x_test_slwt, y_train_slwt, y_test_slwt = train_test_split(train_slwt, test_slwt, random_state=23, test_size=0.1)"
      ],
      "metadata": {
        "id": "eZT2i8YFxPhb"
      },
      "execution_count": 81,
      "outputs": []
    },
    {
      "cell_type": "code",
      "source": [
        "model_na_lgbm = LGBMRegressor().fit(train_slw, test_slw)\n",
        "pred_slw = model_na_lgbm.predict(na_slw_data[features_slw])\n",
        "\n",
        "train.loc[Shell_out_index, 'Shell Weight'] = pred_slw\n",
        "\n",
        "model_na_lgbmt = LGBMRegressor().fit(train_slwt, test_slwt)\n",
        "pred_slwt = model_na_lgbmt.predict(na_slw_datat[features_slwt])\n"
      ],
      "metadata": {
        "id": "MLSVGQC0xWbP"
      },
      "execution_count": 83,
      "outputs": []
    },
    {
      "cell_type": "code",
      "source": [
        "\n",
        "test.loc[Shell_out_index_t, 'Shell Weight'] = pred_slwt"
      ],
      "metadata": {
        "id": "q36KUkekODvK"
      },
      "execution_count": 84,
      "outputs": []
    },
    {
      "cell_type": "code",
      "source": [
        "\n",
        "plt.figure(figsize = (15,20))\n",
        "for i in range(len(train.columns)-1):\n",
        "  plt.subplot(5,5,i+1)\n",
        "  plt.xlabel(train.columns[i])\n",
        "  plt.boxplot(train[train.columns[i]])\n",
        "  "
      ],
      "metadata": {
        "colab": {
          "base_uri": "https://localhost:8080/",
          "height": 478
        },
        "id": "qpUvxnivt9Pm",
        "outputId": "5d30d509-eab3-458d-810c-0056256eaa2c"
      },
      "execution_count": 85,
      "outputs": [
        {
          "output_type": "display_data",
          "data": {
            "text/plain": [
              "<Figure size 1080x1440 with 8 Axes>"
            ],
            "image/png": "[encoded data removed]"
          },
          "metadata": {
            "needs_background": "light"
          }
        }
      ]
    },
    {
      "cell_type": "code",
      "source": [
        "\n",
        "plt.figure(figsize = (15,20))\n",
        "for i in range(len(test.columns)-1):\n",
        "  plt.subplot(5,5,i+1)\n",
        "  plt.xlabel(test.columns[i])\n",
        "  plt.boxplot(test[test.columns[i]])\n",
        "  "
      ],
      "metadata": {
        "colab": {
          "base_uri": "https://localhost:8080/",
          "height": 478
        },
        "id": "KeCB4VSKONwH",
        "outputId": "15d8514e-b7f3-42e6-d011-658fd12c9f9c"
      },
      "execution_count": 86,
      "outputs": [
        {
          "output_type": "display_data",
          "data": {
            "text/plain": [
              "<Figure size 1080x1440 with 7 Axes>"
            ],
            "image/png": "[encoded data removed]"
          },
          "metadata": {
            "needs_background": "light"
          }
        }
      ]
    },
    {
      "cell_type": "code",
      "source": [
        "train[train[\"Whole Weight\"] < train[\"Shucked Weight\"] + train[\"Shell Weight\"]]"
      ],
      "metadata": {
        "colab": {
          "base_uri": "https://localhost:8080/",
          "height": 206
        },
        "id": "1FGXZ5qX6P2V",
        "outputId": "254ecd2d-d2a4-40b4-d127-736cd4962b5e"
      },
      "execution_count": 87,
      "outputs": [
        {
          "output_type": "execute_result",
          "data": {
            "text/plain": [
              "      Gender  Lenght  Diameter  Height  Whole Weight  Shucked Weight  \\\n",
              "47         0   0.380     0.275   0.095        0.1375          0.0860   \n",
              "382        0   0.455     0.330   0.100        0.3720          0.3580   \n",
              "435        0   0.475     0.365   0.100        0.1315          0.2025   \n",
              "847        0   0.230     0.165   0.060        0.0515          0.0190   \n",
              "1078       0   0.275     0.205   0.070        0.1055          0.4950   \n",
              "\n",
              "      Viscra Weight  Shell Weight  Target  \n",
              "47           0.0585        0.0605       7  \n",
              "382          0.0775        0.1100       8  \n",
              "435          0.0875        0.1230       7  \n",
              "847          0.0145        0.0360       4  \n",
              "1078         0.0190        0.0315       5  "
            ],
            "text/html": [
              "\n",
              "  <div id=\"df-d77e774a-5af0-4cb7-b796-2891dd7759c1\">\n",
              "    <div class=\"colab-df-container\">\n",
              "      <div>\n",
              "<style scoped>\n",
              "    .dataframe tbody tr th:only-of-type {\n",
              "        vertical-align: middle;\n",
              "    }\n",
              "\n",
              "    .dataframe tbody tr th {\n",
              "        vertical-align: top;\n",
              "    }\n",
              "\n",
              "    .dataframe thead th {\n",
              "        text-align: right;\n",
              "    }\n",
              "</style>\n",
              "<table border=\"1\" class=\"dataframe\">\n",
              "  <thead>\n",
              "    <tr style=\"text-align: right;\">\n",
              "      <th></th>\n",
              "      <th>Gender</th>\n",
              "      <th>Lenght</th>\n",
              "      <th>Diameter</th>\n",
              "      <th>Height</th>\n",
              "      <th>Whole Weight</th>\n",
              "      <th>Shucked Weight</th>\n",
              "      <th>Viscra Weight</th>\n",
              "      <th>Shell Weight</th>\n",
              "      <th>Target</th>\n",
              "    </tr>\n",
              "  </thead>\n",
              "  <tbody>\n",
              "    <tr>\n",
              "      <th>47</th>\n",
              "      <td>0</td>\n",
              "      <td>0.380</td>\n",
              "      <td>0.275</td>\n",
              "      <td>0.095</td>\n",
              "      <td>0.1375</td>\n",
              "      <td>0.0860</td>\n",
              "      <td>0.0585</td>\n",
              "      <td>0.0605</td>\n",
              "      <td>7</td>\n",
              "    </tr>\n",
              "    <tr>\n",
              "      <th>382</th>\n",
              "      <td>0</td>\n",
              "      <td>0.455</td>\n",
              "      <td>0.330</td>\n",
              "      <td>0.100</td>\n",
              "      <td>0.3720</td>\n",
              "      <td>0.3580</td>\n",
              "      <td>0.0775</td>\n",
              "      <td>0.1100</td>\n",
              "      <td>8</td>\n",
              "    </tr>\n",
              "    <tr>\n",
              "      <th>435</th>\n",
              "      <td>0</td>\n",
              "      <td>0.475</td>\n",
              "      <td>0.365</td>\n",
              "      <td>0.100</td>\n",
              "      <td>0.1315</td>\n",
              "      <td>0.2025</td>\n",
              "      <td>0.0875</td>\n",
              "      <td>0.1230</td>\n",
              "      <td>7</td>\n",
              "    </tr>\n",
              "    <tr>\n",
              "      <th>847</th>\n",
              "      <td>0</td>\n",
              "      <td>0.230</td>\n",
              "      <td>0.165</td>\n",
              "      <td>0.060</td>\n",
              "      <td>0.0515</td>\n",
              "      <td>0.0190</td>\n",
              "      <td>0.0145</td>\n",
              "      <td>0.0360</td>\n",
              "      <td>4</td>\n",
              "    </tr>\n",
              "    <tr>\n",
              "      <th>1078</th>\n",
              "      <td>0</td>\n",
              "      <td>0.275</td>\n",
              "      <td>0.205</td>\n",
              "      <td>0.070</td>\n",
              "      <td>0.1055</td>\n",
              "      <td>0.4950</td>\n",
              "      <td>0.0190</td>\n",
              "      <td>0.0315</td>\n",
              "      <td>5</td>\n",
              "    </tr>\n",
              "  </tbody>\n",
              "</table>\n",
              "</div>\n",
              "      <button class=\"colab-df-convert\" onclick=\"convertToInteractive('df-d77e774a-5af0-4cb7-b796-2891dd7759c1')\"\n",
              "              title=\"Convert this dataframe to an interactive table.\"\n",
              "              style=\"display:none;\">\n",
              "        \n",
              "  <svg xmlns=\"http://www.w3.org/2000/svg\" height=\"24px\"viewBox=\"0 0 24 24\"\n",
              "       width=\"24px\">\n",
              "    <path d=\"M0 0h24v24H0V0z\" fill=\"none\"/>\n",
              "    <path d=\"M18.56 5.44l.94 2.06.94-2.06 2.06-.94-2.06-.94-.94-2.06-.94 2.06-2.06.94zm-11 1L8.5 8.5l.94-2.06 2.06-.94-2.06-.94L8.5 2.5l-.94 2.06-2.06.94zm10 10l.94 2.06.94-2.06 2.06-.94-2.06-.94-.94-2.06-.94 2.06-2.06.94z\"/><path d=\"M17.41 7.96l-1.37-1.37c-.4-.4-.92-.59-1.43-.59-.52 0-1.04.2-1.43.59L10.3 9.45l-7.72 7.72c-.78.78-.78 2.05 0 2.83L4 21.41c.39.39.9.59 1.41.59.51 0 1.02-.2 1.41-.59l7.78-7.78 2.81-2.81c.8-.78.8-2.07 0-2.86zM5.41 20L4 18.59l7.72-7.72 1.47 1.35L5.41 20z\"/>\n",
              "  </svg>\n",
              "      </button>\n",
              "      \n",
              "  <style>\n",
              "    .colab-df-container {\n",
              "      display:flex;\n",
              "      flex-wrap:wrap;\n",
              "      gap: 12px;\n",
              "    }\n",
              "\n",
              "    .colab-df-convert {\n",
              "      background-color: #E8F0FE;\n",
              "      border: none;\n",
              "      border-radius: 50%;\n",
              "      cursor: pointer;\n",
              "      display: none;\n",
              "      fill: #1967D2;\n",
              "      height: 32px;\n",
              "      padding: 0 0 0 0;\n",
              "      width: 32px;\n",
              "    }\n",
              "\n",
              "    .colab-df-convert:hover {\n",
              "      background-color: #E2EBFA;\n",
              "      box-shadow: 0px 1px 2px rgba(60, 64, 67, 0.3), 0px 1px 3px 1px rgba(60, 64, 67, 0.15);\n",
              "      fill: #174EA6;\n",
              "    }\n",
              "\n",
              "    [theme=dark] .colab-df-convert {\n",
              "      background-color: #3B4455;\n",
              "      fill: #D2E3FC;\n",
              "    }\n",
              "\n",
              "    [theme=dark] .colab-df-convert:hover {\n",
              "      background-color: #434B5C;\n",
              "      box-shadow: 0px 1px 3px 1px rgba(0, 0, 0, 0.15);\n",
              "      filter: drop-shadow(0px 1px 2px rgba(0, 0, 0, 0.3));\n",
              "      fill: #FFFFFF;\n",
              "    }\n",
              "  </style>\n",
              "\n",
              "      <script>\n",
              "        const buttonEl =\n",
              "          document.querySelector('#df-d77e774a-5af0-4cb7-b796-2891dd7759c1 button.colab-df-convert');\n",
              "        buttonEl.style.display =\n",
              "          google.colab.kernel.accessAllowed ? 'block' : 'none';\n",
              "\n",
              "        async function convertToInteractive(key) {\n",
              "          const element = document.querySelector('#df-d77e774a-5af0-4cb7-b796-2891dd7759c1');\n",
              "          const dataTable =\n",
              "            await google.colab.kernel.invokeFunction('convertToInteractive',\n",
              "                                                     [key], {});\n",
              "          if (!dataTable) return;\n",
              "\n",
              "          const docLinkHtml = 'Like what you see? Visit the ' +\n",
              "            '<a target=\"_blank\" href=https://colab.research.google.com/notebooks/data_table.ipynb>data table notebook</a>'\n",
              "            + ' to learn more about interactive tables.';\n",
              "          element.innerHTML = '';\n",
              "          dataTable['output_type'] = 'display_data';\n",
              "          await google.colab.output.renderOutput(dataTable, element);\n",
              "          const docLink = document.createElement('div');\n",
              "          docLink.innerHTML = docLinkHtml;\n",
              "          element.appendChild(docLink);\n",
              "        }\n",
              "      </script>\n",
              "    </div>\n",
              "  </div>\n",
              "  "
            ]
          },
          "metadata": {},
          "execution_count": 87
        }
      ]
    },
    {
      "cell_type": "code",
      "source": [
        "train = train[train[\"Whole Weight\"] >= train[\"Shucked Weight\"] + train[\"Shell Weight\"]]"
      ],
      "metadata": {
        "id": "VHpvGa9g6SwI"
      },
      "execution_count": 88,
      "outputs": []
    },
    {
      "cell_type": "code",
      "source": [
        "train[train[\"Shucked Weight\"] < train[\"Viscra Weight\"]]"
      ],
      "metadata": {
        "colab": {
          "base_uri": "https://localhost:8080/",
          "height": 81
        },
        "id": "xEfm0meI6Vf0",
        "outputId": "5315a974-ec83-48bc-9641-0538e78a6a5b"
      },
      "execution_count": 89,
      "outputs": [
        {
          "output_type": "execute_result",
          "data": {
            "text/plain": [
              "     Gender  Lenght  Diameter  Height  Whole Weight  Shucked Weight  \\\n",
              "465       1   0.415     0.315   0.125         0.388           0.068   \n",
              "\n",
              "     Viscra Weight  Shell Weight  Target  \n",
              "465           0.09         0.125      12  "
            ],
            "text/html": [
              "\n",
              "  <div id=\"df-cb271b7b-fbd0-457e-833d-f304acac63a1\">\n",
              "    <div class=\"colab-df-container\">\n",
              "      <div>\n",
              "<style scoped>\n",
              "    .dataframe tbody tr th:only-of-type {\n",
              "        vertical-align: middle;\n",
              "    }\n",
              "\n",
              "    .dataframe tbody tr th {\n",
              "        vertical-align: top;\n",
              "    }\n",
              "\n",
              "    .dataframe thead th {\n",
              "        text-align: right;\n",
              "    }\n",
              "</style>\n",
              "<table border=\"1\" class=\"dataframe\">\n",
              "  <thead>\n",
              "    <tr style=\"text-align: right;\">\n",
              "      <th></th>\n",
              "      <th>Gender</th>\n",
              "      <th>Lenght</th>\n",
              "      <th>Diameter</th>\n",
              "      <th>Height</th>\n",
              "      <th>Whole Weight</th>\n",
              "      <th>Shucked Weight</th>\n",
              "      <th>Viscra Weight</th>\n",
              "      <th>Shell Weight</th>\n",
              "      <th>Target</th>\n",
              "    </tr>\n",
              "  </thead>\n",
              "  <tbody>\n",
              "    <tr>\n",
              "      <th>465</th>\n",
              "      <td>1</td>\n",
              "      <td>0.415</td>\n",
              "      <td>0.315</td>\n",
              "      <td>0.125</td>\n",
              "      <td>0.388</td>\n",
              "      <td>0.068</td>\n",
              "      <td>0.09</td>\n",
              "      <td>0.125</td>\n",
              "      <td>12</td>\n",
              "    </tr>\n",
              "  </tbody>\n",
              "</table>\n",
              "</div>\n",
              "      <button class=\"colab-df-convert\" onclick=\"convertToInteractive('df-cb271b7b-fbd0-457e-833d-f304acac63a1')\"\n",
              "              title=\"Convert this dataframe to an interactive table.\"\n",
              "              style=\"display:none;\">\n",
              "        \n",
              "  <svg xmlns=\"http://www.w3.org/2000/svg\" height=\"24px\"viewBox=\"0 0 24 24\"\n",
              "       width=\"24px\">\n",
              "    <path d=\"M0 0h24v24H0V0z\" fill=\"none\"/>\n",
              "    <path d=\"M18.56 5.44l.94 2.06.94-2.06 2.06-.94-2.06-.94-.94-2.06-.94 2.06-2.06.94zm-11 1L8.5 8.5l.94-2.06 2.06-.94-2.06-.94L8.5 2.5l-.94 2.06-2.06.94zm10 10l.94 2.06.94-2.06 2.06-.94-2.06-.94-.94-2.06-.94 2.06-2.06.94z\"/><path d=\"M17.41 7.96l-1.37-1.37c-.4-.4-.92-.59-1.43-.59-.52 0-1.04.2-1.43.59L10.3 9.45l-7.72 7.72c-.78.78-.78 2.05 0 2.83L4 21.41c.39.39.9.59 1.41.59.51 0 1.02-.2 1.41-.59l7.78-7.78 2.81-2.81c.8-.78.8-2.07 0-2.86zM5.41 20L4 18.59l7.72-7.72 1.47 1.35L5.41 20z\"/>\n",
              "  </svg>\n",
              "      </button>\n",
              "      \n",
              "  <style>\n",
              "    .colab-df-container {\n",
              "      display:flex;\n",
              "      flex-wrap:wrap;\n",
              "      gap: 12px;\n",
              "    }\n",
              "\n",
              "    .colab-df-convert {\n",
              "      background-color: #E8F0FE;\n",
              "      border: none;\n",
              "      border-radius: 50%;\n",
              "      cursor: pointer;\n",
              "      display: none;\n",
              "      fill: #1967D2;\n",
              "      height: 32px;\n",
              "      padding: 0 0 0 0;\n",
              "      width: 32px;\n",
              "    }\n",
              "\n",
              "    .colab-df-convert:hover {\n",
              "      background-color: #E2EBFA;\n",
              "      box-shadow: 0px 1px 2px rgba(60, 64, 67, 0.3), 0px 1px 3px 1px rgba(60, 64, 67, 0.15);\n",
              "      fill: #174EA6;\n",
              "    }\n",
              "\n",
              "    [theme=dark] .colab-df-convert {\n",
              "      background-color: #3B4455;\n",
              "      fill: #D2E3FC;\n",
              "    }\n",
              "\n",
              "    [theme=dark] .colab-df-convert:hover {\n",
              "      background-color: #434B5C;\n",
              "      box-shadow: 0px 1px 3px 1px rgba(0, 0, 0, 0.15);\n",
              "      filter: drop-shadow(0px 1px 2px rgba(0, 0, 0, 0.3));\n",
              "      fill: #FFFFFF;\n",
              "    }\n",
              "  </style>\n",
              "\n",
              "      <script>\n",
              "        const buttonEl =\n",
              "          document.querySelector('#df-cb271b7b-fbd0-457e-833d-f304acac63a1 button.colab-df-convert');\n",
              "        buttonEl.style.display =\n",
              "          google.colab.kernel.accessAllowed ? 'block' : 'none';\n",
              "\n",
              "        async function convertToInteractive(key) {\n",
              "          const element = document.querySelector('#df-cb271b7b-fbd0-457e-833d-f304acac63a1');\n",
              "          const dataTable =\n",
              "            await google.colab.kernel.invokeFunction('convertToInteractive',\n",
              "                                                     [key], {});\n",
              "          if (!dataTable) return;\n",
              "\n",
              "          const docLinkHtml = 'Like what you see? Visit the ' +\n",
              "            '<a target=\"_blank\" href=https://colab.research.google.com/notebooks/data_table.ipynb>data table notebook</a>'\n",
              "            + ' to learn more about interactive tables.';\n",
              "          element.innerHTML = '';\n",
              "          dataTable['output_type'] = 'display_data';\n",
              "          await google.colab.output.renderOutput(dataTable, element);\n",
              "          const docLink = document.createElement('div');\n",
              "          docLink.innerHTML = docLinkHtml;\n",
              "          element.appendChild(docLink);\n",
              "        }\n",
              "      </script>\n",
              "    </div>\n",
              "  </div>\n",
              "  "
            ]
          },
          "metadata": {},
          "execution_count": 89
        }
      ]
    },
    {
      "cell_type": "code",
      "source": [
        "train = train[train[\"Shucked Weight\"] >= train[\"Viscra Weight\"]]"
      ],
      "metadata": {
        "id": "AJf4GP5L6Xrk"
      },
      "execution_count": 90,
      "outputs": []
    },
    {
      "cell_type": "code",
      "source": [
        "train[(train['Whole Weight'] - (train['Shucked Weight'] + train['Viscra Weight'] + train['Shell Weight']))<0]\n"
      ],
      "metadata": {
        "colab": {
          "base_uri": "https://localhost:8080/",
          "height": 1000
        },
        "id": "1vwoqqP86aQq",
        "outputId": "90043017-9f75-476c-d5a4-f9099f940122"
      },
      "execution_count": 91,
      "outputs": [
        {
          "output_type": "execute_result",
          "data": {
            "text/plain": [
              "      Gender    Lenght  Diameter  Height  Whole Weight  Shucked Weight  \\\n",
              "119        0  0.375000  0.280000   0.080        0.2165          0.0935   \n",
              "129        0  0.485000  0.365000   0.140        0.4475          0.1895   \n",
              "179        0  0.215000  0.155000   0.060        0.0525          0.0210   \n",
              "224        0  0.450000  0.335000   0.105        0.4470          0.2335   \n",
              "290       -1  0.480000  0.380000   0.145        0.5900          0.2320   \n",
              "324        0  0.420000  0.330000   0.100        0.3520          0.1635   \n",
              "346        0  0.260000  0.215000   0.080        0.0990          0.0370   \n",
              "368        0  0.290000  0.225000   0.075        0.1520          0.0710   \n",
              "374        0  0.360000  0.275000   0.095        0.2170          0.0840   \n",
              "418        0  0.410000  0.330000   0.105        0.3350          0.1525   \n",
              "430        1  0.340000  0.265000   0.085        0.1835          0.0770   \n",
              "544        1  0.335000  0.265000   0.105        0.2220          0.0935   \n",
              "599        0  0.310000  0.225000   0.050        0.1445          0.0675   \n",
              "637        1  0.505000  0.395000   0.135        0.5915          0.2880   \n",
              "692        0  0.380000  0.300000   0.090        0.2770          0.1655   \n",
              "765        0  0.360000  0.280000   0.080        0.1755          0.0810   \n",
              "794       -1  0.375000  0.290000   0.080        0.2820          0.1405   \n",
              "799        1  0.460000  0.355000   0.110        0.4150          0.2150   \n",
              "807       -1  0.400000  0.335000   0.115        0.4335          0.2105   \n",
              "817        1  0.475000  0.395000   0.135        0.5920          0.2465   \n",
              "856        1  0.620000  0.470000   0.150        1.3090          0.5870   \n",
              "922        1  0.650000  0.525000   0.205        1.4275          0.6900   \n",
              "987        0  0.635000  0.500000   0.180        1.3190          0.5485   \n",
              "989       -1  0.520000  0.425000   0.150        0.8130          0.3850   \n",
              "1013       0  0.217997  0.163262   0.045        0.0275          0.0125   \n",
              "1020      -1  0.620000  0.480000   0.165        1.0125          0.5325   \n",
              "1035       1  0.540000  0.420000   0.190        0.6855          0.2930   \n",
              "1041       0  0.315000  0.210000   0.060        0.1250          0.0600   \n",
              "1057      -1  0.575000  0.465000   0.195        0.9965          0.4170   \n",
              "1090      -1  0.435000  0.350000   0.105        0.4195          0.1940   \n",
              "1110       0  0.325000  0.240000   0.075        0.1525          0.0720   \n",
              "1112       0  0.205000  0.150000   0.055        0.0420          0.0255   \n",
              "1146       1  0.455000  0.350000   0.120        0.4835          0.1815   \n",
              "1177       0  0.320000  0.255000   0.100        0.1755          0.0730   \n",
              "1180       0  0.335000  0.260000   0.100        0.1920          0.0785   \n",
              "1182       0  0.370000  0.270000   0.095        0.2320          0.1325   \n",
              "1203       0  0.235000  0.160000   0.040        0.0480          0.0185   \n",
              "\n",
              "      Viscra Weight  Shell Weight  Target  \n",
              "119          0.0925        0.0700       7  \n",
              "129          0.0925        0.2305       8  \n",
              "179          0.0165        0.0150       5  \n",
              "224          0.1530        0.1190       7  \n",
              "290          0.1410        0.2300      12  \n",
              "324          0.0890        0.1000       9  \n",
              "346          0.0255        0.0450       5  \n",
              "368          0.0590        0.0450       9  \n",
              "374          0.0435        0.0900       7  \n",
              "418          0.0740        0.1100       7  \n",
              "430          0.0460        0.0650      10  \n",
              "544          0.0560        0.0750       7  \n",
              "599          0.0385        0.0450       6  \n",
              "637          0.1315        0.1850      12  \n",
              "692          0.0625        0.0820       6  \n",
              "765          0.0505        0.0700       6  \n",
              "794          0.0725        0.0800       7  \n",
              "799          0.0820        0.1300      12  \n",
              "807          0.1205        0.1200      10  \n",
              "817          0.1645        0.2000      13  \n",
              "856          0.4405        0.3250       9  \n",
              "922          0.3060        0.4355      13  \n",
              "987          0.2920        0.4900      16  \n",
              "989          0.2015        0.2300      10  \n",
              "1013         0.0100        0.0090       3  \n",
              "1020         0.4365        0.3240      10  \n",
              "1035         0.1630        0.3800      10  \n",
              "1041         0.0375        0.0350       5  \n",
              "1057         0.2470        0.4700       8  \n",
              "1090         0.1005        0.1300       7  \n",
              "1110         0.0645        0.0430       6  \n",
              "1112         0.0150        0.0120       5  \n",
              "1146         0.1440        0.1600      11  \n",
              "1177         0.0415        0.0650       7  \n",
              "1180         0.0585        0.0700       8  \n",
              "1182         0.0410        0.0615       6  \n",
              "1203         0.0180        0.0150       5  "
            ],
            "text/html": [
              "\n",
              "  <div id=\"df-3a02f9dd-9071-49d0-954b-14ee3665fd19\">\n",
              "    <div class=\"colab-df-container\">\n",
              "      <div>\n",
              "<style scoped>\n",
              "    .dataframe tbody tr th:only-of-type {\n",
              "        vertical-align: middle;\n",
              "    }\n",
              "\n",
              "    .dataframe tbody tr th {\n",
              "        vertical-align: top;\n",
              "    }\n",
              "\n",
              "    .dataframe thead th {\n",
              "        text-align: right;\n",
              "    }\n",
              "</style>\n",
              "<table border=\"1\" class=\"dataframe\">\n",
              "  <thead>\n",
              "    <tr style=\"text-align: right;\">\n",
              "      <th></th>\n",
              "      <th>Gender</th>\n",
              "      <th>Lenght</th>\n",
              "      <th>Diameter</th>\n",
              "      <th>Height</th>\n",
              "      <th>Whole Weight</th>\n",
              "      <th>Shucked Weight</th>\n",
              "      <th>Viscra Weight</th>\n",
              "      <th>Shell Weight</th>\n",
              "      <th>Target</th>\n",
              "    </tr>\n",
              "  </thead>\n",
              "  <tbody>\n",
              "    <tr>\n",
              "      <th>119</th>\n",
              "      <td>0</td>\n",
              "      <td>0.375000</td>\n",
              "      <td>0.280000</td>\n",
              "      <td>0.080</td>\n",
              "      <td>0.2165</td>\n",
              "      <td>0.0935</td>\n",
              "      <td>0.0925</td>\n",
              "      <td>0.0700</td>\n",
              "      <td>7</td>\n",
              "    </tr>\n",
              "    <tr>\n",
              "      <th>129</th>\n",
              "      <td>0</td>\n",
              "      <td>0.485000</td>\n",
              "      <td>0.365000</td>\n",
              "      <td>0.140</td>\n",
              "      <td>0.4475</td>\n",
              "      <td>0.1895</td>\n",
              "      <td>0.0925</td>\n",
              "      <td>0.2305</td>\n",
              "      <td>8</td>\n",
              "    </tr>\n",
              "    <tr>\n",
              "      <th>179</th>\n",
              "      <td>0</td>\n",
              "      <td>0.215000</td>\n",
              "      <td>0.155000</td>\n",
              "      <td>0.060</td>\n",
              "      <td>0.0525</td>\n",
              "      <td>0.0210</td>\n",
              "      <td>0.0165</td>\n",
              "      <td>0.0150</td>\n",
              "      <td>5</td>\n",
              "    </tr>\n",
              "    <tr>\n",
              "      <th>224</th>\n",
              "      <td>0</td>\n",
              "      <td>0.450000</td>\n",
              "      <td>0.335000</td>\n",
              "      <td>0.105</td>\n",
              "      <td>0.4470</td>\n",
              "      <td>0.2335</td>\n",
              "      <td>0.1530</td>\n",
              "      <td>0.1190</td>\n",
              "      <td>7</td>\n",
              "    </tr>\n",
              "    <tr>\n",
              "      <th>290</th>\n",
              "      <td>-1</td>\n",
              "      <td>0.480000</td>\n",
              "      <td>0.380000</td>\n",
              "      <td>0.145</td>\n",
              "      <td>0.5900</td>\n",
              "      <td>0.2320</td>\n",
              "      <td>0.1410</td>\n",
              "      <td>0.2300</td>\n",
              "      <td>12</td>\n",
              "    </tr>\n",
              "    <tr>\n",
              "      <th>324</th>\n",
              "      <td>0</td>\n",
              "      <td>0.420000</td>\n",
              "      <td>0.330000</td>\n",
              "      <td>0.100</td>\n",
              "      <td>0.3520</td>\n",
              "      <td>0.1635</td>\n",
              "      <td>0.0890</td>\n",
              "      <td>0.1000</td>\n",
              "      <td>9</td>\n",
              "    </tr>\n",
              "    <tr>\n",
              "      <th>346</th>\n",
              "      <td>0</td>\n",
              "      <td>0.260000</td>\n",
              "      <td>0.215000</td>\n",
              "      <td>0.080</td>\n",
              "      <td>0.0990</td>\n",
              "      <td>0.0370</td>\n",
              "      <td>0.0255</td>\n",
              "      <td>0.0450</td>\n",
              "      <td>5</td>\n",
              "    </tr>\n",
              "    <tr>\n",
              "      <th>368</th>\n",
              "      <td>0</td>\n",
              "      <td>0.290000</td>\n",
              "      <td>0.225000</td>\n",
              "      <td>0.075</td>\n",
              "      <td>0.1520</td>\n",
              "      <td>0.0710</td>\n",
              "      <td>0.0590</td>\n",
              "      <td>0.0450</td>\n",
              "      <td>9</td>\n",
              "    </tr>\n",
              "    <tr>\n",
              "      <th>374</th>\n",
              "      <td>0</td>\n",
              "      <td>0.360000</td>\n",
              "      <td>0.275000</td>\n",
              "      <td>0.095</td>\n",
              "      <td>0.2170</td>\n",
              "      <td>0.0840</td>\n",
              "      <td>0.0435</td>\n",
              "      <td>0.0900</td>\n",
              "      <td>7</td>\n",
              "    </tr>\n",
              "    <tr>\n",
              "      <th>418</th>\n",
              "      <td>0</td>\n",
              "      <td>0.410000</td>\n",
              "      <td>0.330000</td>\n",
              "      <td>0.105</td>\n",
              "      <td>0.3350</td>\n",
              "      <td>0.1525</td>\n",
              "      <td>0.0740</td>\n",
              "      <td>0.1100</td>\n",
              "      <td>7</td>\n",
              "    </tr>\n",
              "    <tr>\n",
              "      <th>430</th>\n",
              "      <td>1</td>\n",
              "      <td>0.340000</td>\n",
              "      <td>0.265000</td>\n",
              "      <td>0.085</td>\n",
              "      <td>0.1835</td>\n",
              "      <td>0.0770</td>\n",
              "      <td>0.0460</td>\n",
              "      <td>0.0650</td>\n",
              "      <td>10</td>\n",
              "    </tr>\n",
              "    <tr>\n",
              "      <th>544</th>\n",
              "      <td>1</td>\n",
              "      <td>0.335000</td>\n",
              "      <td>0.265000</td>\n",
              "      <td>0.105</td>\n",
              "      <td>0.2220</td>\n",
              "      <td>0.0935</td>\n",
              "      <td>0.0560</td>\n",
              "      <td>0.0750</td>\n",
              "      <td>7</td>\n",
              "    </tr>\n",
              "    <tr>\n",
              "      <th>599</th>\n",
              "      <td>0</td>\n",
              "      <td>0.310000</td>\n",
              "      <td>0.225000</td>\n",
              "      <td>0.050</td>\n",
              "      <td>0.1445</td>\n",
              "      <td>0.0675</td>\n",
              "      <td>0.0385</td>\n",
              "      <td>0.0450</td>\n",
              "      <td>6</td>\n",
              "    </tr>\n",
              "    <tr>\n",
              "      <th>637</th>\n",
              "      <td>1</td>\n",
              "      <td>0.505000</td>\n",
              "      <td>0.395000</td>\n",
              "      <td>0.135</td>\n",
              "      <td>0.5915</td>\n",
              "      <td>0.2880</td>\n",
              "      <td>0.1315</td>\n",
              "      <td>0.1850</td>\n",
              "      <td>12</td>\n",
              "    </tr>\n",
              "    <tr>\n",
              "      <th>692</th>\n",
              "      <td>0</td>\n",
              "      <td>0.380000</td>\n",
              "      <td>0.300000</td>\n",
              "      <td>0.090</td>\n",
              "      <td>0.2770</td>\n",
              "      <td>0.1655</td>\n",
              "      <td>0.0625</td>\n",
              "      <td>0.0820</td>\n",
              "      <td>6</td>\n",
              "    </tr>\n",
              "    <tr>\n",
              "      <th>765</th>\n",
              "      <td>0</td>\n",
              "      <td>0.360000</td>\n",
              "      <td>0.280000</td>\n",
              "      <td>0.080</td>\n",
              "      <td>0.1755</td>\n",
              "      <td>0.0810</td>\n",
              "      <td>0.0505</td>\n",
              "      <td>0.0700</td>\n",
              "      <td>6</td>\n",
              "    </tr>\n",
              "    <tr>\n",
              "      <th>794</th>\n",
              "      <td>-1</td>\n",
              "      <td>0.375000</td>\n",
              "      <td>0.290000</td>\n",
              "      <td>0.080</td>\n",
              "      <td>0.2820</td>\n",
              "      <td>0.1405</td>\n",
              "      <td>0.0725</td>\n",
              "      <td>0.0800</td>\n",
              "      <td>7</td>\n",
              "    </tr>\n",
              "    <tr>\n",
              "      <th>799</th>\n",
              "      <td>1</td>\n",
              "      <td>0.460000</td>\n",
              "      <td>0.355000</td>\n",
              "      <td>0.110</td>\n",
              "      <td>0.4150</td>\n",
              "      <td>0.2150</td>\n",
              "      <td>0.0820</td>\n",
              "      <td>0.1300</td>\n",
              "      <td>12</td>\n",
              "    </tr>\n",
              "    <tr>\n",
              "      <th>807</th>\n",
              "      <td>-1</td>\n",
              "      <td>0.400000</td>\n",
              "      <td>0.335000</td>\n",
              "      <td>0.115</td>\n",
              "      <td>0.4335</td>\n",
              "      <td>0.2105</td>\n",
              "      <td>0.1205</td>\n",
              "      <td>0.1200</td>\n",
              "      <td>10</td>\n",
              "    </tr>\n",
              "    <tr>\n",
              "      <th>817</th>\n",
              "      <td>1</td>\n",
              "      <td>0.475000</td>\n",
              "      <td>0.395000</td>\n",
              "      <td>0.135</td>\n",
              "      <td>0.5920</td>\n",
              "      <td>0.2465</td>\n",
              "      <td>0.1645</td>\n",
              "      <td>0.2000</td>\n",
              "      <td>13</td>\n",
              "    </tr>\n",
              "    <tr>\n",
              "      <th>856</th>\n",
              "      <td>1</td>\n",
              "      <td>0.620000</td>\n",
              "      <td>0.470000</td>\n",
              "      <td>0.150</td>\n",
              "      <td>1.3090</td>\n",
              "      <td>0.5870</td>\n",
              "      <td>0.4405</td>\n",
              "      <td>0.3250</td>\n",
              "      <td>9</td>\n",
              "    </tr>\n",
              "    <tr>\n",
              "      <th>922</th>\n",
              "      <td>1</td>\n",
              "      <td>0.650000</td>\n",
              "      <td>0.525000</td>\n",
              "      <td>0.205</td>\n",
              "      <td>1.4275</td>\n",
              "      <td>0.6900</td>\n",
              "      <td>0.3060</td>\n",
              "      <td>0.4355</td>\n",
              "      <td>13</td>\n",
              "    </tr>\n",
              "    <tr>\n",
              "      <th>987</th>\n",
              "      <td>0</td>\n",
              "      <td>0.635000</td>\n",
              "      <td>0.500000</td>\n",
              "      <td>0.180</td>\n",
              "      <td>1.3190</td>\n",
              "      <td>0.5485</td>\n",
              "      <td>0.2920</td>\n",
              "      <td>0.4900</td>\n",
              "      <td>16</td>\n",
              "    </tr>\n",
              "    <tr>\n",
              "      <th>989</th>\n",
              "      <td>-1</td>\n",
              "      <td>0.520000</td>\n",
              "      <td>0.425000</td>\n",
              "      <td>0.150</td>\n",
              "      <td>0.8130</td>\n",
              "      <td>0.3850</td>\n",
              "      <td>0.2015</td>\n",
              "      <td>0.2300</td>\n",
              "      <td>10</td>\n",
              "    </tr>\n",
              "    <tr>\n",
              "      <th>1013</th>\n",
              "      <td>0</td>\n",
              "      <td>0.217997</td>\n",
              "      <td>0.163262</td>\n",
              "      <td>0.045</td>\n",
              "      <td>0.0275</td>\n",
              "      <td>0.0125</td>\n",
              "      <td>0.0100</td>\n",
              "      <td>0.0090</td>\n",
              "      <td>3</td>\n",
              "    </tr>\n",
              "    <tr>\n",
              "      <th>1020</th>\n",
              "      <td>-1</td>\n",
              "      <td>0.620000</td>\n",
              "      <td>0.480000</td>\n",
              "      <td>0.165</td>\n",
              "      <td>1.0125</td>\n",
              "      <td>0.5325</td>\n",
              "      <td>0.4365</td>\n",
              "      <td>0.3240</td>\n",
              "      <td>10</td>\n",
              "    </tr>\n",
              "    <tr>\n",
              "      <th>1035</th>\n",
              "      <td>1</td>\n",
              "      <td>0.540000</td>\n",
              "      <td>0.420000</td>\n",
              "      <td>0.190</td>\n",
              "      <td>0.6855</td>\n",
              "      <td>0.2930</td>\n",
              "      <td>0.1630</td>\n",
              "      <td>0.3800</td>\n",
              "      <td>10</td>\n",
              "    </tr>\n",
              "    <tr>\n",
              "      <th>1041</th>\n",
              "      <td>0</td>\n",
              "      <td>0.315000</td>\n",
              "      <td>0.210000</td>\n",
              "      <td>0.060</td>\n",
              "      <td>0.1250</td>\n",
              "      <td>0.0600</td>\n",
              "      <td>0.0375</td>\n",
              "      <td>0.0350</td>\n",
              "      <td>5</td>\n",
              "    </tr>\n",
              "    <tr>\n",
              "      <th>1057</th>\n",
              "      <td>-1</td>\n",
              "      <td>0.575000</td>\n",
              "      <td>0.465000</td>\n",
              "      <td>0.195</td>\n",
              "      <td>0.9965</td>\n",
              "      <td>0.4170</td>\n",
              "      <td>0.2470</td>\n",
              "      <td>0.4700</td>\n",
              "      <td>8</td>\n",
              "    </tr>\n",
              "    <tr>\n",
              "      <th>1090</th>\n",
              "      <td>-1</td>\n",
              "      <td>0.435000</td>\n",
              "      <td>0.350000</td>\n",
              "      <td>0.105</td>\n",
              "      <td>0.4195</td>\n",
              "      <td>0.1940</td>\n",
              "      <td>0.1005</td>\n",
              "      <td>0.1300</td>\n",
              "      <td>7</td>\n",
              "    </tr>\n",
              "    <tr>\n",
              "      <th>1110</th>\n",
              "      <td>0</td>\n",
              "      <td>0.325000</td>\n",
              "      <td>0.240000</td>\n",
              "      <td>0.075</td>\n",
              "      <td>0.1525</td>\n",
              "      <td>0.0720</td>\n",
              "      <td>0.0645</td>\n",
              "      <td>0.0430</td>\n",
              "      <td>6</td>\n",
              "    </tr>\n",
              "    <tr>\n",
              "      <th>1112</th>\n",
              "      <td>0</td>\n",
              "      <td>0.205000</td>\n",
              "      <td>0.150000</td>\n",
              "      <td>0.055</td>\n",
              "      <td>0.0420</td>\n",
              "      <td>0.0255</td>\n",
              "      <td>0.0150</td>\n",
              "      <td>0.0120</td>\n",
              "      <td>5</td>\n",
              "    </tr>\n",
              "    <tr>\n",
              "      <th>1146</th>\n",
              "      <td>1</td>\n",
              "      <td>0.455000</td>\n",
              "      <td>0.350000</td>\n",
              "      <td>0.120</td>\n",
              "      <td>0.4835</td>\n",
              "      <td>0.1815</td>\n",
              "      <td>0.1440</td>\n",
              "      <td>0.1600</td>\n",
              "      <td>11</td>\n",
              "    </tr>\n",
              "    <tr>\n",
              "      <th>1177</th>\n",
              "      <td>0</td>\n",
              "      <td>0.320000</td>\n",
              "      <td>0.255000</td>\n",
              "      <td>0.100</td>\n",
              "      <td>0.1755</td>\n",
              "      <td>0.0730</td>\n",
              "      <td>0.0415</td>\n",
              "      <td>0.0650</td>\n",
              "      <td>7</td>\n",
              "    </tr>\n",
              "    <tr>\n",
              "      <th>1180</th>\n",
              "      <td>0</td>\n",
              "      <td>0.335000</td>\n",
              "      <td>0.260000</td>\n",
              "      <td>0.100</td>\n",
              "      <td>0.1920</td>\n",
              "      <td>0.0785</td>\n",
              "      <td>0.0585</td>\n",
              "      <td>0.0700</td>\n",
              "      <td>8</td>\n",
              "    </tr>\n",
              "    <tr>\n",
              "      <th>1182</th>\n",
              "      <td>0</td>\n",
              "      <td>0.370000</td>\n",
              "      <td>0.270000</td>\n",
              "      <td>0.095</td>\n",
              "      <td>0.2320</td>\n",
              "      <td>0.1325</td>\n",
              "      <td>0.0410</td>\n",
              "      <td>0.0615</td>\n",
              "      <td>6</td>\n",
              "    </tr>\n",
              "    <tr>\n",
              "      <th>1203</th>\n",
              "      <td>0</td>\n",
              "      <td>0.235000</td>\n",
              "      <td>0.160000</td>\n",
              "      <td>0.040</td>\n",
              "      <td>0.0480</td>\n",
              "      <td>0.0185</td>\n",
              "      <td>0.0180</td>\n",
              "      <td>0.0150</td>\n",
              "      <td>5</td>\n",
              "    </tr>\n",
              "  </tbody>\n",
              "</table>\n",
              "</div>\n",
              "      <button class=\"colab-df-convert\" onclick=\"convertToInteractive('df-3a02f9dd-9071-49d0-954b-14ee3665fd19')\"\n",
              "              title=\"Convert this dataframe to an interactive table.\"\n",
              "              style=\"display:none;\">\n",
              "        \n",
              "  <svg xmlns=\"http://www.w3.org/2000/svg\" height=\"24px\"viewBox=\"0 0 24 24\"\n",
              "       width=\"24px\">\n",
              "    <path d=\"M0 0h24v24H0V0z\" fill=\"none\"/>\n",
              "    <path d=\"M18.56 5.44l.94 2.06.94-2.06 2.06-.94-2.06-.94-.94-2.06-.94 2.06-2.06.94zm-11 1L8.5 8.5l.94-2.06 2.06-.94-2.06-.94L8.5 2.5l-.94 2.06-2.06.94zm10 10l.94 2.06.94-2.06 2.06-.94-2.06-.94-.94-2.06-.94 2.06-2.06.94z\"/><path d=\"M17.41 7.96l-1.37-1.37c-.4-.4-.92-.59-1.43-.59-.52 0-1.04.2-1.43.59L10.3 9.45l-7.72 7.72c-.78.78-.78 2.05 0 2.83L4 21.41c.39.39.9.59 1.41.59.51 0 1.02-.2 1.41-.59l7.78-7.78 2.81-2.81c.8-.78.8-2.07 0-2.86zM5.41 20L4 18.59l7.72-7.72 1.47 1.35L5.41 20z\"/>\n",
              "  </svg>\n",
              "      </button>\n",
              "      \n",
              "  <style>\n",
              "    .colab-df-container {\n",
              "      display:flex;\n",
              "      flex-wrap:wrap;\n",
              "      gap: 12px;\n",
              "    }\n",
              "\n",
              "    .colab-df-convert {\n",
              "      background-color: #E8F0FE;\n",
              "      border: none;\n",
              "      border-radius: 50%;\n",
              "      cursor: pointer;\n",
              "      display: none;\n",
              "      fill: #1967D2;\n",
              "      height: 32px;\n",
              "      padding: 0 0 0 0;\n",
              "      width: 32px;\n",
              "    }\n",
              "\n",
              "    .colab-df-convert:hover {\n",
              "      background-color: #E2EBFA;\n",
              "      box-shadow: 0px 1px 2px rgba(60, 64, 67, 0.3), 0px 1px 3px 1px rgba(60, 64, 67, 0.15);\n",
              "      fill: #174EA6;\n",
              "    }\n",
              "\n",
              "    [theme=dark] .colab-df-convert {\n",
              "      background-color: #3B4455;\n",
              "      fill: #D2E3FC;\n",
              "    }\n",
              "\n",
              "    [theme=dark] .colab-df-convert:hover {\n",
              "      background-color: #434B5C;\n",
              "      box-shadow: 0px 1px 3px 1px rgba(0, 0, 0, 0.15);\n",
              "      filter: drop-shadow(0px 1px 2px rgba(0, 0, 0, 0.3));\n",
              "      fill: #FFFFFF;\n",
              "    }\n",
              "  </style>\n",
              "\n",
              "      <script>\n",
              "        const buttonEl =\n",
              "          document.querySelector('#df-3a02f9dd-9071-49d0-954b-14ee3665fd19 button.colab-df-convert');\n",
              "        buttonEl.style.display =\n",
              "          google.colab.kernel.accessAllowed ? 'block' : 'none';\n",
              "\n",
              "        async function convertToInteractive(key) {\n",
              "          const element = document.querySelector('#df-3a02f9dd-9071-49d0-954b-14ee3665fd19');\n",
              "          const dataTable =\n",
              "            await google.colab.kernel.invokeFunction('convertToInteractive',\n",
              "                                                     [key], {});\n",
              "          if (!dataTable) return;\n",
              "\n",
              "          const docLinkHtml = 'Like what you see? Visit the ' +\n",
              "            '<a target=\"_blank\" href=https://colab.research.google.com/notebooks/data_table.ipynb>data table notebook</a>'\n",
              "            + ' to learn more about interactive tables.';\n",
              "          element.innerHTML = '';\n",
              "          dataTable['output_type'] = 'display_data';\n",
              "          await google.colab.output.renderOutput(dataTable, element);\n",
              "          const docLink = document.createElement('div');\n",
              "          docLink.innerHTML = docLinkHtml;\n",
              "          element.appendChild(docLink);\n",
              "        }\n",
              "      </script>\n",
              "    </div>\n",
              "  </div>\n",
              "  "
            ]
          },
          "metadata": {},
          "execution_count": 91
        }
      ]
    },
    {
      "cell_type": "code",
      "source": [
        "train = train[(train['Whole Weight'] - (train['Shucked Weight'] + train['Viscra Weight'] + train['Shell Weight']))>=0]"
      ],
      "metadata": {
        "id": "pRIL8b2v6d_X"
      },
      "execution_count": 92,
      "outputs": []
    },
    {
      "cell_type": "code",
      "source": [
        "train[\"Shell Water\"] = round(train[\"Whole Weight\"] - (train[\"Shucked Weight\"] + train[\"Shell Weight\"]),3)\n",
        "test[\"Shell Water\"] = round(test[\"Whole Weight\"] - (test[\"Shucked Weight\"] + test[\"Shell Weight\"]),3)"
      ],
      "metadata": {
        "id": "pNTMG4N06gWo"
      },
      "execution_count": 93,
      "outputs": []
    },
    {
      "cell_type": "code",
      "source": [
        "train[\"ratio\"] = round(train[\"Shucked Weight\"] / train[\"Whole Weight\"],3)\n",
        "test[\"ratio\"] = round(test[\"Shucked Weight\"] / test[\"Whole Weight\"] ,3)"
      ],
      "metadata": {
        "id": "Q65Ose4Y6iRS"
      },
      "execution_count": 94,
      "outputs": []
    },
    {
      "cell_type": "code",
      "source": [
        "train[\"density\"] = round(train[\"Shucked Weight\"] / (train[\"Lenght\"]* train[\"Diameter\"] * train[\"Height\"]),3)\n",
        "test[\"density\"] = round(test[\"Shucked Weight\"] / (test[\"Lenght\"]* test[\"Diameter\"] * test[\"Height\"]),3)"
      ],
      "metadata": {
        "id": "PblCe-NQ6kqB"
      },
      "execution_count": 95,
      "outputs": []
    },
    {
      "cell_type": "code",
      "source": [
        "test.isna().sum()"
      ],
      "metadata": {
        "colab": {
          "base_uri": "https://localhost:8080/"
        },
        "id": "Yg25Rg2tOZSv",
        "outputId": "07160f66-06fd-4fe1-b617-aafa4326762e"
      },
      "execution_count": 96,
      "outputs": [
        {
          "output_type": "execute_result",
          "data": {
            "text/plain": [
              "Gender            0\n",
              "Lenght            0\n",
              "Diameter          0\n",
              "Height            0\n",
              "Whole Weight      0\n",
              "Shucked Weight    0\n",
              "Viscra Weight     0\n",
              "Shell Weight      0\n",
              "Shell Water       0\n",
              "ratio             0\n",
              "density           0\n",
              "dtype: int64"
            ]
          },
          "metadata": {},
          "execution_count": 96
        }
      ]
    },
    {
      "cell_type": "code",
      "source": [
        "import numpy as np\n",
        "import matplotlib.pyplot as plt\n",
        "plt.rcParams['axes.unicode_minus'] = False\n",
        "\n",
        "import seaborn as sns\n",
        "sns.set(font=\"NanumGothic\")\n",
        "\n",
        "import warnings\n",
        "warnings.filterwarnings(action='ignore')\n",
        "\n",
        "features = ['Lenght', 'Diameter', 'Height', 'Whole Weight',\n",
        "       'Shucked Weight', 'Viscra Weight', 'Shell Weight', \n",
        "       'Shell Water', 'ratio','density', 'Target']\n",
        "\n",
        "\n",
        "# 삼각형 마스크를 만듭니다\n",
        "mask = np.zeros_like(train[features].corr(), dtype=np.bool) # 우선 상관관계표와 형태가 같고 0이 들어있는 매트릭스를 만들어 줍니다. 12 x 12 Matrix\n",
        "mask[np.triu_indices_from(mask)] = True # np.triu_indices_from : mask에서 인덱스를 반환 (위쪽 삼각형에 True, 아래 삼각형에 False)\n",
        "\n",
        "f, ax = plt.subplots(figsize=(16, 12))\n",
        "plt.title('Pearson Correlation Matrix',fontsize=25)\n",
        "\n",
        "sns.heatmap(train[features].corr(),\n",
        "            linewidths=0.25,# 경계면 선구분 cf. 실선(0.5)으로 구분하기\n",
        "            vmax=0.7, # 컬러바 범위 : 최소값 미지정 최대값 0.7 \n",
        "            square=True,\n",
        "            cmap=\"Blues\", #히트맵 색깔. blue, green #\"BuGn_r\" to reverse # Blues # BuGn\n",
        "            linecolor='w',# 라인 색은 흰색(white)\n",
        "            \n",
        "            annot=True,            # 실제 값을 표시한다\n",
        "            annot_kws={\"size\":20},  # 실제 값 폰트 사이즈\n",
        "            mask=mask,             # 위에서 설정한 마스크 부분(가릴부분) 지정한다\n",
        "            cbar_kws={\"shrink\": .9}); # 오른쪽 컬러바 크기 줄이기 90% 크기"
      ],
      "metadata": {
        "colab": {
          "base_uri": "https://localhost:8080/",
          "height": 862
        },
        "id": "1VFyr1Ke6qPo",
        "outputId": "fc41e177-de9d-4ae5-97af-55f4831e15fb"
      },
      "execution_count": 97,
      "outputs": [
        {
          "output_type": "stream",
          "name": "stderr",
          "text": [
            "findfont: Font family ['NanumGothic'] not found. Falling back to DejaVu Sans.\n",
            "findfont: Font family ['NanumGothic'] not found. Falling back to DejaVu Sans.\n",
            "findfont: Font family ['NanumGothic'] not found. Falling back to DejaVu Sans.\n"
          ]
        },
        {
          "output_type": "display_data",
          "data": {
            "text/plain": [
              "<Figure size 1152x864 with 2 Axes>"
            ],
            "image/png": "[encoded data removed]"
          },
          "metadata": {}
        }
      ]
    },
    {
      "cell_type": "code",
      "source": [
        "def NMAE(true, pred):\n",
        "    mae = np.mean(np.abs(true-pred))\n",
        "    score = mae / np.mean(np.abs(true))\n",
        "    return score"
      ],
      "metadata": {
        "id": "ytmw3omyuQqc"
      },
      "execution_count": 98,
      "outputs": []
    },
    {
      "cell_type": "code",
      "source": [
        "X = train.drop(['Target'], axis = 1)\n",
        "y = np.log1p(train['Target'])\n",
        "#target 분포가 정규분포를 따르지 않아서 log를 사용했습니다.\n",
        "target = test[X.columns]"
      ],
      "metadata": {
        "id": "RPw0fse_uQoP"
      },
      "execution_count": 99,
      "outputs": []
    },
    {
      "cell_type": "code",
      "source": [
        "from sklearn.model_selection import train_test_split\n",
        "x_train, x_test, y_train_log, y_test_log = train_test_split(X ,y, random_state=0, shuffle= True, test_size=0.2)\n"
      ],
      "metadata": {
        "id": "B6xCD5U4uQlz"
      },
      "execution_count": 100,
      "outputs": []
    },
    {
      "cell_type": "code",
      "source": [
        "#펭귄몸무게 예측 때 어느 분의 코드를 보고 사용했습니다.\n",
        "#다시 찾으려고 했지만 결국 못 찾았습니다. 알려주시면 추가하겠습니다.\n",
        "models=[RandomForestRegressor(random_state=0), KNeighborsRegressor(), BaggingRegressor(random_state=0),\n",
        "        GradientBoostingRegressor(random_state=23), \n",
        "        XGBRegressor(random_state=43), LGBMRegressor(random_state=0),\n",
        "        AdaBoostRegressor(random_state=0), LinearRegression(), SVR(kernel='poly', degree = 2), SVR(kernel='rbf'), \n",
        "        Lasso(random_state=0), Ridge(random_state=0),\n",
        "        ]\n",
        "     \n",
        "model_names=['RandomForestRegressor', 'KNeighborsRegressor', 'BaggingRegressor', 'GradientBoostingRegressor', 'XGBRegressor', 'LGBMRegressor',\n",
        "             'AdaBoostRegressor', 'LinearRegression', 'SVR_poly', 'SVR_rbf', 'Lasso', 'Ridge'\n",
        "          ]\n",
        "nmae_list=[]\n",
        "# d={}\n",
        "for model in range (len(models)):\n",
        "    clf=models[model]\n",
        "    clf.fit(x_train,y_train_log)\n",
        "    test_pred=(clf.predict(x_test))\n",
        "\n",
        "    k=0\n",
        "    for i in test_pred:\n",
        "      if i<0:\n",
        "        test_pred[k] = 0\n",
        "      k+=1\n",
        "\n",
        "    \n",
        "    nmae_list.append(NMAE(test_pred,y_test_log))\n",
        "\n",
        "\n",
        "for model in range(len(model_names)):\n",
        "  print(model_names[model], 'NMAE : \\t\\t' , nmae_list[model] , '\\n')\n",
        "\n"
      ],
      "metadata": {
        "colab": {
          "base_uri": "https://localhost:8080/"
        },
        "id": "DoBTmL6rul9m",
        "outputId": "d24daa2a-9698-4312-b61a-ebfb4724799a"
      },
      "execution_count": 101,
      "outputs": [
        {
          "output_type": "stream",
          "name": "stdout",
          "text": [
            "[04:15:02] WARNING: /workspace/src/objective/regression_obj.cu:152: reg:linear is now deprecated in favor of reg:squarederror.\n",
            "RandomForestRegressor NMAE : \t\t 0.05362729676785588 \n",
            "\n",
            "KNeighborsRegressor NMAE : \t\t 0.06714686949374338 \n",
            "\n",
            "BaggingRegressor NMAE : \t\t 0.054564006747738564 \n",
            "\n",
            "GradientBoostingRegressor NMAE : \t\t 0.05233498337607055 \n",
            "\n",
            "XGBRegressor NMAE : \t\t 0.05202803983713154 \n",
            "\n",
            "LGBMRegressor NMAE : \t\t 0.05657851956161624 \n",
            "\n",
            "AdaBoostRegressor NMAE : \t\t 0.05761919993514913 \n",
            "\n",
            "LinearRegression NMAE : \t\t 0.05471960270165332 \n",
            "\n",
            "SVR_poly NMAE : \t\t 0.06380421467345887 \n",
            "\n",
            "SVR_rbf NMAE : \t\t 0.0604274826707614 \n",
            "\n",
            "Lasso NMAE : \t\t 0.08688304410269836 \n",
            "\n",
            "Ridge NMAE : \t\t 0.05703739588286677 \n",
            "\n"
          ]
        }
      ]
    },
    {
      "cell_type": "code",
      "source": [
        "#RandomForestRegressor NMAE : \t\t 0.05362729676785588 \n",
        "\n",
        "#BaggingRegressor NMAE : \t\t 0.054564006747738564 \n",
        "\n",
        "#GradientBoostingRegressor NMAE : \t\t 0.05233498337607055  \n",
        "\n",
        "#XGBRegressor NMAE : \t\t  0.05202803983713154 \n",
        "\n",
        "#LGBMRegressor NMAE : \t\t 0.05657851956161624 \n",
        "\n",
        "#AdaBoostRegressor NMAE : \t\t 0.05761919993514913 \n",
        "\n",
        "#LinearRegression NMAE : \t\t 0.05471960270165332 \n",
        "\n",
        "#Ridge NMAE : \t\t 0.05703739588286677 "
      ],
      "metadata": {
        "id": "pA3QzGPAuzxV"
      },
      "execution_count": null,
      "outputs": []
    },
    {
      "cell_type": "code",
      "source": [
        "from sklearn.model_selection import GridSearchCV\n",
        "\n",
        "\n",
        "parameters = {\n",
        "    \"n_estimators\" : [100,120,140,160,180,200,250,300,500,1000],\n",
        "    'n_jobs' : [-1],\n",
        "    'learning_rate': [0.1, 0.05, 0.06, 0.08],\n",
        "    'max_depth' : [ 4,6,8,10,12]\n",
        "    }\n",
        "    \n",
        "#cv=5 5번의 교차검증.\n",
        "grid = GridSearchCV(LGBMRegressor(random_state=0), verbose=2, param_grid = parameters, cv=5)\n",
        "grid.fit(x_train, y_train_log)"
      ],
      "metadata": {
        "id": "05CBpTckPbHq",
        "colab": {
          "base_uri": "https://localhost:8080/"
        },
        "outputId": "29cd4fbe-d42b-4b49-f2ba-2820371b566d"
      },
      "execution_count": 117,
      "outputs": [
        {
          "output_type": "stream",
          "name": "stdout",
          "text": [
            "Fitting 5 folds for each of 200 candidates, totalling 1000 fits\n",
            "[CV] END learning_rate=0.1, max_depth=4, n_estimators=100, n_jobs=-1; total time=   0.1s\n",
            "[CV] END learning_rate=0.1, max_depth=4, n_estimators=100, n_jobs=-1; total time=   0.0s\n",
            "[CV] END learning_rate=0.1, max_depth=4, n_estimators=100, n_jobs=-1; total time=   0.0s\n",
            "[CV] END learning_rate=0.1, max_depth=4, n_estimators=100, n_jobs=-1; total time=   0.0s\n",
            "[CV] END learning_rate=0.1, max_depth=4, n_estimators=100, n_jobs=-1; total time=   0.0s\n",
            "[CV] END learning_rate=0.1, max_depth=4, n_estimators=120, n_jobs=-1; total time=   0.1s\n",
            "[CV] END learning_rate=0.1, max_depth=4, n_estimators=120, n_jobs=-1; total time=   0.1s\n",
            "[CV] END learning_rate=0.1, max_depth=4, n_estimators=120, n_jobs=-1; total time=   0.1s\n",
            "[CV] END learning_rate=0.1, max_depth=4, n_estimators=120, n_jobs=-1; total time=   0.1s\n",
            "[CV] END learning_rate=0.1, max_depth=4, n_estimators=120, n_jobs=-1; total time=   0.1s\n",
            "[CV] END learning_rate=0.1, max_depth=4, n_estimators=140, n_jobs=-1; total time=   0.1s\n",
            "[CV] END learning_rate=0.1, max_depth=4, n_estimators=140, n_jobs=-1; total time=   0.1s\n",
            "[CV] END learning_rate=0.1, max_depth=4, n_estimators=140, n_jobs=-1; total time=   0.1s\n",
            "[CV] END learning_rate=0.1, max_depth=4, n_estimators=140, n_jobs=-1; total time=   0.1s\n",
            "[CV] END learning_rate=0.1, max_depth=4, n_estimators=140, n_jobs=-1; total time=   0.1s\n",
            "[CV] END learning_rate=0.1, max_depth=4, n_estimators=160, n_jobs=-1; total time=   0.1s\n",
            "[CV] END learning_rate=0.1, max_depth=4, n_estimators=160, n_jobs=-1; total time=   0.1s\n",
            "[CV] END learning_rate=0.1, max_depth=4, n_estimators=160, n_jobs=-1; total time=   0.1s\n",
            "[CV] END learning_rate=0.1, max_depth=4, n_estimators=160, n_jobs=-1; total time=   0.1s\n",
            "[CV] END learning_rate=0.1, max_depth=4, n_estimators=160, n_jobs=-1; total time=   0.1s\n",
            "[CV] END learning_rate=0.1, max_depth=4, n_estimators=180, n_jobs=-1; total time=   0.1s\n",
            "[CV] END learning_rate=0.1, max_depth=4, n_estimators=180, n_jobs=-1; total time=   0.1s\n",
            "[CV] END learning_rate=0.1, max_depth=4, n_estimators=180, n_jobs=-1; total time=   0.1s\n",
            "[CV] END learning_rate=0.1, max_depth=4, n_estimators=180, n_jobs=-1; total time=   0.1s\n",
            "[CV] END learning_rate=0.1, max_depth=4, n_estimators=180, n_jobs=-1; total time=   0.1s\n",
            "[CV] END learning_rate=0.1, max_depth=4, n_estimators=200, n_jobs=-1; total time=   0.1s\n",
            "[CV] END learning_rate=0.1, max_depth=4, n_estimators=200, n_jobs=-1; total time=   0.1s\n",
            "[CV] END learning_rate=0.1, max_depth=4, n_estimators=200, n_jobs=-1; total time=   0.1s\n",
            "[CV] END learning_rate=0.1, max_depth=4, n_estimators=200, n_jobs=-1; total time=   0.1s\n",
            "[CV] END learning_rate=0.1, max_depth=4, n_estimators=200, n_jobs=-1; total time=   0.1s\n",
            "[CV] END learning_rate=0.1, max_depth=4, n_estimators=250, n_jobs=-1; total time=   0.1s\n",
            "[CV] END learning_rate=0.1, max_depth=4, n_estimators=250, n_jobs=-1; total time=   0.1s\n",
            "[CV] END learning_rate=0.1, max_depth=4, n_estimators=250, n_jobs=-1; total time=   0.1s\n",
            "[CV] END learning_rate=0.1, max_depth=4, n_estimators=250, n_jobs=-1; total time=   0.1s\n",
            "[CV] END learning_rate=0.1, max_depth=4, n_estimators=250, n_jobs=-1; total time=   0.1s\n",
            "[CV] END learning_rate=0.1, max_depth=4, n_estimators=300, n_jobs=-1; total time=   0.1s\n",
            "[CV] END learning_rate=0.1, max_depth=4, n_estimators=300, n_jobs=-1; total time=   0.1s\n",
            "[CV] END learning_rate=0.1, max_depth=4, n_estimators=300, n_jobs=-1; total time=   0.1s\n",
            "[CV] END learning_rate=0.1, max_depth=4, n_estimators=300, n_jobs=-1; total time=   0.1s\n",
            "[CV] END learning_rate=0.1, max_depth=4, n_estimators=300, n_jobs=-1; total time=   0.1s\n",
            "[CV] END learning_rate=0.1, max_depth=4, n_estimators=500, n_jobs=-1; total time=   0.2s\n",
            "[CV] END learning_rate=0.1, max_depth=4, n_estimators=500, n_jobs=-1; total time=   0.2s\n",
            "[CV] END learning_rate=0.1, max_depth=4, n_estimators=500, n_jobs=-1; total time=   0.2s\n",
            "[CV] END learning_rate=0.1, max_depth=4, n_estimators=500, n_jobs=-1; total time=   0.2s\n",
            "[CV] END learning_rate=0.1, max_depth=4, n_estimators=500, n_jobs=-1; total time=   0.2s\n",
            "[CV] END learning_rate=0.1, max_depth=4, n_estimators=1000, n_jobs=-1; total time=   0.3s\n",
            "[CV] END learning_rate=0.1, max_depth=4, n_estimators=1000, n_jobs=-1; total time=   0.4s\n",
            "[CV] END learning_rate=0.1, max_depth=4, n_estimators=1000, n_jobs=-1; total time=   0.4s\n",
            "[CV] END learning_rate=0.1, max_depth=4, n_estimators=1000, n_jobs=-1; total time=   0.4s\n",
            "[CV] END learning_rate=0.1, max_depth=4, n_estimators=1000, n_jobs=-1; total time=   0.4s\n",
            "[CV] END learning_rate=0.1, max_depth=6, n_estimators=100, n_jobs=-1; total time=   0.1s\n",
            "[CV] END learning_rate=0.1, max_depth=6, n_estimators=100, n_jobs=-1; total time=   0.1s\n",
            "[CV] END learning_rate=0.1, max_depth=6, n_estimators=100, n_jobs=-1; total time=   0.1s\n",
            "[CV] END learning_rate=0.1, max_depth=6, n_estimators=100, n_jobs=-1; total time=   0.1s\n",
            "[CV] END learning_rate=0.1, max_depth=6, n_estimators=100, n_jobs=-1; total time=   0.1s\n",
            "[CV] END learning_rate=0.1, max_depth=6, n_estimators=120, n_jobs=-1; total time=   0.1s\n",
            "[CV] END learning_rate=0.1, max_depth=6, n_estimators=120, n_jobs=-1; total time=   0.1s\n",
            "[CV] END learning_rate=0.1, max_depth=6, n_estimators=120, n_jobs=-1; total time=   0.1s\n",
            "[CV] END learning_rate=0.1, max_depth=6, n_estimators=120, n_jobs=-1; total time=   0.1s\n",
            "[CV] END learning_rate=0.1, max_depth=6, n_estimators=120, n_jobs=-1; total time=   0.1s\n",
            "[CV] END learning_rate=0.1, max_depth=6, n_estimators=140, n_jobs=-1; total time=   0.1s\n",
            "[CV] END learning_rate=0.1, max_depth=6, n_estimators=140, n_jobs=-1; total time=   0.1s\n",
            "[CV] END learning_rate=0.1, max_depth=6, n_estimators=140, n_jobs=-1; total time=   0.1s\n",
            "[CV] END learning_rate=0.1, max_depth=6, n_estimators=140, n_jobs=-1; total time=   0.1s\n",
            "[CV] END learning_rate=0.1, max_depth=6, n_estimators=140, n_jobs=-1; total time=   0.1s\n",
            "[CV] END learning_rate=0.1, max_depth=6, n_estimators=160, n_jobs=-1; total time=   0.1s\n",
            "[CV] END learning_rate=0.1, max_depth=6, n_estimators=160, n_jobs=-1; total time=   0.1s\n",
            "[CV] END learning_rate=0.1, max_depth=6, n_estimators=160, n_jobs=-1; total time=   0.1s\n",
            "[CV] END learning_rate=0.1, max_depth=6, n_estimators=160, n_jobs=-1; total time=   0.1s\n",
            "[CV] END learning_rate=0.1, max_depth=6, n_estimators=160, n_jobs=-1; total time=   0.1s\n",
            "[CV] END learning_rate=0.1, max_depth=6, n_estimators=180, n_jobs=-1; total time=   0.1s\n",
            "[CV] END learning_rate=0.1, max_depth=6, n_estimators=180, n_jobs=-1; total time=   0.1s\n",
            "[CV] END learning_rate=0.1, max_depth=6, n_estimators=180, n_jobs=-1; total time=   0.1s\n",
            "[CV] END learning_rate=0.1, max_depth=6, n_estimators=180, n_jobs=-1; total time=   0.1s\n",
            "[CV] END learning_rate=0.1, max_depth=6, n_estimators=180, n_jobs=-1; total time=   0.1s\n",
            "[CV] END learning_rate=0.1, max_depth=6, n_estimators=200, n_jobs=-1; total time=   0.1s\n",
            "[CV] END learning_rate=0.1, max_depth=6, n_estimators=200, n_jobs=-1; total time=   0.1s\n",
            "[CV] END learning_rate=0.1, max_depth=6, n_estimators=200, n_jobs=-1; total time=   0.1s\n",
            "[CV] END learning_rate=0.1, max_depth=6, n_estimators=200, n_jobs=-1; total time=   0.1s\n",
            "[CV] END learning_rate=0.1, max_depth=6, n_estimators=200, n_jobs=-1; total time=   0.1s\n",
            "[CV] END learning_rate=0.1, max_depth=6, n_estimators=250, n_jobs=-1; total time=   0.1s\n",
            "[CV] END learning_rate=0.1, max_depth=6, n_estimators=250, n_jobs=-1; total time=   0.1s\n",
            "[CV] END learning_rate=0.1, max_depth=6, n_estimators=250, n_jobs=-1; total time=   0.1s\n",
            "[CV] END learning_rate=0.1, max_depth=6, n_estimators=250, n_jobs=-1; total time=   0.1s\n",
            "[CV] END learning_rate=0.1, max_depth=6, n_estimators=250, n_jobs=-1; total time=   0.1s\n",
            "[CV] END learning_rate=0.1, max_depth=6, n_estimators=300, n_jobs=-1; total time=   0.2s\n",
            "[CV] END learning_rate=0.1, max_depth=6, n_estimators=300, n_jobs=-1; total time=   0.2s\n",
            "[CV] END learning_rate=0.1, max_depth=6, n_estimators=300, n_jobs=-1; total time=   0.2s\n",
            "[CV] END learning_rate=0.1, max_depth=6, n_estimators=300, n_jobs=-1; total time=   0.2s\n",
            "[CV] END learning_rate=0.1, max_depth=6, n_estimators=300, n_jobs=-1; total time=   0.2s\n",
            "[CV] END learning_rate=0.1, max_depth=6, n_estimators=500, n_jobs=-1; total time=   0.3s\n",
            "[CV] END learning_rate=0.1, max_depth=6, n_estimators=500, n_jobs=-1; total time=   0.2s\n",
            "[CV] END learning_rate=0.1, max_depth=6, n_estimators=500, n_jobs=-1; total time=   0.3s\n",
            "[CV] END learning_rate=0.1, max_depth=6, n_estimators=500, n_jobs=-1; total time=   0.3s\n",
            "[CV] END learning_rate=0.1, max_depth=6, n_estimators=500, n_jobs=-1; total time=   0.2s\n",
            "[CV] END learning_rate=0.1, max_depth=6, n_estimators=1000, n_jobs=-1; total time=   0.5s\n",
            "[CV] END learning_rate=0.1, max_depth=6, n_estimators=1000, n_jobs=-1; total time=   0.5s\n",
            "[CV] END learning_rate=0.1, max_depth=6, n_estimators=1000, n_jobs=-1; total time=   0.5s\n",
            "[CV] END learning_rate=0.1, max_depth=6, n_estimators=1000, n_jobs=-1; total time=   0.5s\n",
            "[CV] END learning_rate=0.1, max_depth=6, n_estimators=1000, n_jobs=-1; total time=   0.5s\n",
            "[CV] END learning_rate=0.1, max_depth=8, n_estimators=100, n_jobs=-1; total time=   0.1s\n",
            "[CV] END learning_rate=0.1, max_depth=8, n_estimators=100, n_jobs=-1; total time=   0.1s\n",
            "[CV] END learning_rate=0.1, max_depth=8, n_estimators=100, n_jobs=-1; total time=   0.1s\n",
            "[CV] END learning_rate=0.1, max_depth=8, n_estimators=100, n_jobs=-1; total time=   0.1s\n",
            "[CV] END learning_rate=0.1, max_depth=8, n_estimators=100, n_jobs=-1; total time=   0.1s\n",
            "[CV] END learning_rate=0.1, max_depth=8, n_estimators=120, n_jobs=-1; total time=   0.1s\n",
            "[CV] END learning_rate=0.1, max_depth=8, n_estimators=120, n_jobs=-1; total time=   0.1s\n",
            "[CV] END learning_rate=0.1, max_depth=8, n_estimators=120, n_jobs=-1; total time=   0.1s\n",
            "[CV] END learning_rate=0.1, max_depth=8, n_estimators=120, n_jobs=-1; total time=   0.1s\n",
            "[CV] END learning_rate=0.1, max_depth=8, n_estimators=120, n_jobs=-1; total time=   0.1s\n",
            "[CV] END learning_rate=0.1, max_depth=8, n_estimators=140, n_jobs=-1; total time=   0.1s\n",
            "[CV] END learning_rate=0.1, max_depth=8, n_estimators=140, n_jobs=-1; total time=   0.1s\n",
            "[CV] END learning_rate=0.1, max_depth=8, n_estimators=140, n_jobs=-1; total time=   0.1s\n",
            "[CV] END learning_rate=0.1, max_depth=8, n_estimators=140, n_jobs=-1; total time=   0.1s\n",
            "[CV] END learning_rate=0.1, max_depth=8, n_estimators=140, n_jobs=-1; total time=   0.1s\n",
            "[CV] END learning_rate=0.1, max_depth=8, n_estimators=160, n_jobs=-1; total time=   0.1s\n",
            "[CV] END learning_rate=0.1, max_depth=8, n_estimators=160, n_jobs=-1; total time=   0.1s\n",
            "[CV] END learning_rate=0.1, max_depth=8, n_estimators=160, n_jobs=-1; total time=   0.1s\n",
            "[CV] END learning_rate=0.1, max_depth=8, n_estimators=160, n_jobs=-1; total time=   0.1s\n",
            "[CV] END learning_rate=0.1, max_depth=8, n_estimators=160, n_jobs=-1; total time=   0.1s\n",
            "[CV] END learning_rate=0.1, max_depth=8, n_estimators=180, n_jobs=-1; total time=   0.1s\n",
            "[CV] END learning_rate=0.1, max_depth=8, n_estimators=180, n_jobs=-1; total time=   0.1s\n",
            "[CV] END learning_rate=0.1, max_depth=8, n_estimators=180, n_jobs=-1; total time=   0.1s\n",
            "[CV] END learning_rate=0.1, max_depth=8, n_estimators=180, n_jobs=-1; total time=   0.1s\n",
            "[CV] END learning_rate=0.1, max_depth=8, n_estimators=180, n_jobs=-1; total time=   0.1s\n",
            "[CV] END learning_rate=0.1, max_depth=8, n_estimators=200, n_jobs=-1; total time=   0.1s\n",
            "[CV] END learning_rate=0.1, max_depth=8, n_estimators=200, n_jobs=-1; total time=   0.1s\n",
            "[CV] END learning_rate=0.1, max_depth=8, n_estimators=200, n_jobs=-1; total time=   0.1s\n",
            "[CV] END learning_rate=0.1, max_depth=8, n_estimators=200, n_jobs=-1; total time=   0.1s\n",
            "[CV] END learning_rate=0.1, max_depth=8, n_estimators=200, n_jobs=-1; total time=   0.1s\n",
            "[CV] END learning_rate=0.1, max_depth=8, n_estimators=250, n_jobs=-1; total time=   0.2s\n",
            "[CV] END learning_rate=0.1, max_depth=8, n_estimators=250, n_jobs=-1; total time=   0.2s\n",
            "[CV] END learning_rate=0.1, max_depth=8, n_estimators=250, n_jobs=-1; total time=   0.2s\n",
            "[CV] END learning_rate=0.1, max_depth=8, n_estimators=250, n_jobs=-1; total time=   0.2s\n",
            "[CV] END learning_rate=0.1, max_depth=8, n_estimators=250, n_jobs=-1; total time=   0.2s\n",
            "[CV] END learning_rate=0.1, max_depth=8, n_estimators=300, n_jobs=-1; total time=   0.2s\n",
            "[CV] END learning_rate=0.1, max_depth=8, n_estimators=300, n_jobs=-1; total time=   0.2s\n",
            "[CV] END learning_rate=0.1, max_depth=8, n_estimators=300, n_jobs=-1; total time=   0.2s\n",
            "[CV] END learning_rate=0.1, max_depth=8, n_estimators=300, n_jobs=-1; total time=   0.2s\n",
            "[CV] END learning_rate=0.1, max_depth=8, n_estimators=300, n_jobs=-1; total time=   0.2s\n",
            "[CV] END learning_rate=0.1, max_depth=8, n_estimators=500, n_jobs=-1; total time=   0.3s\n",
            "[CV] END learning_rate=0.1, max_depth=8, n_estimators=500, n_jobs=-1; total time=   0.3s\n",
            "[CV] END learning_rate=0.1, max_depth=8, n_estimators=500, n_jobs=-1; total time=   0.3s\n",
            "[CV] END learning_rate=0.1, max_depth=8, n_estimators=500, n_jobs=-1; total time=   0.3s\n",
            "[CV] END learning_rate=0.1, max_depth=8, n_estimators=500, n_jobs=-1; total time=   0.3s\n",
            "[CV] END learning_rate=0.1, max_depth=8, n_estimators=1000, n_jobs=-1; total time=   0.7s\n",
            "[CV] END learning_rate=0.1, max_depth=8, n_estimators=1000, n_jobs=-1; total time=   0.6s\n",
            "[CV] END learning_rate=0.1, max_depth=8, n_estimators=1000, n_jobs=-1; total time=   0.6s\n",
            "[CV] END learning_rate=0.1, max_depth=8, n_estimators=1000, n_jobs=-1; total time=   0.7s\n",
            "[CV] END learning_rate=0.1, max_depth=8, n_estimators=1000, n_jobs=-1; total time=   0.6s\n",
            "[CV] END learning_rate=0.1, max_depth=10, n_estimators=100, n_jobs=-1; total time=   0.1s\n",
            "[CV] END learning_rate=0.1, max_depth=10, n_estimators=100, n_jobs=-1; total time=   0.1s\n",
            "[CV] END learning_rate=0.1, max_depth=10, n_estimators=100, n_jobs=-1; total time=   0.1s\n",
            "[CV] END learning_rate=0.1, max_depth=10, n_estimators=100, n_jobs=-1; total time=   0.1s\n",
            "[CV] END learning_rate=0.1, max_depth=10, n_estimators=100, n_jobs=-1; total time=   0.1s\n",
            "[CV] END learning_rate=0.1, max_depth=10, n_estimators=120, n_jobs=-1; total time=   0.1s\n",
            "[CV] END learning_rate=0.1, max_depth=10, n_estimators=120, n_jobs=-1; total time=   0.1s\n",
            "[CV] END learning_rate=0.1, max_depth=10, n_estimators=120, n_jobs=-1; total time=   0.1s\n",
            "[CV] END learning_rate=0.1, max_depth=10, n_estimators=120, n_jobs=-1; total time=   0.1s\n",
            "[CV] END learning_rate=0.1, max_depth=10, n_estimators=120, n_jobs=-1; total time=   0.1s\n",
            "[CV] END learning_rate=0.1, max_depth=10, n_estimators=140, n_jobs=-1; total time=   0.1s\n",
            "[CV] END learning_rate=0.1, max_depth=10, n_estimators=140, n_jobs=-1; total time=   0.1s\n",
            "[CV] END learning_rate=0.1, max_depth=10, n_estimators=140, n_jobs=-1; total time=   0.1s\n",
            "[CV] END learning_rate=0.1, max_depth=10, n_estimators=140, n_jobs=-1; total time=   0.1s\n",
            "[CV] END learning_rate=0.1, max_depth=10, n_estimators=140, n_jobs=-1; total time=   0.1s\n",
            "[CV] END learning_rate=0.1, max_depth=10, n_estimators=160, n_jobs=-1; total time=   0.1s\n",
            "[CV] END learning_rate=0.1, max_depth=10, n_estimators=160, n_jobs=-1; total time=   0.1s\n",
            "[CV] END learning_rate=0.1, max_depth=10, n_estimators=160, n_jobs=-1; total time=   0.1s\n",
            "[CV] END learning_rate=0.1, max_depth=10, n_estimators=160, n_jobs=-1; total time=   0.1s\n",
            "[CV] END learning_rate=0.1, max_depth=10, n_estimators=160, n_jobs=-1; total time=   0.1s\n",
            "[CV] END learning_rate=0.1, max_depth=10, n_estimators=180, n_jobs=-1; total time=   0.2s\n",
            "[CV] END learning_rate=0.1, max_depth=10, n_estimators=180, n_jobs=-1; total time=   0.1s\n",
            "[CV] END learning_rate=0.1, max_depth=10, n_estimators=180, n_jobs=-1; total time=   0.1s\n",
            "[CV] END learning_rate=0.1, max_depth=10, n_estimators=180, n_jobs=-1; total time=   0.2s\n",
            "[CV] END learning_rate=0.1, max_depth=10, n_estimators=180, n_jobs=-1; total time=   0.1s\n",
            "[CV] END learning_rate=0.1, max_depth=10, n_estimators=200, n_jobs=-1; total time=   0.2s\n",
            "[CV] END learning_rate=0.1, max_depth=10, n_estimators=200, n_jobs=-1; total time=   0.2s\n",
            "[CV] END learning_rate=0.1, max_depth=10, n_estimators=200, n_jobs=-1; total time=   0.2s\n",
            "[CV] END learning_rate=0.1, max_depth=10, n_estimators=200, n_jobs=-1; total time=   0.2s\n",
            "[CV] END learning_rate=0.1, max_depth=10, n_estimators=200, n_jobs=-1; total time=   0.2s\n",
            "[CV] END learning_rate=0.1, max_depth=10, n_estimators=250, n_jobs=-1; total time=   0.2s\n",
            "[CV] END learning_rate=0.1, max_depth=10, n_estimators=250, n_jobs=-1; total time=   0.2s\n",
            "[CV] END learning_rate=0.1, max_depth=10, n_estimators=250, n_jobs=-1; total time=   0.2s\n",
            "[CV] END learning_rate=0.1, max_depth=10, n_estimators=250, n_jobs=-1; total time=   0.2s\n",
            "[CV] END learning_rate=0.1, max_depth=10, n_estimators=250, n_jobs=-1; total time=   0.2s\n",
            "[CV] END learning_rate=0.1, max_depth=10, n_estimators=300, n_jobs=-1; total time=   0.2s\n",
            "[CV] END learning_rate=0.1, max_depth=10, n_estimators=300, n_jobs=-1; total time=   0.2s\n",
            "[CV] END learning_rate=0.1, max_depth=10, n_estimators=300, n_jobs=-1; total time=   0.2s\n",
            "[CV] END learning_rate=0.1, max_depth=10, n_estimators=300, n_jobs=-1; total time=   0.2s\n",
            "[CV] END learning_rate=0.1, max_depth=10, n_estimators=300, n_jobs=-1; total time=   0.2s\n",
            "[CV] END learning_rate=0.1, max_depth=10, n_estimators=500, n_jobs=-1; total time=   0.4s\n",
            "[CV] END learning_rate=0.1, max_depth=10, n_estimators=500, n_jobs=-1; total time=   0.4s\n",
            "[CV] END learning_rate=0.1, max_depth=10, n_estimators=500, n_jobs=-1; total time=   0.4s\n",
            "[CV] END learning_rate=0.1, max_depth=10, n_estimators=500, n_jobs=-1; total time=   0.4s\n",
            "[CV] END learning_rate=0.1, max_depth=10, n_estimators=500, n_jobs=-1; total time=   0.4s\n",
            "[CV] END learning_rate=0.1, max_depth=10, n_estimators=1000, n_jobs=-1; total time=   0.8s\n",
            "[CV] END learning_rate=0.1, max_depth=10, n_estimators=1000, n_jobs=-1; total time=   0.8s\n",
            "[CV] END learning_rate=0.1, max_depth=10, n_estimators=1000, n_jobs=-1; total time=   0.8s\n",
            "[CV] END learning_rate=0.1, max_depth=10, n_estimators=1000, n_jobs=-1; total time=   0.8s\n",
            "[CV] END learning_rate=0.1, max_depth=10, n_estimators=1000, n_jobs=-1; total time=   0.8s\n",
            "[CV] END learning_rate=0.1, max_depth=12, n_estimators=100, n_jobs=-1; total time=   0.1s\n",
            "[CV] END learning_rate=0.1, max_depth=12, n_estimators=100, n_jobs=-1; total time=   0.1s\n",
            "[CV] END learning_rate=0.1, max_depth=12, n_estimators=100, n_jobs=-1; total time=   0.1s\n",
            "[CV] END learning_rate=0.1, max_depth=12, n_estimators=100, n_jobs=-1; total time=   0.1s\n",
            "[CV] END learning_rate=0.1, max_depth=12, n_estimators=100, n_jobs=-1; total time=   0.1s\n",
            "[CV] END learning_rate=0.1, max_depth=12, n_estimators=120, n_jobs=-1; total time=   0.1s\n",
            "[CV] END learning_rate=0.1, max_depth=12, n_estimators=120, n_jobs=-1; total time=   0.1s\n",
            "[CV] END learning_rate=0.1, max_depth=12, n_estimators=120, n_jobs=-1; total time=   0.1s\n",
            "[CV] END learning_rate=0.1, max_depth=12, n_estimators=120, n_jobs=-1; total time=   0.1s\n",
            "[CV] END learning_rate=0.1, max_depth=12, n_estimators=120, n_jobs=-1; total time=   0.1s\n",
            "[CV] END learning_rate=0.1, max_depth=12, n_estimators=140, n_jobs=-1; total time=   0.1s\n",
            "[CV] END learning_rate=0.1, max_depth=12, n_estimators=140, n_jobs=-1; total time=   0.1s\n",
            "[CV] END learning_rate=0.1, max_depth=12, n_estimators=140, n_jobs=-1; total time=   0.1s\n",
            "[CV] END learning_rate=0.1, max_depth=12, n_estimators=140, n_jobs=-1; total time=   0.1s\n",
            "[CV] END learning_rate=0.1, max_depth=12, n_estimators=140, n_jobs=-1; total time=   0.1s\n",
            "[CV] END learning_rate=0.1, max_depth=12, n_estimators=160, n_jobs=-1; total time=   0.1s\n",
            "[CV] END learning_rate=0.1, max_depth=12, n_estimators=160, n_jobs=-1; total time=   0.2s\n",
            "[CV] END learning_rate=0.1, max_depth=12, n_estimators=160, n_jobs=-1; total time=   0.2s\n",
            "[CV] END learning_rate=0.1, max_depth=12, n_estimators=160, n_jobs=-1; total time=   0.1s\n",
            "[CV] END learning_rate=0.1, max_depth=12, n_estimators=160, n_jobs=-1; total time=   0.1s\n",
            "[CV] END learning_rate=0.1, max_depth=12, n_estimators=180, n_jobs=-1; total time=   0.2s\n",
            "[CV] END learning_rate=0.1, max_depth=12, n_estimators=180, n_jobs=-1; total time=   0.2s\n",
            "[CV] END learning_rate=0.1, max_depth=12, n_estimators=180, n_jobs=-1; total time=   0.2s\n",
            "[CV] END learning_rate=0.1, max_depth=12, n_estimators=180, n_jobs=-1; total time=   0.2s\n",
            "[CV] END learning_rate=0.1, max_depth=12, n_estimators=180, n_jobs=-1; total time=   0.2s\n",
            "[CV] END learning_rate=0.1, max_depth=12, n_estimators=200, n_jobs=-1; total time=   0.2s\n",
            "[CV] END learning_rate=0.1, max_depth=12, n_estimators=200, n_jobs=-1; total time=   0.2s\n",
            "[CV] END learning_rate=0.1, max_depth=12, n_estimators=200, n_jobs=-1; total time=   0.2s\n",
            "[CV] END learning_rate=0.1, max_depth=12, n_estimators=200, n_jobs=-1; total time=   0.2s\n",
            "[CV] END learning_rate=0.1, max_depth=12, n_estimators=200, n_jobs=-1; total time=   0.2s\n",
            "[CV] END learning_rate=0.1, max_depth=12, n_estimators=250, n_jobs=-1; total time=   0.2s\n",
            "[CV] END learning_rate=0.1, max_depth=12, n_estimators=250, n_jobs=-1; total time=   0.2s\n",
            "[CV] END learning_rate=0.1, max_depth=12, n_estimators=250, n_jobs=-1; total time=   0.2s\n",
            "[CV] END learning_rate=0.1, max_depth=12, n_estimators=250, n_jobs=-1; total time=   0.2s\n",
            "[CV] END learning_rate=0.1, max_depth=12, n_estimators=250, n_jobs=-1; total time=   0.2s\n",
            "[CV] END learning_rate=0.1, max_depth=12, n_estimators=300, n_jobs=-1; total time=   0.3s\n",
            "[CV] END learning_rate=0.1, max_depth=12, n_estimators=300, n_jobs=-1; total time=   0.3s\n",
            "[CV] END learning_rate=0.1, max_depth=12, n_estimators=300, n_jobs=-1; total time=   0.3s\n",
            "[CV] END learning_rate=0.1, max_depth=12, n_estimators=300, n_jobs=-1; total time=   0.3s\n",
            "[CV] END learning_rate=0.1, max_depth=12, n_estimators=300, n_jobs=-1; total time=   0.3s\n",
            "[CV] END learning_rate=0.1, max_depth=12, n_estimators=500, n_jobs=-1; total time=   0.4s\n",
            "[CV] END learning_rate=0.1, max_depth=12, n_estimators=500, n_jobs=-1; total time=   0.4s\n",
            "[CV] END learning_rate=0.1, max_depth=12, n_estimators=500, n_jobs=-1; total time=   0.4s\n",
            "[CV] END learning_rate=0.1, max_depth=12, n_estimators=500, n_jobs=-1; total time=   0.4s\n",
            "[CV] END learning_rate=0.1, max_depth=12, n_estimators=500, n_jobs=-1; total time=   0.4s\n",
            "[CV] END learning_rate=0.1, max_depth=12, n_estimators=1000, n_jobs=-1; total time=   0.9s\n",
            "[CV] END learning_rate=0.1, max_depth=12, n_estimators=1000, n_jobs=-1; total time=   0.9s\n",
            "[CV] END learning_rate=0.1, max_depth=12, n_estimators=1000, n_jobs=-1; total time=   0.9s\n",
            "[CV] END learning_rate=0.1, max_depth=12, n_estimators=1000, n_jobs=-1; total time=   0.9s\n",
            "[CV] END learning_rate=0.1, max_depth=12, n_estimators=1000, n_jobs=-1; total time=   0.9s\n",
            "[CV] END learning_rate=0.05, max_depth=4, n_estimators=100, n_jobs=-1; total time=   0.0s\n",
            "[CV] END learning_rate=0.05, max_depth=4, n_estimators=100, n_jobs=-1; total time=   0.0s\n",
            "[CV] END learning_rate=0.05, max_depth=4, n_estimators=100, n_jobs=-1; total time=   0.0s\n",
            "[CV] END learning_rate=0.05, max_depth=4, n_estimators=100, n_jobs=-1; total time=   0.0s\n",
            "[CV] END learning_rate=0.05, max_depth=4, n_estimators=100, n_jobs=-1; total time=   0.1s\n",
            "[CV] END learning_rate=0.05, max_depth=4, n_estimators=120, n_jobs=-1; total time=   0.1s\n",
            "[CV] END learning_rate=0.05, max_depth=4, n_estimators=120, n_jobs=-1; total time=   0.1s\n",
            "[CV] END learning_rate=0.05, max_depth=4, n_estimators=120, n_jobs=-1; total time=   0.1s\n",
            "[CV] END learning_rate=0.05, max_depth=4, n_estimators=120, n_jobs=-1; total time=   0.1s\n",
            "[CV] END learning_rate=0.05, max_depth=4, n_estimators=120, n_jobs=-1; total time=   0.1s\n",
            "[CV] END learning_rate=0.05, max_depth=4, n_estimators=140, n_jobs=-1; total time=   0.1s\n",
            "[CV] END learning_rate=0.05, max_depth=4, n_estimators=140, n_jobs=-1; total time=   0.1s\n",
            "[CV] END learning_rate=0.05, max_depth=4, n_estimators=140, n_jobs=-1; total time=   0.1s\n",
            "[CV] END learning_rate=0.05, max_depth=4, n_estimators=140, n_jobs=-1; total time=   0.1s\n",
            "[CV] END learning_rate=0.05, max_depth=4, n_estimators=140, n_jobs=-1; total time=   0.1s\n",
            "[CV] END learning_rate=0.05, max_depth=4, n_estimators=160, n_jobs=-1; total time=   0.1s\n",
            "[CV] END learning_rate=0.05, max_depth=4, n_estimators=160, n_jobs=-1; total time=   0.1s\n",
            "[CV] END learning_rate=0.05, max_depth=4, n_estimators=160, n_jobs=-1; total time=   0.1s\n",
            "[CV] END learning_rate=0.05, max_depth=4, n_estimators=160, n_jobs=-1; total time=   0.1s\n",
            "[CV] END learning_rate=0.05, max_depth=4, n_estimators=160, n_jobs=-1; total time=   0.1s\n",
            "[CV] END learning_rate=0.05, max_depth=4, n_estimators=180, n_jobs=-1; total time=   0.1s\n",
            "[CV] END learning_rate=0.05, max_depth=4, n_estimators=180, n_jobs=-1; total time=   0.1s\n",
            "[CV] END learning_rate=0.05, max_depth=4, n_estimators=180, n_jobs=-1; total time=   0.1s\n",
            "[CV] END learning_rate=0.05, max_depth=4, n_estimators=180, n_jobs=-1; total time=   0.1s\n",
            "[CV] END learning_rate=0.05, max_depth=4, n_estimators=180, n_jobs=-1; total time=   0.1s\n",
            "[CV] END learning_rate=0.05, max_depth=4, n_estimators=200, n_jobs=-1; total time=   0.1s\n",
            "[CV] END learning_rate=0.05, max_depth=4, n_estimators=200, n_jobs=-1; total time=   0.1s\n",
            "[CV] END learning_rate=0.05, max_depth=4, n_estimators=200, n_jobs=-1; total time=   0.1s\n",
            "[CV] END learning_rate=0.05, max_depth=4, n_estimators=200, n_jobs=-1; total time=   0.1s\n",
            "[CV] END learning_rate=0.05, max_depth=4, n_estimators=200, n_jobs=-1; total time=   0.1s\n",
            "[CV] END learning_rate=0.05, max_depth=4, n_estimators=250, n_jobs=-1; total time=   0.1s\n",
            "[CV] END learning_rate=0.05, max_depth=4, n_estimators=250, n_jobs=-1; total time=   0.1s\n",
            "[CV] END learning_rate=0.05, max_depth=4, n_estimators=250, n_jobs=-1; total time=   0.1s\n",
            "[CV] END learning_rate=0.05, max_depth=4, n_estimators=250, n_jobs=-1; total time=   0.1s\n",
            "[CV] END learning_rate=0.05, max_depth=4, n_estimators=250, n_jobs=-1; total time=   0.1s\n",
            "[CV] END learning_rate=0.05, max_depth=4, n_estimators=300, n_jobs=-1; total time=   0.1s\n",
            "[CV] END learning_rate=0.05, max_depth=4, n_estimators=300, n_jobs=-1; total time=   0.1s\n",
            "[CV] END learning_rate=0.05, max_depth=4, n_estimators=300, n_jobs=-1; total time=   0.1s\n",
            "[CV] END learning_rate=0.05, max_depth=4, n_estimators=300, n_jobs=-1; total time=   0.1s\n",
            "[CV] END learning_rate=0.05, max_depth=4, n_estimators=300, n_jobs=-1; total time=   0.1s\n",
            "[CV] END learning_rate=0.05, max_depth=4, n_estimators=500, n_jobs=-1; total time=   0.2s\n",
            "[CV] END learning_rate=0.05, max_depth=4, n_estimators=500, n_jobs=-1; total time=   0.2s\n",
            "[CV] END learning_rate=0.05, max_depth=4, n_estimators=500, n_jobs=-1; total time=   0.2s\n",
            "[CV] END learning_rate=0.05, max_depth=4, n_estimators=500, n_jobs=-1; total time=   0.2s\n",
            "[CV] END learning_rate=0.05, max_depth=4, n_estimators=500, n_jobs=-1; total time=   0.2s\n",
            "[CV] END learning_rate=0.05, max_depth=4, n_estimators=1000, n_jobs=-1; total time=   0.3s\n",
            "[CV] END learning_rate=0.05, max_depth=4, n_estimators=1000, n_jobs=-1; total time=   0.3s\n",
            "[CV] END learning_rate=0.05, max_depth=4, n_estimators=1000, n_jobs=-1; total time=   0.4s\n",
            "[CV] END learning_rate=0.05, max_depth=4, n_estimators=1000, n_jobs=-1; total time=   0.4s\n",
            "[CV] END learning_rate=0.05, max_depth=4, n_estimators=1000, n_jobs=-1; total time=   0.3s\n",
            "[CV] END learning_rate=0.05, max_depth=6, n_estimators=100, n_jobs=-1; total time=   0.1s\n",
            "[CV] END learning_rate=0.05, max_depth=6, n_estimators=100, n_jobs=-1; total time=   0.1s\n",
            "[CV] END learning_rate=0.05, max_depth=6, n_estimators=100, n_jobs=-1; total time=   0.1s\n",
            "[CV] END learning_rate=0.05, max_depth=6, n_estimators=100, n_jobs=-1; total time=   0.1s\n",
            "[CV] END learning_rate=0.05, max_depth=6, n_estimators=100, n_jobs=-1; total time=   0.1s\n",
            "[CV] END learning_rate=0.05, max_depth=6, n_estimators=120, n_jobs=-1; total time=   0.1s\n",
            "[CV] END learning_rate=0.05, max_depth=6, n_estimators=120, n_jobs=-1; total time=   0.1s\n",
            "[CV] END learning_rate=0.05, max_depth=6, n_estimators=120, n_jobs=-1; total time=   0.1s\n",
            "[CV] END learning_rate=0.05, max_depth=6, n_estimators=120, n_jobs=-1; total time=   0.1s\n",
            "[CV] END learning_rate=0.05, max_depth=6, n_estimators=120, n_jobs=-1; total time=   0.1s\n",
            "[CV] END learning_rate=0.05, max_depth=6, n_estimators=140, n_jobs=-1; total time=   0.1s\n",
            "[CV] END learning_rate=0.05, max_depth=6, n_estimators=140, n_jobs=-1; total time=   0.1s\n",
            "[CV] END learning_rate=0.05, max_depth=6, n_estimators=140, n_jobs=-1; total time=   0.1s\n",
            "[CV] END learning_rate=0.05, max_depth=6, n_estimators=140, n_jobs=-1; total time=   0.1s\n",
            "[CV] END learning_rate=0.05, max_depth=6, n_estimators=140, n_jobs=-1; total time=   0.1s\n",
            "[CV] END learning_rate=0.05, max_depth=6, n_estimators=160, n_jobs=-1; total time=   0.1s\n",
            "[CV] END learning_rate=0.05, max_depth=6, n_estimators=160, n_jobs=-1; total time=   0.1s\n",
            "[CV] END learning_rate=0.05, max_depth=6, n_estimators=160, n_jobs=-1; total time=   0.1s\n",
            "[CV] END learning_rate=0.05, max_depth=6, n_estimators=160, n_jobs=-1; total time=   0.1s\n",
            "[CV] END learning_rate=0.05, max_depth=6, n_estimators=160, n_jobs=-1; total time=   0.1s\n",
            "[CV] END learning_rate=0.05, max_depth=6, n_estimators=180, n_jobs=-1; total time=   0.1s\n",
            "[CV] END learning_rate=0.05, max_depth=6, n_estimators=180, n_jobs=-1; total time=   0.1s\n",
            "[CV] END learning_rate=0.05, max_depth=6, n_estimators=180, n_jobs=-1; total time=   0.1s\n",
            "[CV] END learning_rate=0.05, max_depth=6, n_estimators=180, n_jobs=-1; total time=   0.1s\n",
            "[CV] END learning_rate=0.05, max_depth=6, n_estimators=180, n_jobs=-1; total time=   0.1s\n",
            "[CV] END learning_rate=0.05, max_depth=6, n_estimators=200, n_jobs=-1; total time=   0.1s\n",
            "[CV] END learning_rate=0.05, max_depth=6, n_estimators=200, n_jobs=-1; total time=   0.1s\n",
            "[CV] END learning_rate=0.05, max_depth=6, n_estimators=200, n_jobs=-1; total time=   0.1s\n",
            "[CV] END learning_rate=0.05, max_depth=6, n_estimators=200, n_jobs=-1; total time=   0.1s\n",
            "[CV] END learning_rate=0.05, max_depth=6, n_estimators=200, n_jobs=-1; total time=   0.1s\n",
            "[CV] END learning_rate=0.05, max_depth=6, n_estimators=250, n_jobs=-1; total time=   0.2s\n",
            "[CV] END learning_rate=0.05, max_depth=6, n_estimators=250, n_jobs=-1; total time=   0.1s\n",
            "[CV] END learning_rate=0.05, max_depth=6, n_estimators=250, n_jobs=-1; total time=   0.1s\n",
            "[CV] END learning_rate=0.05, max_depth=6, n_estimators=250, n_jobs=-1; total time=   0.1s\n",
            "[CV] END learning_rate=0.05, max_depth=6, n_estimators=250, n_jobs=-1; total time=   0.1s\n",
            "[CV] END learning_rate=0.05, max_depth=6, n_estimators=300, n_jobs=-1; total time=   0.2s\n",
            "[CV] END learning_rate=0.05, max_depth=6, n_estimators=300, n_jobs=-1; total time=   0.2s\n",
            "[CV] END learning_rate=0.05, max_depth=6, n_estimators=300, n_jobs=-1; total time=   0.2s\n",
            "[CV] END learning_rate=0.05, max_depth=6, n_estimators=300, n_jobs=-1; total time=   0.2s\n",
            "[CV] END learning_rate=0.05, max_depth=6, n_estimators=300, n_jobs=-1; total time=   0.2s\n",
            "[CV] END learning_rate=0.05, max_depth=6, n_estimators=500, n_jobs=-1; total time=   0.3s\n",
            "[CV] END learning_rate=0.05, max_depth=6, n_estimators=500, n_jobs=-1; total time=   0.3s\n",
            "[CV] END learning_rate=0.05, max_depth=6, n_estimators=500, n_jobs=-1; total time=   0.3s\n",
            "[CV] END learning_rate=0.05, max_depth=6, n_estimators=500, n_jobs=-1; total time=   0.2s\n",
            "[CV] END learning_rate=0.05, max_depth=6, n_estimators=500, n_jobs=-1; total time=   0.3s\n",
            "[CV] END learning_rate=0.05, max_depth=6, n_estimators=1000, n_jobs=-1; total time=   0.5s\n",
            "[CV] END learning_rate=0.05, max_depth=6, n_estimators=1000, n_jobs=-1; total time=   0.5s\n",
            "[CV] END learning_rate=0.05, max_depth=6, n_estimators=1000, n_jobs=-1; total time=   0.5s\n",
            "[CV] END learning_rate=0.05, max_depth=6, n_estimators=1000, n_jobs=-1; total time=   0.5s\n",
            "[CV] END learning_rate=0.05, max_depth=6, n_estimators=1000, n_jobs=-1; total time=   0.5s\n",
            "[CV] END learning_rate=0.05, max_depth=8, n_estimators=100, n_jobs=-1; total time=   0.1s\n",
            "[CV] END learning_rate=0.05, max_depth=8, n_estimators=100, n_jobs=-1; total time=   0.1s\n",
            "[CV] END learning_rate=0.05, max_depth=8, n_estimators=100, n_jobs=-1; total time=   0.1s\n",
            "[CV] END learning_rate=0.05, max_depth=8, n_estimators=100, n_jobs=-1; total time=   0.1s\n",
            "[CV] END learning_rate=0.05, max_depth=8, n_estimators=100, n_jobs=-1; total time=   0.1s\n",
            "[CV] END learning_rate=0.05, max_depth=8, n_estimators=120, n_jobs=-1; total time=   0.1s\n",
            "[CV] END learning_rate=0.05, max_depth=8, n_estimators=120, n_jobs=-1; total time=   0.1s\n",
            "[CV] END learning_rate=0.05, max_depth=8, n_estimators=120, n_jobs=-1; total time=   0.1s\n",
            "[CV] END learning_rate=0.05, max_depth=8, n_estimators=120, n_jobs=-1; total time=   0.1s\n",
            "[CV] END learning_rate=0.05, max_depth=8, n_estimators=120, n_jobs=-1; total time=   0.1s\n",
            "[CV] END learning_rate=0.05, max_depth=8, n_estimators=140, n_jobs=-1; total time=   0.1s\n",
            "[CV] END learning_rate=0.05, max_depth=8, n_estimators=140, n_jobs=-1; total time=   0.1s\n",
            "[CV] END learning_rate=0.05, max_depth=8, n_estimators=140, n_jobs=-1; total time=   0.1s\n",
            "[CV] END learning_rate=0.05, max_depth=8, n_estimators=140, n_jobs=-1; total time=   0.1s\n",
            "[CV] END learning_rate=0.05, max_depth=8, n_estimators=140, n_jobs=-1; total time=   0.1s\n",
            "[CV] END learning_rate=0.05, max_depth=8, n_estimators=160, n_jobs=-1; total time=   0.1s\n",
            "[CV] END learning_rate=0.05, max_depth=8, n_estimators=160, n_jobs=-1; total time=   0.1s\n",
            "[CV] END learning_rate=0.05, max_depth=8, n_estimators=160, n_jobs=-1; total time=   0.1s\n",
            "[CV] END learning_rate=0.05, max_depth=8, n_estimators=160, n_jobs=-1; total time=   0.1s\n",
            "[CV] END learning_rate=0.05, max_depth=8, n_estimators=160, n_jobs=-1; total time=   0.1s\n",
            "[CV] END learning_rate=0.05, max_depth=8, n_estimators=180, n_jobs=-1; total time=   0.1s\n",
            "[CV] END learning_rate=0.05, max_depth=8, n_estimators=180, n_jobs=-1; total time=   0.1s\n",
            "[CV] END learning_rate=0.05, max_depth=8, n_estimators=180, n_jobs=-1; total time=   0.1s\n",
            "[CV] END learning_rate=0.05, max_depth=8, n_estimators=180, n_jobs=-1; total time=   0.1s\n",
            "[CV] END learning_rate=0.05, max_depth=8, n_estimators=180, n_jobs=-1; total time=   0.1s\n",
            "[CV] END learning_rate=0.05, max_depth=8, n_estimators=200, n_jobs=-1; total time=   0.1s\n",
            "[CV] END learning_rate=0.05, max_depth=8, n_estimators=200, n_jobs=-1; total time=   0.2s\n",
            "[CV] END learning_rate=0.05, max_depth=8, n_estimators=200, n_jobs=-1; total time=   0.1s\n",
            "[CV] END learning_rate=0.05, max_depth=8, n_estimators=200, n_jobs=-1; total time=   0.1s\n",
            "[CV] END learning_rate=0.05, max_depth=8, n_estimators=200, n_jobs=-1; total time=   0.1s\n",
            "[CV] END learning_rate=0.05, max_depth=8, n_estimators=250, n_jobs=-1; total time=   0.2s\n",
            "[CV] END learning_rate=0.05, max_depth=8, n_estimators=250, n_jobs=-1; total time=   0.2s\n",
            "[CV] END learning_rate=0.05, max_depth=8, n_estimators=250, n_jobs=-1; total time=   0.2s\n",
            "[CV] END learning_rate=0.05, max_depth=8, n_estimators=250, n_jobs=-1; total time=   0.2s\n",
            "[CV] END learning_rate=0.05, max_depth=8, n_estimators=250, n_jobs=-1; total time=   0.2s\n",
            "[CV] END learning_rate=0.05, max_depth=8, n_estimators=300, n_jobs=-1; total time=   0.2s\n",
            "[CV] END learning_rate=0.05, max_depth=8, n_estimators=300, n_jobs=-1; total time=   0.2s\n",
            "[CV] END learning_rate=0.05, max_depth=8, n_estimators=300, n_jobs=-1; total time=   0.2s\n",
            "[CV] END learning_rate=0.05, max_depth=8, n_estimators=300, n_jobs=-1; total time=   0.2s\n",
            "[CV] END learning_rate=0.05, max_depth=8, n_estimators=300, n_jobs=-1; total time=   0.2s\n",
            "[CV] END learning_rate=0.05, max_depth=8, n_estimators=500, n_jobs=-1; total time=   0.3s\n",
            "[CV] END learning_rate=0.05, max_depth=8, n_estimators=500, n_jobs=-1; total time=   0.3s\n",
            "[CV] END learning_rate=0.05, max_depth=8, n_estimators=500, n_jobs=-1; total time=   0.3s\n",
            "[CV] END learning_rate=0.05, max_depth=8, n_estimators=500, n_jobs=-1; total time=   0.3s\n",
            "[CV] END learning_rate=0.05, max_depth=8, n_estimators=500, n_jobs=-1; total time=   0.3s\n",
            "[CV] END learning_rate=0.05, max_depth=8, n_estimators=1000, n_jobs=-1; total time=   0.7s\n",
            "[CV] END learning_rate=0.05, max_depth=8, n_estimators=1000, n_jobs=-1; total time=   0.7s\n",
            "[CV] END learning_rate=0.05, max_depth=8, n_estimators=1000, n_jobs=-1; total time=   0.7s\n",
            "[CV] END learning_rate=0.05, max_depth=8, n_estimators=1000, n_jobs=-1; total time=   0.7s\n",
            "[CV] END learning_rate=0.05, max_depth=8, n_estimators=1000, n_jobs=-1; total time=   0.7s\n",
            "[CV] END learning_rate=0.05, max_depth=10, n_estimators=100, n_jobs=-1; total time=   0.1s\n",
            "[CV] END learning_rate=0.05, max_depth=10, n_estimators=100, n_jobs=-1; total time=   0.1s\n",
            "[CV] END learning_rate=0.05, max_depth=10, n_estimators=100, n_jobs=-1; total time=   0.1s\n",
            "[CV] END learning_rate=0.05, max_depth=10, n_estimators=100, n_jobs=-1; total time=   0.1s\n",
            "[CV] END learning_rate=0.05, max_depth=10, n_estimators=100, n_jobs=-1; total time=   0.1s\n",
            "[CV] END learning_rate=0.05, max_depth=10, n_estimators=120, n_jobs=-1; total time=   0.1s\n",
            "[CV] END learning_rate=0.05, max_depth=10, n_estimators=120, n_jobs=-1; total time=   0.1s\n",
            "[CV] END learning_rate=0.05, max_depth=10, n_estimators=120, n_jobs=-1; total time=   0.1s\n",
            "[CV] END learning_rate=0.05, max_depth=10, n_estimators=120, n_jobs=-1; total time=   0.1s\n",
            "[CV] END learning_rate=0.05, max_depth=10, n_estimators=120, n_jobs=-1; total time=   0.1s\n",
            "[CV] END learning_rate=0.05, max_depth=10, n_estimators=140, n_jobs=-1; total time=   0.1s\n",
            "[CV] END learning_rate=0.05, max_depth=10, n_estimators=140, n_jobs=-1; total time=   0.1s\n",
            "[CV] END learning_rate=0.05, max_depth=10, n_estimators=140, n_jobs=-1; total time=   0.1s\n",
            "[CV] END learning_rate=0.05, max_depth=10, n_estimators=140, n_jobs=-1; total time=   0.1s\n",
            "[CV] END learning_rate=0.05, max_depth=10, n_estimators=140, n_jobs=-1; total time=   0.1s\n",
            "[CV] END learning_rate=0.05, max_depth=10, n_estimators=160, n_jobs=-1; total time=   0.2s\n",
            "[CV] END learning_rate=0.05, max_depth=10, n_estimators=160, n_jobs=-1; total time=   0.1s\n",
            "[CV] END learning_rate=0.05, max_depth=10, n_estimators=160, n_jobs=-1; total time=   0.1s\n",
            "[CV] END learning_rate=0.05, max_depth=10, n_estimators=160, n_jobs=-1; total time=   0.1s\n",
            "[CV] END learning_rate=0.05, max_depth=10, n_estimators=160, n_jobs=-1; total time=   0.1s\n",
            "[CV] END learning_rate=0.05, max_depth=10, n_estimators=180, n_jobs=-1; total time=   0.2s\n",
            "[CV] END learning_rate=0.05, max_depth=10, n_estimators=180, n_jobs=-1; total time=   0.2s\n",
            "[CV] END learning_rate=0.05, max_depth=10, n_estimators=180, n_jobs=-1; total time=   0.2s\n",
            "[CV] END learning_rate=0.05, max_depth=10, n_estimators=180, n_jobs=-1; total time=   0.2s\n",
            "[CV] END learning_rate=0.05, max_depth=10, n_estimators=180, n_jobs=-1; total time=   0.2s\n",
            "[CV] END learning_rate=0.05, max_depth=10, n_estimators=200, n_jobs=-1; total time=   0.2s\n",
            "[CV] END learning_rate=0.05, max_depth=10, n_estimators=200, n_jobs=-1; total time=   0.2s\n",
            "[CV] END learning_rate=0.05, max_depth=10, n_estimators=200, n_jobs=-1; total time=   0.2s\n",
            "[CV] END learning_rate=0.05, max_depth=10, n_estimators=200, n_jobs=-1; total time=   0.2s\n",
            "[CV] END learning_rate=0.05, max_depth=10, n_estimators=200, n_jobs=-1; total time=   0.2s\n",
            "[CV] END learning_rate=0.05, max_depth=10, n_estimators=250, n_jobs=-1; total time=   0.2s\n",
            "[CV] END learning_rate=0.05, max_depth=10, n_estimators=250, n_jobs=-1; total time=   0.2s\n",
            "[CV] END learning_rate=0.05, max_depth=10, n_estimators=250, n_jobs=-1; total time=   0.2s\n",
            "[CV] END learning_rate=0.05, max_depth=10, n_estimators=250, n_jobs=-1; total time=   0.2s\n",
            "[CV] END learning_rate=0.05, max_depth=10, n_estimators=250, n_jobs=-1; total time=   0.2s\n",
            "[CV] END learning_rate=0.05, max_depth=10, n_estimators=300, n_jobs=-1; total time=   0.2s\n",
            "[CV] END learning_rate=0.05, max_depth=10, n_estimators=300, n_jobs=-1; total time=   0.2s\n",
            "[CV] END learning_rate=0.05, max_depth=10, n_estimators=300, n_jobs=-1; total time=   0.2s\n",
            "[CV] END learning_rate=0.05, max_depth=10, n_estimators=300, n_jobs=-1; total time=   0.3s\n",
            "[CV] END learning_rate=0.05, max_depth=10, n_estimators=300, n_jobs=-1; total time=   0.2s\n",
            "[CV] END learning_rate=0.05, max_depth=10, n_estimators=500, n_jobs=-1; total time=   0.4s\n",
            "[CV] END learning_rate=0.05, max_depth=10, n_estimators=500, n_jobs=-1; total time=   0.4s\n",
            "[CV] END learning_rate=0.05, max_depth=10, n_estimators=500, n_jobs=-1; total time=   0.4s\n",
            "[CV] END learning_rate=0.05, max_depth=10, n_estimators=500, n_jobs=-1; total time=   0.4s\n",
            "[CV] END learning_rate=0.05, max_depth=10, n_estimators=500, n_jobs=-1; total time=   0.4s\n",
            "[CV] END learning_rate=0.05, max_depth=10, n_estimators=1000, n_jobs=-1; total time=   0.8s\n",
            "[CV] END learning_rate=0.05, max_depth=10, n_estimators=1000, n_jobs=-1; total time=   0.8s\n",
            "[CV] END learning_rate=0.05, max_depth=10, n_estimators=1000, n_jobs=-1; total time=   0.8s\n",
            "[CV] END learning_rate=0.05, max_depth=10, n_estimators=1000, n_jobs=-1; total time=   0.8s\n",
            "[CV] END learning_rate=0.05, max_depth=10, n_estimators=1000, n_jobs=-1; total time=   0.8s\n",
            "[CV] END learning_rate=0.05, max_depth=12, n_estimators=100, n_jobs=-1; total time=   0.1s\n",
            "[CV] END learning_rate=0.05, max_depth=12, n_estimators=100, n_jobs=-1; total time=   0.1s\n",
            "[CV] END learning_rate=0.05, max_depth=12, n_estimators=100, n_jobs=-1; total time=   0.1s\n",
            "[CV] END learning_rate=0.05, max_depth=12, n_estimators=100, n_jobs=-1; total time=   0.1s\n",
            "[CV] END learning_rate=0.05, max_depth=12, n_estimators=100, n_jobs=-1; total time=   0.1s\n",
            "[CV] END learning_rate=0.05, max_depth=12, n_estimators=120, n_jobs=-1; total time=   0.1s\n",
            "[CV] END learning_rate=0.05, max_depth=12, n_estimators=120, n_jobs=-1; total time=   0.1s\n",
            "[CV] END learning_rate=0.05, max_depth=12, n_estimators=120, n_jobs=-1; total time=   0.1s\n",
            "[CV] END learning_rate=0.05, max_depth=12, n_estimators=120, n_jobs=-1; total time=   0.1s\n",
            "[CV] END learning_rate=0.05, max_depth=12, n_estimators=120, n_jobs=-1; total time=   0.1s\n",
            "[CV] END learning_rate=0.05, max_depth=12, n_estimators=140, n_jobs=-1; total time=   0.1s\n",
            "[CV] END learning_rate=0.05, max_depth=12, n_estimators=140, n_jobs=-1; total time=   0.1s\n",
            "[CV] END learning_rate=0.05, max_depth=12, n_estimators=140, n_jobs=-1; total time=   0.1s\n",
            "[CV] END learning_rate=0.05, max_depth=12, n_estimators=140, n_jobs=-1; total time=   0.1s\n",
            "[CV] END learning_rate=0.05, max_depth=12, n_estimators=140, n_jobs=-1; total time=   0.1s\n",
            "[CV] END learning_rate=0.05, max_depth=12, n_estimators=160, n_jobs=-1; total time=   0.2s\n",
            "[CV] END learning_rate=0.05, max_depth=12, n_estimators=160, n_jobs=-1; total time=   0.1s\n",
            "[CV] END learning_rate=0.05, max_depth=12, n_estimators=160, n_jobs=-1; total time=   0.2s\n",
            "[CV] END learning_rate=0.05, max_depth=12, n_estimators=160, n_jobs=-1; total time=   0.2s\n",
            "[CV] END learning_rate=0.05, max_depth=12, n_estimators=160, n_jobs=-1; total time=   0.1s\n",
            "[CV] END learning_rate=0.05, max_depth=12, n_estimators=180, n_jobs=-1; total time=   0.2s\n",
            "[CV] END learning_rate=0.05, max_depth=12, n_estimators=180, n_jobs=-1; total time=   0.2s\n",
            "[CV] END learning_rate=0.05, max_depth=12, n_estimators=180, n_jobs=-1; total time=   0.2s\n",
            "[CV] END learning_rate=0.05, max_depth=12, n_estimators=180, n_jobs=-1; total time=   0.2s\n",
            "[CV] END learning_rate=0.05, max_depth=12, n_estimators=180, n_jobs=-1; total time=   0.2s\n",
            "[CV] END learning_rate=0.05, max_depth=12, n_estimators=200, n_jobs=-1; total time=   0.2s\n",
            "[CV] END learning_rate=0.05, max_depth=12, n_estimators=200, n_jobs=-1; total time=   0.2s\n",
            "[CV] END learning_rate=0.05, max_depth=12, n_estimators=200, n_jobs=-1; total time=   0.2s\n",
            "[CV] END learning_rate=0.05, max_depth=12, n_estimators=200, n_jobs=-1; total time=   0.2s\n",
            "[CV] END learning_rate=0.05, max_depth=12, n_estimators=200, n_jobs=-1; total time=   0.2s\n",
            "[CV] END learning_rate=0.05, max_depth=12, n_estimators=250, n_jobs=-1; total time=   0.2s\n",
            "[CV] END learning_rate=0.05, max_depth=12, n_estimators=250, n_jobs=-1; total time=   0.2s\n",
            "[CV] END learning_rate=0.05, max_depth=12, n_estimators=250, n_jobs=-1; total time=   0.2s\n",
            "[CV] END learning_rate=0.05, max_depth=12, n_estimators=250, n_jobs=-1; total time=   0.2s\n",
            "[CV] END learning_rate=0.05, max_depth=12, n_estimators=250, n_jobs=-1; total time=   0.2s\n",
            "[CV] END learning_rate=0.05, max_depth=12, n_estimators=300, n_jobs=-1; total time=   0.3s\n",
            "[CV] END learning_rate=0.05, max_depth=12, n_estimators=300, n_jobs=-1; total time=   0.3s\n",
            "[CV] END learning_rate=0.05, max_depth=12, n_estimators=300, n_jobs=-1; total time=   0.3s\n",
            "[CV] END learning_rate=0.05, max_depth=12, n_estimators=300, n_jobs=-1; total time=   0.3s\n",
            "[CV] END learning_rate=0.05, max_depth=12, n_estimators=300, n_jobs=-1; total time=   0.3s\n",
            "[CV] END learning_rate=0.05, max_depth=12, n_estimators=500, n_jobs=-1; total time=   0.4s\n",
            "[CV] END learning_rate=0.05, max_depth=12, n_estimators=500, n_jobs=-1; total time=   0.4s\n",
            "[CV] END learning_rate=0.05, max_depth=12, n_estimators=500, n_jobs=-1; total time=   0.4s\n",
            "[CV] END learning_rate=0.05, max_depth=12, n_estimators=500, n_jobs=-1; total time=   0.4s\n",
            "[CV] END learning_rate=0.05, max_depth=12, n_estimators=500, n_jobs=-1; total time=   0.4s\n",
            "[CV] END learning_rate=0.05, max_depth=12, n_estimators=1000, n_jobs=-1; total time=   0.9s\n",
            "[CV] END learning_rate=0.05, max_depth=12, n_estimators=1000, n_jobs=-1; total time=   0.9s\n",
            "[CV] END learning_rate=0.05, max_depth=12, n_estimators=1000, n_jobs=-1; total time=   0.9s\n",
            "[CV] END learning_rate=0.05, max_depth=12, n_estimators=1000, n_jobs=-1; total time=   0.9s\n",
            "[CV] END learning_rate=0.05, max_depth=12, n_estimators=1000, n_jobs=-1; total time=   0.9s\n",
            "[CV] END learning_rate=0.06, max_depth=4, n_estimators=100, n_jobs=-1; total time=   0.0s\n",
            "[CV] END learning_rate=0.06, max_depth=4, n_estimators=100, n_jobs=-1; total time=   0.0s\n",
            "[CV] END learning_rate=0.06, max_depth=4, n_estimators=100, n_jobs=-1; total time=   0.0s\n",
            "[CV] END learning_rate=0.06, max_depth=4, n_estimators=100, n_jobs=-1; total time=   0.0s\n",
            "[CV] END learning_rate=0.06, max_depth=4, n_estimators=100, n_jobs=-1; total time=   0.1s\n",
            "[CV] END learning_rate=0.06, max_depth=4, n_estimators=120, n_jobs=-1; total time=   0.1s\n",
            "[CV] END learning_rate=0.06, max_depth=4, n_estimators=120, n_jobs=-1; total time=   0.1s\n",
            "[CV] END learning_rate=0.06, max_depth=4, n_estimators=120, n_jobs=-1; total time=   0.1s\n",
            "[CV] END learning_rate=0.06, max_depth=4, n_estimators=120, n_jobs=-1; total time=   0.1s\n",
            "[CV] END learning_rate=0.06, max_depth=4, n_estimators=120, n_jobs=-1; total time=   0.1s\n",
            "[CV] END learning_rate=0.06, max_depth=4, n_estimators=140, n_jobs=-1; total time=   0.1s\n",
            "[CV] END learning_rate=0.06, max_depth=4, n_estimators=140, n_jobs=-1; total time=   0.1s\n",
            "[CV] END learning_rate=0.06, max_depth=4, n_estimators=140, n_jobs=-1; total time=   0.1s\n",
            "[CV] END learning_rate=0.06, max_depth=4, n_estimators=140, n_jobs=-1; total time=   0.1s\n",
            "[CV] END learning_rate=0.06, max_depth=4, n_estimators=140, n_jobs=-1; total time=   0.1s\n",
            "[CV] END learning_rate=0.06, max_depth=4, n_estimators=160, n_jobs=-1; total time=   0.1s\n",
            "[CV] END learning_rate=0.06, max_depth=4, n_estimators=160, n_jobs=-1; total time=   0.1s\n",
            "[CV] END learning_rate=0.06, max_depth=4, n_estimators=160, n_jobs=-1; total time=   0.1s\n",
            "[CV] END learning_rate=0.06, max_depth=4, n_estimators=160, n_jobs=-1; total time=   0.1s\n",
            "[CV] END learning_rate=0.06, max_depth=4, n_estimators=160, n_jobs=-1; total time=   0.1s\n",
            "[CV] END learning_rate=0.06, max_depth=4, n_estimators=180, n_jobs=-1; total time=   0.1s\n",
            "[CV] END learning_rate=0.06, max_depth=4, n_estimators=180, n_jobs=-1; total time=   0.1s\n",
            "[CV] END learning_rate=0.06, max_depth=4, n_estimators=180, n_jobs=-1; total time=   0.1s\n",
            "[CV] END learning_rate=0.06, max_depth=4, n_estimators=180, n_jobs=-1; total time=   0.1s\n",
            "[CV] END learning_rate=0.06, max_depth=4, n_estimators=180, n_jobs=-1; total time=   0.1s\n",
            "[CV] END learning_rate=0.06, max_depth=4, n_estimators=200, n_jobs=-1; total time=   0.1s\n",
            "[CV] END learning_rate=0.06, max_depth=4, n_estimators=200, n_jobs=-1; total time=   0.1s\n",
            "[CV] END learning_rate=0.06, max_depth=4, n_estimators=200, n_jobs=-1; total time=   0.1s\n",
            "[CV] END learning_rate=0.06, max_depth=4, n_estimators=200, n_jobs=-1; total time=   0.1s\n",
            "[CV] END learning_rate=0.06, max_depth=4, n_estimators=200, n_jobs=-1; total time=   0.1s\n",
            "[CV] END learning_rate=0.06, max_depth=4, n_estimators=250, n_jobs=-1; total time=   0.1s\n",
            "[CV] END learning_rate=0.06, max_depth=4, n_estimators=250, n_jobs=-1; total time=   0.1s\n",
            "[CV] END learning_rate=0.06, max_depth=4, n_estimators=250, n_jobs=-1; total time=   0.1s\n",
            "[CV] END learning_rate=0.06, max_depth=4, n_estimators=250, n_jobs=-1; total time=   0.1s\n",
            "[CV] END learning_rate=0.06, max_depth=4, n_estimators=250, n_jobs=-1; total time=   0.1s\n",
            "[CV] END learning_rate=0.06, max_depth=4, n_estimators=300, n_jobs=-1; total time=   0.1s\n",
            "[CV] END learning_rate=0.06, max_depth=4, n_estimators=300, n_jobs=-1; total time=   0.1s\n",
            "[CV] END learning_rate=0.06, max_depth=4, n_estimators=300, n_jobs=-1; total time=   0.1s\n",
            "[CV] END learning_rate=0.06, max_depth=4, n_estimators=300, n_jobs=-1; total time=   0.1s\n",
            "[CV] END learning_rate=0.06, max_depth=4, n_estimators=300, n_jobs=-1; total time=   0.1s\n",
            "[CV] END learning_rate=0.06, max_depth=4, n_estimators=500, n_jobs=-1; total time=   0.2s\n",
            "[CV] END learning_rate=0.06, max_depth=4, n_estimators=500, n_jobs=-1; total time=   0.2s\n",
            "[CV] END learning_rate=0.06, max_depth=4, n_estimators=500, n_jobs=-1; total time=   0.2s\n",
            "[CV] END learning_rate=0.06, max_depth=4, n_estimators=500, n_jobs=-1; total time=   0.2s\n",
            "[CV] END learning_rate=0.06, max_depth=4, n_estimators=500, n_jobs=-1; total time=   0.2s\n",
            "[CV] END learning_rate=0.06, max_depth=4, n_estimators=1000, n_jobs=-1; total time=   0.3s\n",
            "[CV] END learning_rate=0.06, max_depth=4, n_estimators=1000, n_jobs=-1; total time=   0.4s\n",
            "[CV] END learning_rate=0.06, max_depth=4, n_estimators=1000, n_jobs=-1; total time=   0.3s\n",
            "[CV] END learning_rate=0.06, max_depth=4, n_estimators=1000, n_jobs=-1; total time=   0.4s\n",
            "[CV] END learning_rate=0.06, max_depth=4, n_estimators=1000, n_jobs=-1; total time=   0.4s\n",
            "[CV] END learning_rate=0.06, max_depth=6, n_estimators=100, n_jobs=-1; total time=   0.1s\n",
            "[CV] END learning_rate=0.06, max_depth=6, n_estimators=100, n_jobs=-1; total time=   0.1s\n",
            "[CV] END learning_rate=0.06, max_depth=6, n_estimators=100, n_jobs=-1; total time=   0.1s\n",
            "[CV] END learning_rate=0.06, max_depth=6, n_estimators=100, n_jobs=-1; total time=   0.1s\n",
            "[CV] END learning_rate=0.06, max_depth=6, n_estimators=100, n_jobs=-1; total time=   0.1s\n",
            "[CV] END learning_rate=0.06, max_depth=6, n_estimators=120, n_jobs=-1; total time=   0.1s\n",
            "[CV] END learning_rate=0.06, max_depth=6, n_estimators=120, n_jobs=-1; total time=   0.1s\n",
            "[CV] END learning_rate=0.06, max_depth=6, n_estimators=120, n_jobs=-1; total time=   0.1s\n",
            "[CV] END learning_rate=0.06, max_depth=6, n_estimators=120, n_jobs=-1; total time=   0.1s\n",
            "[CV] END learning_rate=0.06, max_depth=6, n_estimators=120, n_jobs=-1; total time=   0.1s\n",
            "[CV] END learning_rate=0.06, max_depth=6, n_estimators=140, n_jobs=-1; total time=   0.1s\n",
            "[CV] END learning_rate=0.06, max_depth=6, n_estimators=140, n_jobs=-1; total time=   0.1s\n",
            "[CV] END learning_rate=0.06, max_depth=6, n_estimators=140, n_jobs=-1; total time=   0.1s\n",
            "[CV] END learning_rate=0.06, max_depth=6, n_estimators=140, n_jobs=-1; total time=   0.1s\n",
            "[CV] END learning_rate=0.06, max_depth=6, n_estimators=140, n_jobs=-1; total time=   0.1s\n",
            "[CV] END learning_rate=0.06, max_depth=6, n_estimators=160, n_jobs=-1; total time=   0.1s\n",
            "[CV] END learning_rate=0.06, max_depth=6, n_estimators=160, n_jobs=-1; total time=   0.1s\n",
            "[CV] END learning_rate=0.06, max_depth=6, n_estimators=160, n_jobs=-1; total time=   0.1s\n",
            "[CV] END learning_rate=0.06, max_depth=6, n_estimators=160, n_jobs=-1; total time=   0.1s\n",
            "[CV] END learning_rate=0.06, max_depth=6, n_estimators=160, n_jobs=-1; total time=   0.1s\n",
            "[CV] END learning_rate=0.06, max_depth=6, n_estimators=180, n_jobs=-1; total time=   0.1s\n",
            "[CV] END learning_rate=0.06, max_depth=6, n_estimators=180, n_jobs=-1; total time=   0.1s\n",
            "[CV] END learning_rate=0.06, max_depth=6, n_estimators=180, n_jobs=-1; total time=   0.1s\n",
            "[CV] END learning_rate=0.06, max_depth=6, n_estimators=180, n_jobs=-1; total time=   0.1s\n",
            "[CV] END learning_rate=0.06, max_depth=6, n_estimators=180, n_jobs=-1; total time=   0.1s\n",
            "[CV] END learning_rate=0.06, max_depth=6, n_estimators=200, n_jobs=-1; total time=   0.1s\n",
            "[CV] END learning_rate=0.06, max_depth=6, n_estimators=200, n_jobs=-1; total time=   0.1s\n",
            "[CV] END learning_rate=0.06, max_depth=6, n_estimators=200, n_jobs=-1; total time=   0.1s\n",
            "[CV] END learning_rate=0.06, max_depth=6, n_estimators=200, n_jobs=-1; total time=   0.1s\n",
            "[CV] END learning_rate=0.06, max_depth=6, n_estimators=200, n_jobs=-1; total time=   0.1s\n",
            "[CV] END learning_rate=0.06, max_depth=6, n_estimators=250, n_jobs=-1; total time=   0.1s\n",
            "[CV] END learning_rate=0.06, max_depth=6, n_estimators=250, n_jobs=-1; total time=   0.1s\n",
            "[CV] END learning_rate=0.06, max_depth=6, n_estimators=250, n_jobs=-1; total time=   0.1s\n",
            "[CV] END learning_rate=0.06, max_depth=6, n_estimators=250, n_jobs=-1; total time=   0.2s\n",
            "[CV] END learning_rate=0.06, max_depth=6, n_estimators=250, n_jobs=-1; total time=   0.1s\n",
            "[CV] END learning_rate=0.06, max_depth=6, n_estimators=300, n_jobs=-1; total time=   0.2s\n",
            "[CV] END learning_rate=0.06, max_depth=6, n_estimators=300, n_jobs=-1; total time=   0.2s\n",
            "[CV] END learning_rate=0.06, max_depth=6, n_estimators=300, n_jobs=-1; total time=   0.2s\n",
            "[CV] END learning_rate=0.06, max_depth=6, n_estimators=300, n_jobs=-1; total time=   0.2s\n",
            "[CV] END learning_rate=0.06, max_depth=6, n_estimators=300, n_jobs=-1; total time=   0.2s\n",
            "[CV] END learning_rate=0.06, max_depth=6, n_estimators=500, n_jobs=-1; total time=   0.3s\n",
            "[CV] END learning_rate=0.06, max_depth=6, n_estimators=500, n_jobs=-1; total time=   0.3s\n",
            "[CV] END learning_rate=0.06, max_depth=6, n_estimators=500, n_jobs=-1; total time=   0.3s\n",
            "[CV] END learning_rate=0.06, max_depth=6, n_estimators=500, n_jobs=-1; total time=   0.3s\n",
            "[CV] END learning_rate=0.06, max_depth=6, n_estimators=500, n_jobs=-1; total time=   0.3s\n",
            "[CV] END learning_rate=0.06, max_depth=6, n_estimators=1000, n_jobs=-1; total time=   0.5s\n",
            "[CV] END learning_rate=0.06, max_depth=6, n_estimators=1000, n_jobs=-1; total time=   0.5s\n",
            "[CV] END learning_rate=0.06, max_depth=6, n_estimators=1000, n_jobs=-1; total time=   0.5s\n",
            "[CV] END learning_rate=0.06, max_depth=6, n_estimators=1000, n_jobs=-1; total time=   0.5s\n",
            "[CV] END learning_rate=0.06, max_depth=6, n_estimators=1000, n_jobs=-1; total time=   0.5s\n",
            "[CV] END learning_rate=0.06, max_depth=8, n_estimators=100, n_jobs=-1; total time=   0.1s\n",
            "[CV] END learning_rate=0.06, max_depth=8, n_estimators=100, n_jobs=-1; total time=   0.1s\n",
            "[CV] END learning_rate=0.06, max_depth=8, n_estimators=100, n_jobs=-1; total time=   0.1s\n",
            "[CV] END learning_rate=0.06, max_depth=8, n_estimators=100, n_jobs=-1; total time=   0.1s\n",
            "[CV] END learning_rate=0.06, max_depth=8, n_estimators=100, n_jobs=-1; total time=   0.1s\n",
            "[CV] END learning_rate=0.06, max_depth=8, n_estimators=120, n_jobs=-1; total time=   0.1s\n",
            "[CV] END learning_rate=0.06, max_depth=8, n_estimators=120, n_jobs=-1; total time=   0.1s\n",
            "[CV] END learning_rate=0.06, max_depth=8, n_estimators=120, n_jobs=-1; total time=   0.1s\n",
            "[CV] END learning_rate=0.06, max_depth=8, n_estimators=120, n_jobs=-1; total time=   0.1s\n",
            "[CV] END learning_rate=0.06, max_depth=8, n_estimators=120, n_jobs=-1; total time=   0.1s\n",
            "[CV] END learning_rate=0.06, max_depth=8, n_estimators=140, n_jobs=-1; total time=   0.1s\n",
            "[CV] END learning_rate=0.06, max_depth=8, n_estimators=140, n_jobs=-1; total time=   0.1s\n",
            "[CV] END learning_rate=0.06, max_depth=8, n_estimators=140, n_jobs=-1; total time=   0.1s\n",
            "[CV] END learning_rate=0.06, max_depth=8, n_estimators=140, n_jobs=-1; total time=   0.1s\n",
            "[CV] END learning_rate=0.06, max_depth=8, n_estimators=140, n_jobs=-1; total time=   0.1s\n",
            "[CV] END learning_rate=0.06, max_depth=8, n_estimators=160, n_jobs=-1; total time=   0.1s\n",
            "[CV] END learning_rate=0.06, max_depth=8, n_estimators=160, n_jobs=-1; total time=   0.1s\n",
            "[CV] END learning_rate=0.06, max_depth=8, n_estimators=160, n_jobs=-1; total time=   0.1s\n",
            "[CV] END learning_rate=0.06, max_depth=8, n_estimators=160, n_jobs=-1; total time=   0.1s\n",
            "[CV] END learning_rate=0.06, max_depth=8, n_estimators=160, n_jobs=-1; total time=   0.1s\n",
            "[CV] END learning_rate=0.06, max_depth=8, n_estimators=180, n_jobs=-1; total time=   0.1s\n",
            "[CV] END learning_rate=0.06, max_depth=8, n_estimators=180, n_jobs=-1; total time=   0.1s\n",
            "[CV] END learning_rate=0.06, max_depth=8, n_estimators=180, n_jobs=-1; total time=   0.1s\n",
            "[CV] END learning_rate=0.06, max_depth=8, n_estimators=180, n_jobs=-1; total time=   0.1s\n",
            "[CV] END learning_rate=0.06, max_depth=8, n_estimators=180, n_jobs=-1; total time=   0.1s\n",
            "[CV] END learning_rate=0.06, max_depth=8, n_estimators=200, n_jobs=-1; total time=   0.1s\n",
            "[CV] END learning_rate=0.06, max_depth=8, n_estimators=200, n_jobs=-1; total time=   0.1s\n",
            "[CV] END learning_rate=0.06, max_depth=8, n_estimators=200, n_jobs=-1; total time=   0.1s\n",
            "[CV] END learning_rate=0.06, max_depth=8, n_estimators=200, n_jobs=-1; total time=   0.2s\n",
            "[CV] END learning_rate=0.06, max_depth=8, n_estimators=200, n_jobs=-1; total time=   0.1s\n",
            "[CV] END learning_rate=0.06, max_depth=8, n_estimators=250, n_jobs=-1; total time=   0.2s\n",
            "[CV] END learning_rate=0.06, max_depth=8, n_estimators=250, n_jobs=-1; total time=   0.2s\n",
            "[CV] END learning_rate=0.06, max_depth=8, n_estimators=250, n_jobs=-1; total time=   0.2s\n",
            "[CV] END learning_rate=0.06, max_depth=8, n_estimators=250, n_jobs=-1; total time=   0.2s\n",
            "[CV] END learning_rate=0.06, max_depth=8, n_estimators=250, n_jobs=-1; total time=   0.2s\n",
            "[CV] END learning_rate=0.06, max_depth=8, n_estimators=300, n_jobs=-1; total time=   0.2s\n",
            "[CV] END learning_rate=0.06, max_depth=8, n_estimators=300, n_jobs=-1; total time=   0.2s\n",
            "[CV] END learning_rate=0.06, max_depth=8, n_estimators=300, n_jobs=-1; total time=   0.2s\n",
            "[CV] END learning_rate=0.06, max_depth=8, n_estimators=300, n_jobs=-1; total time=   0.2s\n",
            "[CV] END learning_rate=0.06, max_depth=8, n_estimators=300, n_jobs=-1; total time=   0.2s\n",
            "[CV] END learning_rate=0.06, max_depth=8, n_estimators=500, n_jobs=-1; total time=   0.3s\n",
            "[CV] END learning_rate=0.06, max_depth=8, n_estimators=500, n_jobs=-1; total time=   0.3s\n",
            "[CV] END learning_rate=0.06, max_depth=8, n_estimators=500, n_jobs=-1; total time=   0.3s\n",
            "[CV] END learning_rate=0.06, max_depth=8, n_estimators=500, n_jobs=-1; total time=   0.3s\n",
            "[CV] END learning_rate=0.06, max_depth=8, n_estimators=500, n_jobs=-1; total time=   0.3s\n",
            "[CV] END learning_rate=0.06, max_depth=8, n_estimators=1000, n_jobs=-1; total time=   0.7s\n",
            "[CV] END learning_rate=0.06, max_depth=8, n_estimators=1000, n_jobs=-1; total time=   0.7s\n",
            "[CV] END learning_rate=0.06, max_depth=8, n_estimators=1000, n_jobs=-1; total time=   0.6s\n",
            "[CV] END learning_rate=0.06, max_depth=8, n_estimators=1000, n_jobs=-1; total time=   0.7s\n",
            "[CV] END learning_rate=0.06, max_depth=8, n_estimators=1000, n_jobs=-1; total time=   0.7s\n",
            "[CV] END learning_rate=0.06, max_depth=10, n_estimators=100, n_jobs=-1; total time=   0.1s\n",
            "[CV] END learning_rate=0.06, max_depth=10, n_estimators=100, n_jobs=-1; total time=   0.1s\n",
            "[CV] END learning_rate=0.06, max_depth=10, n_estimators=100, n_jobs=-1; total time=   0.1s\n",
            "[CV] END learning_rate=0.06, max_depth=10, n_estimators=100, n_jobs=-1; total time=   0.1s\n",
            "[CV] END learning_rate=0.06, max_depth=10, n_estimators=100, n_jobs=-1; total time=   0.1s\n",
            "[CV] END learning_rate=0.06, max_depth=10, n_estimators=120, n_jobs=-1; total time=   0.1s\n",
            "[CV] END learning_rate=0.06, max_depth=10, n_estimators=120, n_jobs=-1; total time=   0.1s\n",
            "[CV] END learning_rate=0.06, max_depth=10, n_estimators=120, n_jobs=-1; total time=   0.1s\n",
            "[CV] END learning_rate=0.06, max_depth=10, n_estimators=120, n_jobs=-1; total time=   0.1s\n",
            "[CV] END learning_rate=0.06, max_depth=10, n_estimators=120, n_jobs=-1; total time=   0.1s\n",
            "[CV] END learning_rate=0.06, max_depth=10, n_estimators=140, n_jobs=-1; total time=   0.1s\n",
            "[CV] END learning_rate=0.06, max_depth=10, n_estimators=140, n_jobs=-1; total time=   0.1s\n",
            "[CV] END learning_rate=0.06, max_depth=10, n_estimators=140, n_jobs=-1; total time=   0.1s\n",
            "[CV] END learning_rate=0.06, max_depth=10, n_estimators=140, n_jobs=-1; total time=   0.1s\n",
            "[CV] END learning_rate=0.06, max_depth=10, n_estimators=140, n_jobs=-1; total time=   0.1s\n",
            "[CV] END learning_rate=0.06, max_depth=10, n_estimators=160, n_jobs=-1; total time=   0.1s\n",
            "[CV] END learning_rate=0.06, max_depth=10, n_estimators=160, n_jobs=-1; total time=   0.1s\n",
            "[CV] END learning_rate=0.06, max_depth=10, n_estimators=160, n_jobs=-1; total time=   0.1s\n",
            "[CV] END learning_rate=0.06, max_depth=10, n_estimators=160, n_jobs=-1; total time=   0.1s\n",
            "[CV] END learning_rate=0.06, max_depth=10, n_estimators=160, n_jobs=-1; total time=   0.1s\n",
            "[CV] END learning_rate=0.06, max_depth=10, n_estimators=180, n_jobs=-1; total time=   0.2s\n",
            "[CV] END learning_rate=0.06, max_depth=10, n_estimators=180, n_jobs=-1; total time=   0.1s\n",
            "[CV] END learning_rate=0.06, max_depth=10, n_estimators=180, n_jobs=-1; total time=   0.2s\n",
            "[CV] END learning_rate=0.06, max_depth=10, n_estimators=180, n_jobs=-1; total time=   0.1s\n",
            "[CV] END learning_rate=0.06, max_depth=10, n_estimators=180, n_jobs=-1; total time=   0.1s\n",
            "[CV] END learning_rate=0.06, max_depth=10, n_estimators=200, n_jobs=-1; total time=   0.2s\n",
            "[CV] END learning_rate=0.06, max_depth=10, n_estimators=200, n_jobs=-1; total time=   0.2s\n",
            "[CV] END learning_rate=0.06, max_depth=10, n_estimators=200, n_jobs=-1; total time=   0.2s\n",
            "[CV] END learning_rate=0.06, max_depth=10, n_estimators=200, n_jobs=-1; total time=   0.2s\n",
            "[CV] END learning_rate=0.06, max_depth=10, n_estimators=200, n_jobs=-1; total time=   0.2s\n",
            "[CV] END learning_rate=0.06, max_depth=10, n_estimators=250, n_jobs=-1; total time=   0.2s\n",
            "[CV] END learning_rate=0.06, max_depth=10, n_estimators=250, n_jobs=-1; total time=   0.2s\n",
            "[CV] END learning_rate=0.06, max_depth=10, n_estimators=250, n_jobs=-1; total time=   0.2s\n",
            "[CV] END learning_rate=0.06, max_depth=10, n_estimators=250, n_jobs=-1; total time=   0.2s\n",
            "[CV] END learning_rate=0.06, max_depth=10, n_estimators=250, n_jobs=-1; total time=   0.2s\n",
            "[CV] END learning_rate=0.06, max_depth=10, n_estimators=300, n_jobs=-1; total time=   0.2s\n",
            "[CV] END learning_rate=0.06, max_depth=10, n_estimators=300, n_jobs=-1; total time=   0.2s\n",
            "[CV] END learning_rate=0.06, max_depth=10, n_estimators=300, n_jobs=-1; total time=   0.2s\n",
            "[CV] END learning_rate=0.06, max_depth=10, n_estimators=300, n_jobs=-1; total time=   0.2s\n",
            "[CV] END learning_rate=0.06, max_depth=10, n_estimators=300, n_jobs=-1; total time=   0.2s\n",
            "[CV] END learning_rate=0.06, max_depth=10, n_estimators=500, n_jobs=-1; total time=   0.4s\n",
            "[CV] END learning_rate=0.06, max_depth=10, n_estimators=500, n_jobs=-1; total time=   0.4s\n",
            "[CV] END learning_rate=0.06, max_depth=10, n_estimators=500, n_jobs=-1; total time=   0.4s\n",
            "[CV] END learning_rate=0.06, max_depth=10, n_estimators=500, n_jobs=-1; total time=   0.4s\n",
            "[CV] END learning_rate=0.06, max_depth=10, n_estimators=500, n_jobs=-1; total time=   0.4s\n",
            "[CV] END learning_rate=0.06, max_depth=10, n_estimators=1000, n_jobs=-1; total time=   0.8s\n",
            "[CV] END learning_rate=0.06, max_depth=10, n_estimators=1000, n_jobs=-1; total time=   0.8s\n",
            "[CV] END learning_rate=0.06, max_depth=10, n_estimators=1000, n_jobs=-1; total time=   0.8s\n",
            "[CV] END learning_rate=0.06, max_depth=10, n_estimators=1000, n_jobs=-1; total time=   0.8s\n",
            "[CV] END learning_rate=0.06, max_depth=10, n_estimators=1000, n_jobs=-1; total time=   0.8s\n",
            "[CV] END learning_rate=0.06, max_depth=12, n_estimators=100, n_jobs=-1; total time=   0.1s\n",
            "[CV] END learning_rate=0.06, max_depth=12, n_estimators=100, n_jobs=-1; total time=   0.1s\n",
            "[CV] END learning_rate=0.06, max_depth=12, n_estimators=100, n_jobs=-1; total time=   0.1s\n",
            "[CV] END learning_rate=0.06, max_depth=12, n_estimators=100, n_jobs=-1; total time=   0.1s\n",
            "[CV] END learning_rate=0.06, max_depth=12, n_estimators=100, n_jobs=-1; total time=   0.1s\n",
            "[CV] END learning_rate=0.06, max_depth=12, n_estimators=120, n_jobs=-1; total time=   0.1s\n",
            "[CV] END learning_rate=0.06, max_depth=12, n_estimators=120, n_jobs=-1; total time=   0.1s\n",
            "[CV] END learning_rate=0.06, max_depth=12, n_estimators=120, n_jobs=-1; total time=   0.1s\n",
            "[CV] END learning_rate=0.06, max_depth=12, n_estimators=120, n_jobs=-1; total time=   0.1s\n",
            "[CV] END learning_rate=0.06, max_depth=12, n_estimators=120, n_jobs=-1; total time=   0.1s\n",
            "[CV] END learning_rate=0.06, max_depth=12, n_estimators=140, n_jobs=-1; total time=   0.1s\n",
            "[CV] END learning_rate=0.06, max_depth=12, n_estimators=140, n_jobs=-1; total time=   0.1s\n",
            "[CV] END learning_rate=0.06, max_depth=12, n_estimators=140, n_jobs=-1; total time=   0.1s\n",
            "[CV] END learning_rate=0.06, max_depth=12, n_estimators=140, n_jobs=-1; total time=   0.1s\n",
            "[CV] END learning_rate=0.06, max_depth=12, n_estimators=140, n_jobs=-1; total time=   0.1s\n",
            "[CV] END learning_rate=0.06, max_depth=12, n_estimators=160, n_jobs=-1; total time=   0.2s\n",
            "[CV] END learning_rate=0.06, max_depth=12, n_estimators=160, n_jobs=-1; total time=   0.2s\n",
            "[CV] END learning_rate=0.06, max_depth=12, n_estimators=160, n_jobs=-1; total time=   0.2s\n",
            "[CV] END learning_rate=0.06, max_depth=12, n_estimators=160, n_jobs=-1; total time=   0.1s\n",
            "[CV] END learning_rate=0.06, max_depth=12, n_estimators=160, n_jobs=-1; total time=   0.1s\n",
            "[CV] END learning_rate=0.06, max_depth=12, n_estimators=180, n_jobs=-1; total time=   0.2s\n",
            "[CV] END learning_rate=0.06, max_depth=12, n_estimators=180, n_jobs=-1; total time=   0.2s\n",
            "[CV] END learning_rate=0.06, max_depth=12, n_estimators=180, n_jobs=-1; total time=   0.2s\n",
            "[CV] END learning_rate=0.06, max_depth=12, n_estimators=180, n_jobs=-1; total time=   0.2s\n",
            "[CV] END learning_rate=0.06, max_depth=12, n_estimators=180, n_jobs=-1; total time=   0.2s\n",
            "[CV] END learning_rate=0.06, max_depth=12, n_estimators=200, n_jobs=-1; total time=   0.2s\n",
            "[CV] END learning_rate=0.06, max_depth=12, n_estimators=200, n_jobs=-1; total time=   0.2s\n",
            "[CV] END learning_rate=0.06, max_depth=12, n_estimators=200, n_jobs=-1; total time=   0.2s\n",
            "[CV] END learning_rate=0.06, max_depth=12, n_estimators=200, n_jobs=-1; total time=   0.2s\n",
            "[CV] END learning_rate=0.06, max_depth=12, n_estimators=200, n_jobs=-1; total time=   0.2s\n",
            "[CV] END learning_rate=0.06, max_depth=12, n_estimators=250, n_jobs=-1; total time=   0.2s\n",
            "[CV] END learning_rate=0.06, max_depth=12, n_estimators=250, n_jobs=-1; total time=   0.2s\n",
            "[CV] END learning_rate=0.06, max_depth=12, n_estimators=250, n_jobs=-1; total time=   0.2s\n",
            "[CV] END learning_rate=0.06, max_depth=12, n_estimators=250, n_jobs=-1; total time=   0.2s\n",
            "[CV] END learning_rate=0.06, max_depth=12, n_estimators=250, n_jobs=-1; total time=   0.2s\n",
            "[CV] END learning_rate=0.06, max_depth=12, n_estimators=300, n_jobs=-1; total time=   0.3s\n",
            "[CV] END learning_rate=0.06, max_depth=12, n_estimators=300, n_jobs=-1; total time=   0.3s\n",
            "[CV] END learning_rate=0.06, max_depth=12, n_estimators=300, n_jobs=-1; total time=   0.3s\n",
            "[CV] END learning_rate=0.06, max_depth=12, n_estimators=300, n_jobs=-1; total time=   0.3s\n",
            "[CV] END learning_rate=0.06, max_depth=12, n_estimators=300, n_jobs=-1; total time=   0.3s\n",
            "[CV] END learning_rate=0.06, max_depth=12, n_estimators=500, n_jobs=-1; total time=   0.4s\n",
            "[CV] END learning_rate=0.06, max_depth=12, n_estimators=500, n_jobs=-1; total time=   0.4s\n",
            "[CV] END learning_rate=0.06, max_depth=12, n_estimators=500, n_jobs=-1; total time=   0.4s\n",
            "[CV] END learning_rate=0.06, max_depth=12, n_estimators=500, n_jobs=-1; total time=   0.4s\n",
            "[CV] END learning_rate=0.06, max_depth=12, n_estimators=500, n_jobs=-1; total time=   0.4s\n",
            "[CV] END learning_rate=0.06, max_depth=12, n_estimators=1000, n_jobs=-1; total time=   0.9s\n",
            "[CV] END learning_rate=0.06, max_depth=12, n_estimators=1000, n_jobs=-1; total time=   0.9s\n",
            "[CV] END learning_rate=0.06, max_depth=12, n_estimators=1000, n_jobs=-1; total time=   0.9s\n",
            "[CV] END learning_rate=0.06, max_depth=12, n_estimators=1000, n_jobs=-1; total time=   0.9s\n",
            "[CV] END learning_rate=0.06, max_depth=12, n_estimators=1000, n_jobs=-1; total time=   0.9s\n",
            "[CV] END learning_rate=0.08, max_depth=4, n_estimators=100, n_jobs=-1; total time=   0.0s\n",
            "[CV] END learning_rate=0.08, max_depth=4, n_estimators=100, n_jobs=-1; total time=   0.0s\n",
            "[CV] END learning_rate=0.08, max_depth=4, n_estimators=100, n_jobs=-1; total time=   0.0s\n",
            "[CV] END learning_rate=0.08, max_depth=4, n_estimators=100, n_jobs=-1; total time=   0.0s\n",
            "[CV] END learning_rate=0.08, max_depth=4, n_estimators=100, n_jobs=-1; total time=   0.1s\n",
            "[CV] END learning_rate=0.08, max_depth=4, n_estimators=120, n_jobs=-1; total time=   0.1s\n",
            "[CV] END learning_rate=0.08, max_depth=4, n_estimators=120, n_jobs=-1; total time=   0.1s\n",
            "[CV] END learning_rate=0.08, max_depth=4, n_estimators=120, n_jobs=-1; total time=   0.1s\n",
            "[CV] END learning_rate=0.08, max_depth=4, n_estimators=120, n_jobs=-1; total time=   0.1s\n",
            "[CV] END learning_rate=0.08, max_depth=4, n_estimators=120, n_jobs=-1; total time=   0.1s\n",
            "[CV] END learning_rate=0.08, max_depth=4, n_estimators=140, n_jobs=-1; total time=   0.1s\n",
            "[CV] END learning_rate=0.08, max_depth=4, n_estimators=140, n_jobs=-1; total time=   0.1s\n",
            "[CV] END learning_rate=0.08, max_depth=4, n_estimators=140, n_jobs=-1; total time=   0.1s\n",
            "[CV] END learning_rate=0.08, max_depth=4, n_estimators=140, n_jobs=-1; total time=   0.1s\n",
            "[CV] END learning_rate=0.08, max_depth=4, n_estimators=140, n_jobs=-1; total time=   0.1s\n",
            "[CV] END learning_rate=0.08, max_depth=4, n_estimators=160, n_jobs=-1; total time=   0.1s\n",
            "[CV] END learning_rate=0.08, max_depth=4, n_estimators=160, n_jobs=-1; total time=   0.1s\n",
            "[CV] END learning_rate=0.08, max_depth=4, n_estimators=160, n_jobs=-1; total time=   0.1s\n",
            "[CV] END learning_rate=0.08, max_depth=4, n_estimators=160, n_jobs=-1; total time=   0.1s\n",
            "[CV] END learning_rate=0.08, max_depth=4, n_estimators=160, n_jobs=-1; total time=   0.1s\n",
            "[CV] END learning_rate=0.08, max_depth=4, n_estimators=180, n_jobs=-1; total time=   0.1s\n",
            "[CV] END learning_rate=0.08, max_depth=4, n_estimators=180, n_jobs=-1; total time=   0.1s\n",
            "[CV] END learning_rate=0.08, max_depth=4, n_estimators=180, n_jobs=-1; total time=   0.1s\n",
            "[CV] END learning_rate=0.08, max_depth=4, n_estimators=180, n_jobs=-1; total time=   0.1s\n",
            "[CV] END learning_rate=0.08, max_depth=4, n_estimators=180, n_jobs=-1; total time=   0.1s\n",
            "[CV] END learning_rate=0.08, max_depth=4, n_estimators=200, n_jobs=-1; total time=   0.1s\n",
            "[CV] END learning_rate=0.08, max_depth=4, n_estimators=200, n_jobs=-1; total time=   0.1s\n",
            "[CV] END learning_rate=0.08, max_depth=4, n_estimators=200, n_jobs=-1; total time=   0.1s\n",
            "[CV] END learning_rate=0.08, max_depth=4, n_estimators=200, n_jobs=-1; total time=   0.1s\n",
            "[CV] END learning_rate=0.08, max_depth=4, n_estimators=200, n_jobs=-1; total time=   0.1s\n",
            "[CV] END learning_rate=0.08, max_depth=4, n_estimators=250, n_jobs=-1; total time=   0.1s\n",
            "[CV] END learning_rate=0.08, max_depth=4, n_estimators=250, n_jobs=-1; total time=   0.1s\n",
            "[CV] END learning_rate=0.08, max_depth=4, n_estimators=250, n_jobs=-1; total time=   0.1s\n",
            "[CV] END learning_rate=0.08, max_depth=4, n_estimators=250, n_jobs=-1; total time=   0.1s\n",
            "[CV] END learning_rate=0.08, max_depth=4, n_estimators=250, n_jobs=-1; total time=   0.1s\n",
            "[CV] END learning_rate=0.08, max_depth=4, n_estimators=300, n_jobs=-1; total time=   0.1s\n",
            "[CV] END learning_rate=0.08, max_depth=4, n_estimators=300, n_jobs=-1; total time=   0.1s\n",
            "[CV] END learning_rate=0.08, max_depth=4, n_estimators=300, n_jobs=-1; total time=   0.1s\n",
            "[CV] END learning_rate=0.08, max_depth=4, n_estimators=300, n_jobs=-1; total time=   0.1s\n",
            "[CV] END learning_rate=0.08, max_depth=4, n_estimators=300, n_jobs=-1; total time=   0.1s\n",
            "[CV] END learning_rate=0.08, max_depth=4, n_estimators=500, n_jobs=-1; total time=   0.2s\n",
            "[CV] END learning_rate=0.08, max_depth=4, n_estimators=500, n_jobs=-1; total time=   0.2s\n",
            "[CV] END learning_rate=0.08, max_depth=4, n_estimators=500, n_jobs=-1; total time=   0.2s\n",
            "[CV] END learning_rate=0.08, max_depth=4, n_estimators=500, n_jobs=-1; total time=   0.2s\n",
            "[CV] END learning_rate=0.08, max_depth=4, n_estimators=500, n_jobs=-1; total time=   0.2s\n",
            "[CV] END learning_rate=0.08, max_depth=4, n_estimators=1000, n_jobs=-1; total time=   0.3s\n",
            "[CV] END learning_rate=0.08, max_depth=4, n_estimators=1000, n_jobs=-1; total time=   0.3s\n",
            "[CV] END learning_rate=0.08, max_depth=4, n_estimators=1000, n_jobs=-1; total time=   0.3s\n",
            "[CV] END learning_rate=0.08, max_depth=4, n_estimators=1000, n_jobs=-1; total time=   0.3s\n",
            "[CV] END learning_rate=0.08, max_depth=4, n_estimators=1000, n_jobs=-1; total time=   0.3s\n",
            "[CV] END learning_rate=0.08, max_depth=6, n_estimators=100, n_jobs=-1; total time=   0.1s\n",
            "[CV] END learning_rate=0.08, max_depth=6, n_estimators=100, n_jobs=-1; total time=   0.1s\n",
            "[CV] END learning_rate=0.08, max_depth=6, n_estimators=100, n_jobs=-1; total time=   0.1s\n",
            "[CV] END learning_rate=0.08, max_depth=6, n_estimators=100, n_jobs=-1; total time=   0.1s\n",
            "[CV] END learning_rate=0.08, max_depth=6, n_estimators=100, n_jobs=-1; total time=   0.1s\n",
            "[CV] END learning_rate=0.08, max_depth=6, n_estimators=120, n_jobs=-1; total time=   0.1s\n",
            "[CV] END learning_rate=0.08, max_depth=6, n_estimators=120, n_jobs=-1; total time=   0.1s\n",
            "[CV] END learning_rate=0.08, max_depth=6, n_estimators=120, n_jobs=-1; total time=   0.1s\n",
            "[CV] END learning_rate=0.08, max_depth=6, n_estimators=120, n_jobs=-1; total time=   0.1s\n",
            "[CV] END learning_rate=0.08, max_depth=6, n_estimators=120, n_jobs=-1; total time=   0.1s\n",
            "[CV] END learning_rate=0.08, max_depth=6, n_estimators=140, n_jobs=-1; total time=   0.1s\n",
            "[CV] END learning_rate=0.08, max_depth=6, n_estimators=140, n_jobs=-1; total time=   0.1s\n",
            "[CV] END learning_rate=0.08, max_depth=6, n_estimators=140, n_jobs=-1; total time=   0.1s\n",
            "[CV] END learning_rate=0.08, max_depth=6, n_estimators=140, n_jobs=-1; total time=   0.1s\n",
            "[CV] END learning_rate=0.08, max_depth=6, n_estimators=140, n_jobs=-1; total time=   0.1s\n",
            "[CV] END learning_rate=0.08, max_depth=6, n_estimators=160, n_jobs=-1; total time=   0.1s\n",
            "[CV] END learning_rate=0.08, max_depth=6, n_estimators=160, n_jobs=-1; total time=   0.1s\n",
            "[CV] END learning_rate=0.08, max_depth=6, n_estimators=160, n_jobs=-1; total time=   0.1s\n",
            "[CV] END learning_rate=0.08, max_depth=6, n_estimators=160, n_jobs=-1; total time=   0.1s\n",
            "[CV] END learning_rate=0.08, max_depth=6, n_estimators=160, n_jobs=-1; total time=   0.1s\n",
            "[CV] END learning_rate=0.08, max_depth=6, n_estimators=180, n_jobs=-1; total time=   0.1s\n",
            "[CV] END learning_rate=0.08, max_depth=6, n_estimators=180, n_jobs=-1; total time=   0.1s\n",
            "[CV] END learning_rate=0.08, max_depth=6, n_estimators=180, n_jobs=-1; total time=   0.1s\n",
            "[CV] END learning_rate=0.08, max_depth=6, n_estimators=180, n_jobs=-1; total time=   0.1s\n",
            "[CV] END learning_rate=0.08, max_depth=6, n_estimators=180, n_jobs=-1; total time=   0.1s\n",
            "[CV] END learning_rate=0.08, max_depth=6, n_estimators=200, n_jobs=-1; total time=   0.1s\n",
            "[CV] END learning_rate=0.08, max_depth=6, n_estimators=200, n_jobs=-1; total time=   0.1s\n",
            "[CV] END learning_rate=0.08, max_depth=6, n_estimators=200, n_jobs=-1; total time=   0.1s\n",
            "[CV] END learning_rate=0.08, max_depth=6, n_estimators=200, n_jobs=-1; total time=   0.1s\n",
            "[CV] END learning_rate=0.08, max_depth=6, n_estimators=200, n_jobs=-1; total time=   0.1s\n",
            "[CV] END learning_rate=0.08, max_depth=6, n_estimators=250, n_jobs=-1; total time=   0.1s\n",
            "[CV] END learning_rate=0.08, max_depth=6, n_estimators=250, n_jobs=-1; total time=   0.1s\n",
            "[CV] END learning_rate=0.08, max_depth=6, n_estimators=250, n_jobs=-1; total time=   0.1s\n",
            "[CV] END learning_rate=0.08, max_depth=6, n_estimators=250, n_jobs=-1; total time=   0.1s\n",
            "[CV] END learning_rate=0.08, max_depth=6, n_estimators=250, n_jobs=-1; total time=   0.1s\n",
            "[CV] END learning_rate=0.08, max_depth=6, n_estimators=300, n_jobs=-1; total time=   0.2s\n",
            "[CV] END learning_rate=0.08, max_depth=6, n_estimators=300, n_jobs=-1; total time=   0.2s\n",
            "[CV] END learning_rate=0.08, max_depth=6, n_estimators=300, n_jobs=-1; total time=   0.2s\n",
            "[CV] END learning_rate=0.08, max_depth=6, n_estimators=300, n_jobs=-1; total time=   0.2s\n",
            "[CV] END learning_rate=0.08, max_depth=6, n_estimators=300, n_jobs=-1; total time=   0.2s\n",
            "[CV] END learning_rate=0.08, max_depth=6, n_estimators=500, n_jobs=-1; total time=   0.3s\n",
            "[CV] END learning_rate=0.08, max_depth=6, n_estimators=500, n_jobs=-1; total time=   0.3s\n",
            "[CV] END learning_rate=0.08, max_depth=6, n_estimators=500, n_jobs=-1; total time=   0.3s\n",
            "[CV] END learning_rate=0.08, max_depth=6, n_estimators=500, n_jobs=-1; total time=   0.3s\n",
            "[CV] END learning_rate=0.08, max_depth=6, n_estimators=500, n_jobs=-1; total time=   0.3s\n",
            "[CV] END learning_rate=0.08, max_depth=6, n_estimators=1000, n_jobs=-1; total time=   0.5s\n",
            "[CV] END learning_rate=0.08, max_depth=6, n_estimators=1000, n_jobs=-1; total time=   0.5s\n",
            "[CV] END learning_rate=0.08, max_depth=6, n_estimators=1000, n_jobs=-1; total time=   0.5s\n",
            "[CV] END learning_rate=0.08, max_depth=6, n_estimators=1000, n_jobs=-1; total time=   0.5s\n",
            "[CV] END learning_rate=0.08, max_depth=6, n_estimators=1000, n_jobs=-1; total time=   0.5s\n",
            "[CV] END learning_rate=0.08, max_depth=8, n_estimators=100, n_jobs=-1; total time=   0.1s\n",
            "[CV] END learning_rate=0.08, max_depth=8, n_estimators=100, n_jobs=-1; total time=   0.1s\n",
            "[CV] END learning_rate=0.08, max_depth=8, n_estimators=100, n_jobs=-1; total time=   0.1s\n",
            "[CV] END learning_rate=0.08, max_depth=8, n_estimators=100, n_jobs=-1; total time=   0.1s\n",
            "[CV] END learning_rate=0.08, max_depth=8, n_estimators=100, n_jobs=-1; total time=   0.1s\n",
            "[CV] END learning_rate=0.08, max_depth=8, n_estimators=120, n_jobs=-1; total time=   0.1s\n",
            "[CV] END learning_rate=0.08, max_depth=8, n_estimators=120, n_jobs=-1; total time=   0.1s\n",
            "[CV] END learning_rate=0.08, max_depth=8, n_estimators=120, n_jobs=-1; total time=   0.1s\n",
            "[CV] END learning_rate=0.08, max_depth=8, n_estimators=120, n_jobs=-1; total time=   0.1s\n",
            "[CV] END learning_rate=0.08, max_depth=8, n_estimators=120, n_jobs=-1; total time=   0.1s\n",
            "[CV] END learning_rate=0.08, max_depth=8, n_estimators=140, n_jobs=-1; total time=   0.1s\n",
            "[CV] END learning_rate=0.08, max_depth=8, n_estimators=140, n_jobs=-1; total time=   0.1s\n",
            "[CV] END learning_rate=0.08, max_depth=8, n_estimators=140, n_jobs=-1; total time=   0.1s\n",
            "[CV] END learning_rate=0.08, max_depth=8, n_estimators=140, n_jobs=-1; total time=   0.1s\n",
            "[CV] END learning_rate=0.08, max_depth=8, n_estimators=140, n_jobs=-1; total time=   0.1s\n",
            "[CV] END learning_rate=0.08, max_depth=8, n_estimators=160, n_jobs=-1; total time=   0.1s\n",
            "[CV] END learning_rate=0.08, max_depth=8, n_estimators=160, n_jobs=-1; total time=   0.1s\n",
            "[CV] END learning_rate=0.08, max_depth=8, n_estimators=160, n_jobs=-1; total time=   0.1s\n",
            "[CV] END learning_rate=0.08, max_depth=8, n_estimators=160, n_jobs=-1; total time=   0.1s\n",
            "[CV] END learning_rate=0.08, max_depth=8, n_estimators=160, n_jobs=-1; total time=   0.1s\n",
            "[CV] END learning_rate=0.08, max_depth=8, n_estimators=180, n_jobs=-1; total time=   0.1s\n",
            "[CV] END learning_rate=0.08, max_depth=8, n_estimators=180, n_jobs=-1; total time=   0.1s\n",
            "[CV] END learning_rate=0.08, max_depth=8, n_estimators=180, n_jobs=-1; total time=   0.1s\n",
            "[CV] END learning_rate=0.08, max_depth=8, n_estimators=180, n_jobs=-1; total time=   0.1s\n",
            "[CV] END learning_rate=0.08, max_depth=8, n_estimators=180, n_jobs=-1; total time=   0.1s\n",
            "[CV] END learning_rate=0.08, max_depth=8, n_estimators=200, n_jobs=-1; total time=   0.2s\n",
            "[CV] END learning_rate=0.08, max_depth=8, n_estimators=200, n_jobs=-1; total time=   0.1s\n",
            "[CV] END learning_rate=0.08, max_depth=8, n_estimators=200, n_jobs=-1; total time=   0.1s\n",
            "[CV] END learning_rate=0.08, max_depth=8, n_estimators=200, n_jobs=-1; total time=   0.1s\n",
            "[CV] END learning_rate=0.08, max_depth=8, n_estimators=200, n_jobs=-1; total time=   0.1s\n",
            "[CV] END learning_rate=0.08, max_depth=8, n_estimators=250, n_jobs=-1; total time=   0.2s\n",
            "[CV] END learning_rate=0.08, max_depth=8, n_estimators=250, n_jobs=-1; total time=   0.2s\n",
            "[CV] END learning_rate=0.08, max_depth=8, n_estimators=250, n_jobs=-1; total time=   0.2s\n",
            "[CV] END learning_rate=0.08, max_depth=8, n_estimators=250, n_jobs=-1; total time=   0.2s\n",
            "[CV] END learning_rate=0.08, max_depth=8, n_estimators=250, n_jobs=-1; total time=   0.2s\n",
            "[CV] END learning_rate=0.08, max_depth=8, n_estimators=300, n_jobs=-1; total time=   0.2s\n",
            "[CV] END learning_rate=0.08, max_depth=8, n_estimators=300, n_jobs=-1; total time=   0.2s\n",
            "[CV] END learning_rate=0.08, max_depth=8, n_estimators=300, n_jobs=-1; total time=   0.2s\n",
            "[CV] END learning_rate=0.08, max_depth=8, n_estimators=300, n_jobs=-1; total time=   0.2s\n",
            "[CV] END learning_rate=0.08, max_depth=8, n_estimators=300, n_jobs=-1; total time=   0.2s\n",
            "[CV] END learning_rate=0.08, max_depth=8, n_estimators=500, n_jobs=-1; total time=   0.3s\n",
            "[CV] END learning_rate=0.08, max_depth=8, n_estimators=500, n_jobs=-1; total time=   0.3s\n",
            "[CV] END learning_rate=0.08, max_depth=8, n_estimators=500, n_jobs=-1; total time=   0.3s\n",
            "[CV] END learning_rate=0.08, max_depth=8, n_estimators=500, n_jobs=-1; total time=   0.3s\n",
            "[CV] END learning_rate=0.08, max_depth=8, n_estimators=500, n_jobs=-1; total time=   0.3s\n",
            "[CV] END learning_rate=0.08, max_depth=8, n_estimators=1000, n_jobs=-1; total time=   0.7s\n",
            "[CV] END learning_rate=0.08, max_depth=8, n_estimators=1000, n_jobs=-1; total time=   0.7s\n",
            "[CV] END learning_rate=0.08, max_depth=8, n_estimators=1000, n_jobs=-1; total time=   0.7s\n",
            "[CV] END learning_rate=0.08, max_depth=8, n_estimators=1000, n_jobs=-1; total time=   0.7s\n",
            "[CV] END learning_rate=0.08, max_depth=8, n_estimators=1000, n_jobs=-1; total time=   0.7s\n",
            "[CV] END learning_rate=0.08, max_depth=10, n_estimators=100, n_jobs=-1; total time=   0.1s\n",
            "[CV] END learning_rate=0.08, max_depth=10, n_estimators=100, n_jobs=-1; total time=   0.1s\n",
            "[CV] END learning_rate=0.08, max_depth=10, n_estimators=100, n_jobs=-1; total time=   0.1s\n",
            "[CV] END learning_rate=0.08, max_depth=10, n_estimators=100, n_jobs=-1; total time=   0.1s\n",
            "[CV] END learning_rate=0.08, max_depth=10, n_estimators=100, n_jobs=-1; total time=   0.1s\n",
            "[CV] END learning_rate=0.08, max_depth=10, n_estimators=120, n_jobs=-1; total time=   0.1s\n",
            "[CV] END learning_rate=0.08, max_depth=10, n_estimators=120, n_jobs=-1; total time=   0.1s\n",
            "[CV] END learning_rate=0.08, max_depth=10, n_estimators=120, n_jobs=-1; total time=   0.1s\n",
            "[CV] END learning_rate=0.08, max_depth=10, n_estimators=120, n_jobs=-1; total time=   0.1s\n",
            "[CV] END learning_rate=0.08, max_depth=10, n_estimators=120, n_jobs=-1; total time=   0.1s\n",
            "[CV] END learning_rate=0.08, max_depth=10, n_estimators=140, n_jobs=-1; total time=   0.1s\n",
            "[CV] END learning_rate=0.08, max_depth=10, n_estimators=140, n_jobs=-1; total time=   0.1s\n",
            "[CV] END learning_rate=0.08, max_depth=10, n_estimators=140, n_jobs=-1; total time=   0.1s\n",
            "[CV] END learning_rate=0.08, max_depth=10, n_estimators=140, n_jobs=-1; total time=   0.1s\n",
            "[CV] END learning_rate=0.08, max_depth=10, n_estimators=140, n_jobs=-1; total time=   0.1s\n",
            "[CV] END learning_rate=0.08, max_depth=10, n_estimators=160, n_jobs=-1; total time=   0.1s\n",
            "[CV] END learning_rate=0.08, max_depth=10, n_estimators=160, n_jobs=-1; total time=   0.1s\n",
            "[CV] END learning_rate=0.08, max_depth=10, n_estimators=160, n_jobs=-1; total time=   0.1s\n",
            "[CV] END learning_rate=0.08, max_depth=10, n_estimators=160, n_jobs=-1; total time=   0.1s\n",
            "[CV] END learning_rate=0.08, max_depth=10, n_estimators=160, n_jobs=-1; total time=   0.1s\n",
            "[CV] END learning_rate=0.08, max_depth=10, n_estimators=180, n_jobs=-1; total time=   0.2s\n",
            "[CV] END learning_rate=0.08, max_depth=10, n_estimators=180, n_jobs=-1; total time=   0.1s\n",
            "[CV] END learning_rate=0.08, max_depth=10, n_estimators=180, n_jobs=-1; total time=   0.2s\n",
            "[CV] END learning_rate=0.08, max_depth=10, n_estimators=180, n_jobs=-1; total time=   0.2s\n",
            "[CV] END learning_rate=0.08, max_depth=10, n_estimators=180, n_jobs=-1; total time=   0.1s\n",
            "[CV] END learning_rate=0.08, max_depth=10, n_estimators=200, n_jobs=-1; total time=   0.2s\n",
            "[CV] END learning_rate=0.08, max_depth=10, n_estimators=200, n_jobs=-1; total time=   0.2s\n",
            "[CV] END learning_rate=0.08, max_depth=10, n_estimators=200, n_jobs=-1; total time=   0.2s\n",
            "[CV] END learning_rate=0.08, max_depth=10, n_estimators=200, n_jobs=-1; total time=   0.2s\n",
            "[CV] END learning_rate=0.08, max_depth=10, n_estimators=200, n_jobs=-1; total time=   0.2s\n",
            "[CV] END learning_rate=0.08, max_depth=10, n_estimators=250, n_jobs=-1; total time=   0.2s\n",
            "[CV] END learning_rate=0.08, max_depth=10, n_estimators=250, n_jobs=-1; total time=   0.2s\n",
            "[CV] END learning_rate=0.08, max_depth=10, n_estimators=250, n_jobs=-1; total time=   0.2s\n",
            "[CV] END learning_rate=0.08, max_depth=10, n_estimators=250, n_jobs=-1; total time=   0.2s\n",
            "[CV] END learning_rate=0.08, max_depth=10, n_estimators=250, n_jobs=-1; total time=   0.2s\n",
            "[CV] END learning_rate=0.08, max_depth=10, n_estimators=300, n_jobs=-1; total time=   0.2s\n",
            "[CV] END learning_rate=0.08, max_depth=10, n_estimators=300, n_jobs=-1; total time=   0.2s\n",
            "[CV] END learning_rate=0.08, max_depth=10, n_estimators=300, n_jobs=-1; total time=   0.2s\n",
            "[CV] END learning_rate=0.08, max_depth=10, n_estimators=300, n_jobs=-1; total time=   0.2s\n",
            "[CV] END learning_rate=0.08, max_depth=10, n_estimators=300, n_jobs=-1; total time=   0.2s\n",
            "[CV] END learning_rate=0.08, max_depth=10, n_estimators=500, n_jobs=-1; total time=   0.4s\n",
            "[CV] END learning_rate=0.08, max_depth=10, n_estimators=500, n_jobs=-1; total time=   0.4s\n",
            "[CV] END learning_rate=0.08, max_depth=10, n_estimators=500, n_jobs=-1; total time=   0.4s\n",
            "[CV] END learning_rate=0.08, max_depth=10, n_estimators=500, n_jobs=-1; total time=   0.4s\n",
            "[CV] END learning_rate=0.08, max_depth=10, n_estimators=500, n_jobs=-1; total time=   0.4s\n",
            "[CV] END learning_rate=0.08, max_depth=10, n_estimators=1000, n_jobs=-1; total time=   0.8s\n",
            "[CV] END learning_rate=0.08, max_depth=10, n_estimators=1000, n_jobs=-1; total time=   0.8s\n",
            "[CV] END learning_rate=0.08, max_depth=10, n_estimators=1000, n_jobs=-1; total time=   0.8s\n",
            "[CV] END learning_rate=0.08, max_depth=10, n_estimators=1000, n_jobs=-1; total time=   0.8s\n",
            "[CV] END learning_rate=0.08, max_depth=10, n_estimators=1000, n_jobs=-1; total time=   0.8s\n",
            "[CV] END learning_rate=0.08, max_depth=12, n_estimators=100, n_jobs=-1; total time=   0.1s\n",
            "[CV] END learning_rate=0.08, max_depth=12, n_estimators=100, n_jobs=-1; total time=   0.1s\n",
            "[CV] END learning_rate=0.08, max_depth=12, n_estimators=100, n_jobs=-1; total time=   0.1s\n",
            "[CV] END learning_rate=0.08, max_depth=12, n_estimators=100, n_jobs=-1; total time=   0.1s\n",
            "[CV] END learning_rate=0.08, max_depth=12, n_estimators=100, n_jobs=-1; total time=   0.1s\n",
            "[CV] END learning_rate=0.08, max_depth=12, n_estimators=120, n_jobs=-1; total time=   0.1s\n",
            "[CV] END learning_rate=0.08, max_depth=12, n_estimators=120, n_jobs=-1; total time=   0.1s\n",
            "[CV] END learning_rate=0.08, max_depth=12, n_estimators=120, n_jobs=-1; total time=   0.1s\n",
            "[CV] END learning_rate=0.08, max_depth=12, n_estimators=120, n_jobs=-1; total time=   0.1s\n",
            "[CV] END learning_rate=0.08, max_depth=12, n_estimators=120, n_jobs=-1; total time=   0.1s\n",
            "[CV] END learning_rate=0.08, max_depth=12, n_estimators=140, n_jobs=-1; total time=   0.1s\n",
            "[CV] END learning_rate=0.08, max_depth=12, n_estimators=140, n_jobs=-1; total time=   0.1s\n",
            "[CV] END learning_rate=0.08, max_depth=12, n_estimators=140, n_jobs=-1; total time=   0.1s\n",
            "[CV] END learning_rate=0.08, max_depth=12, n_estimators=140, n_jobs=-1; total time=   0.1s\n",
            "[CV] END learning_rate=0.08, max_depth=12, n_estimators=140, n_jobs=-1; total time=   0.1s\n",
            "[CV] END learning_rate=0.08, max_depth=12, n_estimators=160, n_jobs=-1; total time=   0.2s\n",
            "[CV] END learning_rate=0.08, max_depth=12, n_estimators=160, n_jobs=-1; total time=   0.1s\n",
            "[CV] END learning_rate=0.08, max_depth=12, n_estimators=160, n_jobs=-1; total time=   0.2s\n",
            "[CV] END learning_rate=0.08, max_depth=12, n_estimators=160, n_jobs=-1; total time=   0.1s\n",
            "[CV] END learning_rate=0.08, max_depth=12, n_estimators=160, n_jobs=-1; total time=   0.1s\n",
            "[CV] END learning_rate=0.08, max_depth=12, n_estimators=180, n_jobs=-1; total time=   0.2s\n",
            "[CV] END learning_rate=0.08, max_depth=12, n_estimators=180, n_jobs=-1; total time=   0.2s\n",
            "[CV] END learning_rate=0.08, max_depth=12, n_estimators=180, n_jobs=-1; total time=   0.2s\n",
            "[CV] END learning_rate=0.08, max_depth=12, n_estimators=180, n_jobs=-1; total time=   0.2s\n",
            "[CV] END learning_rate=0.08, max_depth=12, n_estimators=180, n_jobs=-1; total time=   0.2s\n",
            "[CV] END learning_rate=0.08, max_depth=12, n_estimators=200, n_jobs=-1; total time=   0.2s\n",
            "[CV] END learning_rate=0.08, max_depth=12, n_estimators=200, n_jobs=-1; total time=   0.2s\n",
            "[CV] END learning_rate=0.08, max_depth=12, n_estimators=200, n_jobs=-1; total time=   0.2s\n",
            "[CV] END learning_rate=0.08, max_depth=12, n_estimators=200, n_jobs=-1; total time=   0.2s\n",
            "[CV] END learning_rate=0.08, max_depth=12, n_estimators=200, n_jobs=-1; total time=   0.2s\n",
            "[CV] END learning_rate=0.08, max_depth=12, n_estimators=250, n_jobs=-1; total time=   0.2s\n",
            "[CV] END learning_rate=0.08, max_depth=12, n_estimators=250, n_jobs=-1; total time=   0.2s\n",
            "[CV] END learning_rate=0.08, max_depth=12, n_estimators=250, n_jobs=-1; total time=   0.2s\n",
            "[CV] END learning_rate=0.08, max_depth=12, n_estimators=250, n_jobs=-1; total time=   0.2s\n",
            "[CV] END learning_rate=0.08, max_depth=12, n_estimators=250, n_jobs=-1; total time=   0.2s\n",
            "[CV] END learning_rate=0.08, max_depth=12, n_estimators=300, n_jobs=-1; total time=   0.3s\n",
            "[CV] END learning_rate=0.08, max_depth=12, n_estimators=300, n_jobs=-1; total time=   0.3s\n",
            "[CV] END learning_rate=0.08, max_depth=12, n_estimators=300, n_jobs=-1; total time=   0.3s\n",
            "[CV] END learning_rate=0.08, max_depth=12, n_estimators=300, n_jobs=-1; total time=   0.3s\n",
            "[CV] END learning_rate=0.08, max_depth=12, n_estimators=300, n_jobs=-1; total time=   0.3s\n",
            "[CV] END learning_rate=0.08, max_depth=12, n_estimators=500, n_jobs=-1; total time=   0.4s\n",
            "[CV] END learning_rate=0.08, max_depth=12, n_estimators=500, n_jobs=-1; total time=   0.4s\n",
            "[CV] END learning_rate=0.08, max_depth=12, n_estimators=500, n_jobs=-1; total time=   0.4s\n",
            "[CV] END learning_rate=0.08, max_depth=12, n_estimators=500, n_jobs=-1; total time=   0.4s\n",
            "[CV] END learning_rate=0.08, max_depth=12, n_estimators=500, n_jobs=-1; total time=   0.4s\n",
            "[CV] END learning_rate=0.08, max_depth=12, n_estimators=1000, n_jobs=-1; total time=   0.9s\n",
            "[CV] END learning_rate=0.08, max_depth=12, n_estimators=1000, n_jobs=-1; total time=   0.9s\n",
            "[CV] END learning_rate=0.08, max_depth=12, n_estimators=1000, n_jobs=-1; total time=   0.9s\n",
            "[CV] END learning_rate=0.08, max_depth=12, n_estimators=1000, n_jobs=-1; total time=   0.9s\n",
            "[CV] END learning_rate=0.08, max_depth=12, n_estimators=1000, n_jobs=-1; total time=   0.9s\n"
          ]
        },
        {
          "output_type": "execute_result",
          "data": {
            "text/plain": [
              "GridSearchCV(cv=5, estimator=LGBMRegressor(random_state=0),\n",
              "             param_grid={'learning_rate': [0.1, 0.05, 0.06, 0.08],\n",
              "                         'max_depth': [4, 6, 8, 10, 12],\n",
              "                         'n_estimators': [100, 120, 140, 160, 180, 200, 250,\n",
              "                                          300, 500, 1000],\n",
              "                         'n_jobs': [-1]},\n",
              "             verbose=2)"
            ]
          },
          "metadata": {},
          "execution_count": 117
        }
      ]
    },
    {
      "cell_type": "code",
      "source": [
        "grid.best_params_"
      ],
      "metadata": {
        "colab": {
          "base_uri": "https://localhost:8080/"
        },
        "id": "mig9KzaYPdMa",
        "outputId": "dbd523ff-472e-4ebf-f55d-78550c3b859c"
      },
      "execution_count": 118,
      "outputs": [
        {
          "output_type": "execute_result",
          "data": {
            "text/plain": [
              "{'learning_rate': 0.05, 'max_depth': 4, 'n_estimators': 100, 'n_jobs': -1}"
            ]
          },
          "metadata": {},
          "execution_count": 118
        }
      ]
    },
    {
      "cell_type": "code",
      "source": [
        "parameters = {'learning_rate': 0.05, 'max_depth': 4, \n",
        "              'n_estimators': 100, 'n_jobs': -1}\n",
        "lgb = LGBMRegressor(random_state=0, \n",
        "                    learning_rate=0.05, max_depth= 4, \n",
        "              n_estimators= 100, n_jobs= -1, reg_lambda=5)\n",
        "lgb.fit(x_train,y_train_log)\n",
        "test_pred=(lgb.predict(x_test))\n",
        "\n",
        "(NMAE(test_pred,y_test_log))\n",
        "\n",
        "#LGBMRegressor NMAE : \t\t 0.05657851956161624 ."
      ],
      "metadata": {
        "colab": {
          "base_uri": "https://localhost:8080/"
        },
        "id": "M6uqgk9oPfLS",
        "outputId": "fa62873a-749e-4210-b883-9b80bf2ee607"
      },
      "execution_count": 102,
      "outputs": [
        {
          "output_type": "execute_result",
          "data": {
            "text/plain": [
              "0.05113088562896423"
            ]
          },
          "metadata": {},
          "execution_count": 102
        }
      ]
    },
    {
      "cell_type": "code",
      "source": [
        "parameters = {\n",
        "    \"n_estimators\" : [100,150,1000],\n",
        "    'max_depth' : [2,3,4,5,6,7,8,9,20]\n",
        "    \n",
        "    \n",
        "    }\n",
        "    \n",
        "\n",
        "#cv=5 5번의 교차검증.\n",
        "grid = GridSearchCV(RandomForestRegressor(random_state=0), verbose=2, param_grid = parameters, cv=5)\n",
        "grid.fit(x_train, y_train_log)"
      ],
      "metadata": {
        "id": "mlWgannW3QkI",
        "colab": {
          "base_uri": "https://localhost:8080/"
        },
        "outputId": "7c2de620-1602-4fe6-cc43-1914fa011576"
      },
      "execution_count": 119,
      "outputs": [
        {
          "output_type": "stream",
          "name": "stdout",
          "text": [
            "Fitting 5 folds for each of 27 candidates, totalling 135 fits\n",
            "[CV] END ......................max_depth=2, n_estimators=100; total time=   0.2s\n",
            "[CV] END ......................max_depth=2, n_estimators=100; total time=   0.2s\n",
            "[CV] END ......................max_depth=2, n_estimators=100; total time=   0.2s\n",
            "[CV] END ......................max_depth=2, n_estimators=100; total time=   0.2s\n",
            "[CV] END ......................max_depth=2, n_estimators=100; total time=   0.2s\n",
            "[CV] END ......................max_depth=2, n_estimators=150; total time=   0.3s\n",
            "[CV] END ......................max_depth=2, n_estimators=150; total time=   0.3s\n",
            "[CV] END ......................max_depth=2, n_estimators=150; total time=   0.3s\n",
            "[CV] END ......................max_depth=2, n_estimators=150; total time=   0.3s\n",
            "[CV] END ......................max_depth=2, n_estimators=150; total time=   0.3s\n",
            "[CV] END .....................max_depth=2, n_estimators=1000; total time=   2.1s\n",
            "[CV] END .....................max_depth=2, n_estimators=1000; total time=   2.1s\n",
            "[CV] END .....................max_depth=2, n_estimators=1000; total time=   2.1s\n",
            "[CV] END .....................max_depth=2, n_estimators=1000; total time=   2.1s\n",
            "[CV] END .....................max_depth=2, n_estimators=1000; total time=   2.1s\n",
            "[CV] END ......................max_depth=3, n_estimators=100; total time=   0.3s\n",
            "[CV] END ......................max_depth=3, n_estimators=100; total time=   0.3s\n",
            "[CV] END ......................max_depth=3, n_estimators=100; total time=   0.2s\n",
            "[CV] END ......................max_depth=3, n_estimators=100; total time=   0.3s\n",
            "[CV] END ......................max_depth=3, n_estimators=100; total time=   0.3s\n",
            "[CV] END ......................max_depth=3, n_estimators=150; total time=   0.4s\n",
            "[CV] END ......................max_depth=3, n_estimators=150; total time=   0.4s\n",
            "[CV] END ......................max_depth=3, n_estimators=150; total time=   0.4s\n",
            "[CV] END ......................max_depth=3, n_estimators=150; total time=   0.4s\n",
            "[CV] END ......................max_depth=3, n_estimators=150; total time=   0.4s\n",
            "[CV] END .....................max_depth=3, n_estimators=1000; total time=   2.4s\n",
            "[CV] END .....................max_depth=3, n_estimators=1000; total time=   2.5s\n",
            "[CV] END .....................max_depth=3, n_estimators=1000; total time=   2.4s\n",
            "[CV] END .....................max_depth=3, n_estimators=1000; total time=   2.4s\n",
            "[CV] END .....................max_depth=3, n_estimators=1000; total time=   2.5s\n",
            "[CV] END ......................max_depth=4, n_estimators=100; total time=   0.3s\n",
            "[CV] END ......................max_depth=4, n_estimators=100; total time=   0.3s\n",
            "[CV] END ......................max_depth=4, n_estimators=100; total time=   0.3s\n",
            "[CV] END ......................max_depth=4, n_estimators=100; total time=   0.3s\n",
            "[CV] END ......................max_depth=4, n_estimators=100; total time=   0.3s\n",
            "[CV] END ......................max_depth=4, n_estimators=150; total time=   0.4s\n",
            "[CV] END ......................max_depth=4, n_estimators=150; total time=   0.5s\n",
            "[CV] END ......................max_depth=4, n_estimators=150; total time=   0.5s\n",
            "[CV] END ......................max_depth=4, n_estimators=150; total time=   0.4s\n",
            "[CV] END ......................max_depth=4, n_estimators=150; total time=   0.4s\n",
            "[CV] END .....................max_depth=4, n_estimators=1000; total time=   2.8s\n",
            "[CV] END .....................max_depth=4, n_estimators=1000; total time=   2.8s\n",
            "[CV] END .....................max_depth=4, n_estimators=1000; total time=   2.9s\n",
            "[CV] END .....................max_depth=4, n_estimators=1000; total time=   2.8s\n",
            "[CV] END .....................max_depth=4, n_estimators=1000; total time=   2.8s\n",
            "[CV] END ......................max_depth=5, n_estimators=100; total time=   0.3s\n",
            "[CV] END ......................max_depth=5, n_estimators=100; total time=   0.3s\n",
            "[CV] END ......................max_depth=5, n_estimators=100; total time=   0.3s\n",
            "[CV] END ......................max_depth=5, n_estimators=100; total time=   0.3s\n",
            "[CV] END ......................max_depth=5, n_estimators=100; total time=   0.3s\n",
            "[CV] END ......................max_depth=5, n_estimators=150; total time=   0.5s\n",
            "[CV] END ......................max_depth=5, n_estimators=150; total time=   0.5s\n",
            "[CV] END ......................max_depth=5, n_estimators=150; total time=   0.5s\n",
            "[CV] END ......................max_depth=5, n_estimators=150; total time=   0.5s\n",
            "[CV] END ......................max_depth=5, n_estimators=150; total time=   0.5s\n",
            "[CV] END .....................max_depth=5, n_estimators=1000; total time=   3.1s\n",
            "[CV] END .....................max_depth=5, n_estimators=1000; total time=   3.2s\n",
            "[CV] END .....................max_depth=5, n_estimators=1000; total time=   3.1s\n",
            "[CV] END .....................max_depth=5, n_estimators=1000; total time=   3.1s\n",
            "[CV] END .....................max_depth=5, n_estimators=1000; total time=   3.1s\n",
            "[CV] END ......................max_depth=6, n_estimators=100; total time=   0.4s\n",
            "[CV] END ......................max_depth=6, n_estimators=100; total time=   0.4s\n",
            "[CV] END ......................max_depth=6, n_estimators=100; total time=   0.4s\n",
            "[CV] END ......................max_depth=6, n_estimators=100; total time=   0.4s\n",
            "[CV] END ......................max_depth=6, n_estimators=100; total time=   0.4s\n",
            "[CV] END ......................max_depth=6, n_estimators=150; total time=   0.5s\n",
            "[CV] END ......................max_depth=6, n_estimators=150; total time=   0.5s\n",
            "[CV] END ......................max_depth=6, n_estimators=150; total time=   0.5s\n",
            "[CV] END ......................max_depth=6, n_estimators=150; total time=   0.5s\n",
            "[CV] END ......................max_depth=6, n_estimators=150; total time=   0.5s\n",
            "[CV] END .....................max_depth=6, n_estimators=1000; total time=   3.4s\n",
            "[CV] END .....................max_depth=6, n_estimators=1000; total time=   3.4s\n",
            "[CV] END .....................max_depth=6, n_estimators=1000; total time=   3.5s\n",
            "[CV] END .....................max_depth=6, n_estimators=1000; total time=   3.4s\n",
            "[CV] END .....................max_depth=6, n_estimators=1000; total time=   3.5s\n",
            "[CV] END ......................max_depth=7, n_estimators=100; total time=   0.4s\n",
            "[CV] END ......................max_depth=7, n_estimators=100; total time=   0.4s\n",
            "[CV] END ......................max_depth=7, n_estimators=100; total time=   0.4s\n",
            "[CV] END ......................max_depth=7, n_estimators=100; total time=   0.4s\n",
            "[CV] END ......................max_depth=7, n_estimators=100; total time=   0.4s\n",
            "[CV] END ......................max_depth=7, n_estimators=150; total time=   0.6s\n",
            "[CV] END ......................max_depth=7, n_estimators=150; total time=   0.6s\n",
            "[CV] END ......................max_depth=7, n_estimators=150; total time=   0.6s\n",
            "[CV] END ......................max_depth=7, n_estimators=150; total time=   0.6s\n",
            "[CV] END ......................max_depth=7, n_estimators=150; total time=   0.6s\n",
            "[CV] END .....................max_depth=7, n_estimators=1000; total time=   3.8s\n",
            "[CV] END .....................max_depth=7, n_estimators=1000; total time=   3.8s\n",
            "[CV] END .....................max_depth=7, n_estimators=1000; total time=   3.8s\n",
            "[CV] END .....................max_depth=7, n_estimators=1000; total time=   3.7s\n",
            "[CV] END .....................max_depth=7, n_estimators=1000; total time=   3.7s\n",
            "[CV] END ......................max_depth=8, n_estimators=100; total time=   0.4s\n",
            "[CV] END ......................max_depth=8, n_estimators=100; total time=   0.4s\n",
            "[CV] END ......................max_depth=8, n_estimators=100; total time=   0.4s\n",
            "[CV] END ......................max_depth=8, n_estimators=100; total time=   0.4s\n",
            "[CV] END ......................max_depth=8, n_estimators=100; total time=   0.4s\n",
            "[CV] END ......................max_depth=8, n_estimators=150; total time=   0.6s\n",
            "[CV] END ......................max_depth=8, n_estimators=150; total time=   0.6s\n",
            "[CV] END ......................max_depth=8, n_estimators=150; total time=   0.6s\n",
            "[CV] END ......................max_depth=8, n_estimators=150; total time=   0.6s\n",
            "[CV] END ......................max_depth=8, n_estimators=150; total time=   0.6s\n",
            "[CV] END .....................max_depth=8, n_estimators=1000; total time=   4.1s\n",
            "[CV] END .....................max_depth=8, n_estimators=1000; total time=   4.2s\n",
            "[CV] END .....................max_depth=8, n_estimators=1000; total time=   4.0s\n",
            "[CV] END .....................max_depth=8, n_estimators=1000; total time=   4.0s\n",
            "[CV] END .....................max_depth=8, n_estimators=1000; total time=   4.0s\n",
            "[CV] END ......................max_depth=9, n_estimators=100; total time=   0.4s\n",
            "[CV] END ......................max_depth=9, n_estimators=100; total time=   0.4s\n",
            "[CV] END ......................max_depth=9, n_estimators=100; total time=   0.4s\n",
            "[CV] END ......................max_depth=9, n_estimators=100; total time=   0.4s\n",
            "[CV] END ......................max_depth=9, n_estimators=100; total time=   0.4s\n",
            "[CV] END ......................max_depth=9, n_estimators=150; total time=   0.7s\n",
            "[CV] END ......................max_depth=9, n_estimators=150; total time=   0.7s\n",
            "[CV] END ......................max_depth=9, n_estimators=150; total time=   0.7s\n",
            "[CV] END ......................max_depth=9, n_estimators=150; total time=   0.7s\n",
            "[CV] END ......................max_depth=9, n_estimators=150; total time=   0.7s\n",
            "[CV] END .....................max_depth=9, n_estimators=1000; total time=   4.4s\n",
            "[CV] END .....................max_depth=9, n_estimators=1000; total time=   4.3s\n",
            "[CV] END .....................max_depth=9, n_estimators=1000; total time=   4.4s\n",
            "[CV] END .....................max_depth=9, n_estimators=1000; total time=   4.4s\n",
            "[CV] END .....................max_depth=9, n_estimators=1000; total time=   4.4s\n",
            "[CV] END .....................max_depth=20, n_estimators=100; total time=   0.5s\n",
            "[CV] END .....................max_depth=20, n_estimators=100; total time=   0.5s\n",
            "[CV] END .....................max_depth=20, n_estimators=100; total time=   0.5s\n",
            "[CV] END .....................max_depth=20, n_estimators=100; total time=   0.5s\n",
            "[CV] END .....................max_depth=20, n_estimators=100; total time=   0.5s\n",
            "[CV] END .....................max_depth=20, n_estimators=150; total time=   0.8s\n",
            "[CV] END .....................max_depth=20, n_estimators=150; total time=   0.8s\n",
            "[CV] END .....................max_depth=20, n_estimators=150; total time=   0.8s\n",
            "[CV] END .....................max_depth=20, n_estimators=150; total time=   0.8s\n",
            "[CV] END .....................max_depth=20, n_estimators=150; total time=   0.8s\n",
            "[CV] END ....................max_depth=20, n_estimators=1000; total time=   5.3s\n",
            "[CV] END ....................max_depth=20, n_estimators=1000; total time=   5.2s\n",
            "[CV] END ....................max_depth=20, n_estimators=1000; total time=   5.2s\n",
            "[CV] END ....................max_depth=20, n_estimators=1000; total time=   5.2s\n",
            "[CV] END ....................max_depth=20, n_estimators=1000; total time=   5.2s\n"
          ]
        },
        {
          "output_type": "execute_result",
          "data": {
            "text/plain": [
              "GridSearchCV(cv=5, estimator=RandomForestRegressor(random_state=0),\n",
              "             param_grid={'max_depth': [2, 3, 4, 5, 6, 7, 8, 9, 20],\n",
              "                         'n_estimators': [100, 150, 1000]},\n",
              "             verbose=2)"
            ]
          },
          "metadata": {},
          "execution_count": 119
        }
      ]
    },
    {
      "cell_type": "code",
      "source": [
        "grid.best_params_"
      ],
      "metadata": {
        "colab": {
          "base_uri": "https://localhost:8080/"
        },
        "id": "y5q4NaVu3Seb",
        "outputId": "43fa177d-d401-4b6c-f22a-2307d0f7b6ec"
      },
      "execution_count": 120,
      "outputs": [
        {
          "output_type": "execute_result",
          "data": {
            "text/plain": [
              "{'max_depth': 5, 'n_estimators': 1000}"
            ]
          },
          "metadata": {},
          "execution_count": 120
        }
      ]
    },
    {
      "cell_type": "code",
      "source": [
        "parameters = {'max_depth': 5, 'n_estimators': 1000}\n",
        "rfr = RandomForestRegressor(max_depth= 5, \n",
        "              n_estimators= 1000)\n",
        "rfr.fit(x_train,y_train_log)\n",
        "test_pred=(rfr.predict(x_test))\n",
        "\n",
        "(NMAE(test_pred,y_test_log))\n",
        "#RandomForestRegressor NMAE : \t\t 0.05362729676785588 "
      ],
      "metadata": {
        "colab": {
          "base_uri": "https://localhost:8080/"
        },
        "id": "ixIft_VkAVN5",
        "outputId": "88974209-5893-497d-8007-53403f96a4e1"
      },
      "execution_count": 104,
      "outputs": [
        {
          "output_type": "execute_result",
          "data": {
            "text/plain": [
              "0.05155578492825077"
            ]
          },
          "metadata": {},
          "execution_count": 104
        }
      ]
    },
    {
      "cell_type": "code",
      "source": [
        "parameters = {\n",
        "    \"n_estimators\" : [100,150,200],\n",
        "    'min_samples_split' : [6,8,10],\n",
        "    'learning_rate': [0.1, 0.05],\n",
        "    'max_depth' : [ 4,6,8]\n",
        "    }\n",
        "    \n",
        "#verbose = 2 -> Grid Search 반복시 하이퍼 파라메타별 메시지를 화면에 출력 \n",
        "#cv=5 5번의 교차검증.\n",
        "grid = GridSearchCV(GradientBoostingRegressor(random_state=0), verbose=2, param_grid = parameters, cv=5)\n",
        "grid.fit(x_train, y_train_log)"
      ],
      "metadata": {
        "id": "W8T00kiK3V8v",
        "colab": {
          "base_uri": "https://localhost:8080/"
        },
        "outputId": "5f37655f-62c6-4f53-eb42-8599692f5017"
      },
      "execution_count": 121,
      "outputs": [
        {
          "output_type": "stream",
          "name": "stdout",
          "text": [
            "Fitting 5 folds for each of 54 candidates, totalling 270 fits\n",
            "[CV] END learning_rate=0.1, max_depth=4, min_samples_split=6, n_estimators=100; total time=   0.3s\n",
            "[CV] END learning_rate=0.1, max_depth=4, min_samples_split=6, n_estimators=100; total time=   0.3s\n",
            "[CV] END learning_rate=0.1, max_depth=4, min_samples_split=6, n_estimators=100; total time=   0.3s\n",
            "[CV] END learning_rate=0.1, max_depth=4, min_samples_split=6, n_estimators=100; total time=   0.3s\n",
            "[CV] END learning_rate=0.1, max_depth=4, min_samples_split=6, n_estimators=100; total time=   0.3s\n",
            "[CV] END learning_rate=0.1, max_depth=4, min_samples_split=6, n_estimators=150; total time=   0.4s\n",
            "[CV] END learning_rate=0.1, max_depth=4, min_samples_split=6, n_estimators=150; total time=   0.4s\n",
            "[CV] END learning_rate=0.1, max_depth=4, min_samples_split=6, n_estimators=150; total time=   0.4s\n",
            "[CV] END learning_rate=0.1, max_depth=4, min_samples_split=6, n_estimators=150; total time=   0.4s\n",
            "[CV] END learning_rate=0.1, max_depth=4, min_samples_split=6, n_estimators=150; total time=   0.4s\n",
            "[CV] END learning_rate=0.1, max_depth=4, min_samples_split=6, n_estimators=200; total time=   0.6s\n",
            "[CV] END learning_rate=0.1, max_depth=4, min_samples_split=6, n_estimators=200; total time=   0.6s\n",
            "[CV] END learning_rate=0.1, max_depth=4, min_samples_split=6, n_estimators=200; total time=   0.5s\n",
            "[CV] END learning_rate=0.1, max_depth=4, min_samples_split=6, n_estimators=200; total time=   0.6s\n",
            "[CV] END learning_rate=0.1, max_depth=4, min_samples_split=6, n_estimators=200; total time=   0.6s\n",
            "[CV] END learning_rate=0.1, max_depth=4, min_samples_split=8, n_estimators=100; total time=   0.3s\n",
            "[CV] END learning_rate=0.1, max_depth=4, min_samples_split=8, n_estimators=100; total time=   0.3s\n",
            "[CV] END learning_rate=0.1, max_depth=4, min_samples_split=8, n_estimators=100; total time=   0.3s\n",
            "[CV] END learning_rate=0.1, max_depth=4, min_samples_split=8, n_estimators=100; total time=   0.3s\n",
            "[CV] END learning_rate=0.1, max_depth=4, min_samples_split=8, n_estimators=100; total time=   0.3s\n",
            "[CV] END learning_rate=0.1, max_depth=4, min_samples_split=8, n_estimators=150; total time=   0.4s\n",
            "[CV] END learning_rate=0.1, max_depth=4, min_samples_split=8, n_estimators=150; total time=   0.4s\n",
            "[CV] END learning_rate=0.1, max_depth=4, min_samples_split=8, n_estimators=150; total time=   0.4s\n",
            "[CV] END learning_rate=0.1, max_depth=4, min_samples_split=8, n_estimators=150; total time=   0.4s\n",
            "[CV] END learning_rate=0.1, max_depth=4, min_samples_split=8, n_estimators=150; total time=   0.4s\n",
            "[CV] END learning_rate=0.1, max_depth=4, min_samples_split=8, n_estimators=200; total time=   0.6s\n",
            "[CV] END learning_rate=0.1, max_depth=4, min_samples_split=8, n_estimators=200; total time=   0.6s\n",
            "[CV] END learning_rate=0.1, max_depth=4, min_samples_split=8, n_estimators=200; total time=   0.6s\n",
            "[CV] END learning_rate=0.1, max_depth=4, min_samples_split=8, n_estimators=200; total time=   0.6s\n",
            "[CV] END learning_rate=0.1, max_depth=4, min_samples_split=8, n_estimators=200; total time=   0.6s\n",
            "[CV] END learning_rate=0.1, max_depth=4, min_samples_split=10, n_estimators=100; total time=   0.3s\n",
            "[CV] END learning_rate=0.1, max_depth=4, min_samples_split=10, n_estimators=100; total time=   0.3s\n",
            "[CV] END learning_rate=0.1, max_depth=4, min_samples_split=10, n_estimators=100; total time=   0.3s\n",
            "[CV] END learning_rate=0.1, max_depth=4, min_samples_split=10, n_estimators=100; total time=   0.3s\n",
            "[CV] END learning_rate=0.1, max_depth=4, min_samples_split=10, n_estimators=100; total time=   0.3s\n",
            "[CV] END learning_rate=0.1, max_depth=4, min_samples_split=10, n_estimators=150; total time=   0.4s\n",
            "[CV] END learning_rate=0.1, max_depth=4, min_samples_split=10, n_estimators=150; total time=   0.4s\n",
            "[CV] END learning_rate=0.1, max_depth=4, min_samples_split=10, n_estimators=150; total time=   0.4s\n",
            "[CV] END learning_rate=0.1, max_depth=4, min_samples_split=10, n_estimators=150; total time=   0.4s\n",
            "[CV] END learning_rate=0.1, max_depth=4, min_samples_split=10, n_estimators=150; total time=   0.4s\n",
            "[CV] END learning_rate=0.1, max_depth=4, min_samples_split=10, n_estimators=200; total time=   0.6s\n",
            "[CV] END learning_rate=0.1, max_depth=4, min_samples_split=10, n_estimators=200; total time=   0.6s\n",
            "[CV] END learning_rate=0.1, max_depth=4, min_samples_split=10, n_estimators=200; total time=   0.6s\n",
            "[CV] END learning_rate=0.1, max_depth=4, min_samples_split=10, n_estimators=200; total time=   0.6s\n",
            "[CV] END learning_rate=0.1, max_depth=4, min_samples_split=10, n_estimators=200; total time=   0.6s\n",
            "[CV] END learning_rate=0.1, max_depth=6, min_samples_split=6, n_estimators=100; total time=   0.4s\n",
            "[CV] END learning_rate=0.1, max_depth=6, min_samples_split=6, n_estimators=100; total time=   0.4s\n",
            "[CV] END learning_rate=0.1, max_depth=6, min_samples_split=6, n_estimators=100; total time=   0.4s\n",
            "[CV] END learning_rate=0.1, max_depth=6, min_samples_split=6, n_estimators=100; total time=   0.4s\n",
            "[CV] END learning_rate=0.1, max_depth=6, min_samples_split=6, n_estimators=100; total time=   0.4s\n",
            "[CV] END learning_rate=0.1, max_depth=6, min_samples_split=6, n_estimators=150; total time=   0.6s\n",
            "[CV] END learning_rate=0.1, max_depth=6, min_samples_split=6, n_estimators=150; total time=   0.6s\n",
            "[CV] END learning_rate=0.1, max_depth=6, min_samples_split=6, n_estimators=150; total time=   0.6s\n",
            "[CV] END learning_rate=0.1, max_depth=6, min_samples_split=6, n_estimators=150; total time=   0.6s\n",
            "[CV] END learning_rate=0.1, max_depth=6, min_samples_split=6, n_estimators=150; total time=   0.6s\n",
            "[CV] END learning_rate=0.1, max_depth=6, min_samples_split=6, n_estimators=200; total time=   0.8s\n",
            "[CV] END learning_rate=0.1, max_depth=6, min_samples_split=6, n_estimators=200; total time=   0.8s\n",
            "[CV] END learning_rate=0.1, max_depth=6, min_samples_split=6, n_estimators=200; total time=   0.8s\n",
            "[CV] END learning_rate=0.1, max_depth=6, min_samples_split=6, n_estimators=200; total time=   0.8s\n",
            "[CV] END learning_rate=0.1, max_depth=6, min_samples_split=6, n_estimators=200; total time=   0.8s\n",
            "[CV] END learning_rate=0.1, max_depth=6, min_samples_split=8, n_estimators=100; total time=   0.4s\n",
            "[CV] END learning_rate=0.1, max_depth=6, min_samples_split=8, n_estimators=100; total time=   0.4s\n",
            "[CV] END learning_rate=0.1, max_depth=6, min_samples_split=8, n_estimators=100; total time=   0.4s\n",
            "[CV] END learning_rate=0.1, max_depth=6, min_samples_split=8, n_estimators=100; total time=   0.4s\n",
            "[CV] END learning_rate=0.1, max_depth=6, min_samples_split=8, n_estimators=100; total time=   0.4s\n",
            "[CV] END learning_rate=0.1, max_depth=6, min_samples_split=8, n_estimators=150; total time=   0.6s\n",
            "[CV] END learning_rate=0.1, max_depth=6, min_samples_split=8, n_estimators=150; total time=   0.6s\n",
            "[CV] END learning_rate=0.1, max_depth=6, min_samples_split=8, n_estimators=150; total time=   0.6s\n",
            "[CV] END learning_rate=0.1, max_depth=6, min_samples_split=8, n_estimators=150; total time=   0.6s\n",
            "[CV] END learning_rate=0.1, max_depth=6, min_samples_split=8, n_estimators=150; total time=   0.6s\n",
            "[CV] END learning_rate=0.1, max_depth=6, min_samples_split=8, n_estimators=200; total time=   0.8s\n",
            "[CV] END learning_rate=0.1, max_depth=6, min_samples_split=8, n_estimators=200; total time=   0.8s\n",
            "[CV] END learning_rate=0.1, max_depth=6, min_samples_split=8, n_estimators=200; total time=   0.8s\n",
            "[CV] END learning_rate=0.1, max_depth=6, min_samples_split=8, n_estimators=200; total time=   0.8s\n",
            "[CV] END learning_rate=0.1, max_depth=6, min_samples_split=8, n_estimators=200; total time=   0.8s\n",
            "[CV] END learning_rate=0.1, max_depth=6, min_samples_split=10, n_estimators=100; total time=   0.4s\n",
            "[CV] END learning_rate=0.1, max_depth=6, min_samples_split=10, n_estimators=100; total time=   0.4s\n",
            "[CV] END learning_rate=0.1, max_depth=6, min_samples_split=10, n_estimators=100; total time=   0.4s\n",
            "[CV] END learning_rate=0.1, max_depth=6, min_samples_split=10, n_estimators=100; total time=   0.4s\n",
            "[CV] END learning_rate=0.1, max_depth=6, min_samples_split=10, n_estimators=100; total time=   0.4s\n",
            "[CV] END learning_rate=0.1, max_depth=6, min_samples_split=10, n_estimators=150; total time=   0.6s\n",
            "[CV] END learning_rate=0.1, max_depth=6, min_samples_split=10, n_estimators=150; total time=   0.6s\n",
            "[CV] END learning_rate=0.1, max_depth=6, min_samples_split=10, n_estimators=150; total time=   0.6s\n",
            "[CV] END learning_rate=0.1, max_depth=6, min_samples_split=10, n_estimators=150; total time=   0.6s\n",
            "[CV] END learning_rate=0.1, max_depth=6, min_samples_split=10, n_estimators=150; total time=   0.6s\n",
            "[CV] END learning_rate=0.1, max_depth=6, min_samples_split=10, n_estimators=200; total time=   0.8s\n",
            "[CV] END learning_rate=0.1, max_depth=6, min_samples_split=10, n_estimators=200; total time=   0.8s\n",
            "[CV] END learning_rate=0.1, max_depth=6, min_samples_split=10, n_estimators=200; total time=   0.8s\n",
            "[CV] END learning_rate=0.1, max_depth=6, min_samples_split=10, n_estimators=200; total time=   0.8s\n",
            "[CV] END learning_rate=0.1, max_depth=6, min_samples_split=10, n_estimators=200; total time=   0.8s\n",
            "[CV] END learning_rate=0.1, max_depth=8, min_samples_split=6, n_estimators=100; total time=   0.5s\n",
            "[CV] END learning_rate=0.1, max_depth=8, min_samples_split=6, n_estimators=100; total time=   0.5s\n",
            "[CV] END learning_rate=0.1, max_depth=8, min_samples_split=6, n_estimators=100; total time=   0.5s\n",
            "[CV] END learning_rate=0.1, max_depth=8, min_samples_split=6, n_estimators=100; total time=   0.5s\n",
            "[CV] END learning_rate=0.1, max_depth=8, min_samples_split=6, n_estimators=100; total time=   0.5s\n",
            "[CV] END learning_rate=0.1, max_depth=8, min_samples_split=6, n_estimators=150; total time=   0.7s\n",
            "[CV] END learning_rate=0.1, max_depth=8, min_samples_split=6, n_estimators=150; total time=   0.7s\n",
            "[CV] END learning_rate=0.1, max_depth=8, min_samples_split=6, n_estimators=150; total time=   0.7s\n",
            "[CV] END learning_rate=0.1, max_depth=8, min_samples_split=6, n_estimators=150; total time=   0.7s\n",
            "[CV] END learning_rate=0.1, max_depth=8, min_samples_split=6, n_estimators=150; total time=   0.7s\n",
            "[CV] END learning_rate=0.1, max_depth=8, min_samples_split=6, n_estimators=200; total time=   1.0s\n",
            "[CV] END learning_rate=0.1, max_depth=8, min_samples_split=6, n_estimators=200; total time=   1.0s\n",
            "[CV] END learning_rate=0.1, max_depth=8, min_samples_split=6, n_estimators=200; total time=   1.0s\n",
            "[CV] END learning_rate=0.1, max_depth=8, min_samples_split=6, n_estimators=200; total time=   1.0s\n",
            "[CV] END learning_rate=0.1, max_depth=8, min_samples_split=6, n_estimators=200; total time=   1.0s\n",
            "[CV] END learning_rate=0.1, max_depth=8, min_samples_split=8, n_estimators=100; total time=   0.5s\n",
            "[CV] END learning_rate=0.1, max_depth=8, min_samples_split=8, n_estimators=100; total time=   0.5s\n",
            "[CV] END learning_rate=0.1, max_depth=8, min_samples_split=8, n_estimators=100; total time=   0.5s\n",
            "[CV] END learning_rate=0.1, max_depth=8, min_samples_split=8, n_estimators=100; total time=   0.5s\n",
            "[CV] END learning_rate=0.1, max_depth=8, min_samples_split=8, n_estimators=100; total time=   0.5s\n",
            "[CV] END learning_rate=0.1, max_depth=8, min_samples_split=8, n_estimators=150; total time=   0.7s\n",
            "[CV] END learning_rate=0.1, max_depth=8, min_samples_split=8, n_estimators=150; total time=   0.7s\n",
            "[CV] END learning_rate=0.1, max_depth=8, min_samples_split=8, n_estimators=150; total time=   0.7s\n",
            "[CV] END learning_rate=0.1, max_depth=8, min_samples_split=8, n_estimators=150; total time=   0.7s\n",
            "[CV] END learning_rate=0.1, max_depth=8, min_samples_split=8, n_estimators=150; total time=   0.7s\n",
            "[CV] END learning_rate=0.1, max_depth=8, min_samples_split=8, n_estimators=200; total time=   1.0s\n",
            "[CV] END learning_rate=0.1, max_depth=8, min_samples_split=8, n_estimators=200; total time=   1.0s\n",
            "[CV] END learning_rate=0.1, max_depth=8, min_samples_split=8, n_estimators=200; total time=   1.0s\n",
            "[CV] END learning_rate=0.1, max_depth=8, min_samples_split=8, n_estimators=200; total time=   1.0s\n",
            "[CV] END learning_rate=0.1, max_depth=8, min_samples_split=8, n_estimators=200; total time=   1.0s\n",
            "[CV] END learning_rate=0.1, max_depth=8, min_samples_split=10, n_estimators=100; total time=   0.5s\n",
            "[CV] END learning_rate=0.1, max_depth=8, min_samples_split=10, n_estimators=100; total time=   0.5s\n",
            "[CV] END learning_rate=0.1, max_depth=8, min_samples_split=10, n_estimators=100; total time=   0.5s\n",
            "[CV] END learning_rate=0.1, max_depth=8, min_samples_split=10, n_estimators=100; total time=   0.5s\n",
            "[CV] END learning_rate=0.1, max_depth=8, min_samples_split=10, n_estimators=100; total time=   0.5s\n",
            "[CV] END learning_rate=0.1, max_depth=8, min_samples_split=10, n_estimators=150; total time=   0.8s\n",
            "[CV] END learning_rate=0.1, max_depth=8, min_samples_split=10, n_estimators=150; total time=   0.7s\n",
            "[CV] END learning_rate=0.1, max_depth=8, min_samples_split=10, n_estimators=150; total time=   0.7s\n",
            "[CV] END learning_rate=0.1, max_depth=8, min_samples_split=10, n_estimators=150; total time=   0.8s\n",
            "[CV] END learning_rate=0.1, max_depth=8, min_samples_split=10, n_estimators=150; total time=   0.7s\n",
            "[CV] END learning_rate=0.1, max_depth=8, min_samples_split=10, n_estimators=200; total time=   1.0s\n",
            "[CV] END learning_rate=0.1, max_depth=8, min_samples_split=10, n_estimators=200; total time=   1.0s\n",
            "[CV] END learning_rate=0.1, max_depth=8, min_samples_split=10, n_estimators=200; total time=   1.0s\n",
            "[CV] END learning_rate=0.1, max_depth=8, min_samples_split=10, n_estimators=200; total time=   1.0s\n",
            "[CV] END learning_rate=0.1, max_depth=8, min_samples_split=10, n_estimators=200; total time=   1.0s\n",
            "[CV] END learning_rate=0.05, max_depth=4, min_samples_split=6, n_estimators=100; total time=   0.3s\n",
            "[CV] END learning_rate=0.05, max_depth=4, min_samples_split=6, n_estimators=100; total time=   0.3s\n",
            "[CV] END learning_rate=0.05, max_depth=4, min_samples_split=6, n_estimators=100; total time=   0.3s\n",
            "[CV] END learning_rate=0.05, max_depth=4, min_samples_split=6, n_estimators=100; total time=   0.3s\n",
            "[CV] END learning_rate=0.05, max_depth=4, min_samples_split=6, n_estimators=100; total time=   0.3s\n",
            "[CV] END learning_rate=0.05, max_depth=4, min_samples_split=6, n_estimators=150; total time=   0.4s\n",
            "[CV] END learning_rate=0.05, max_depth=4, min_samples_split=6, n_estimators=150; total time=   0.4s\n",
            "[CV] END learning_rate=0.05, max_depth=4, min_samples_split=6, n_estimators=150; total time=   0.4s\n",
            "[CV] END learning_rate=0.05, max_depth=4, min_samples_split=6, n_estimators=150; total time=   0.4s\n",
            "[CV] END learning_rate=0.05, max_depth=4, min_samples_split=6, n_estimators=150; total time=   0.4s\n",
            "[CV] END learning_rate=0.05, max_depth=4, min_samples_split=6, n_estimators=200; total time=   0.6s\n",
            "[CV] END learning_rate=0.05, max_depth=4, min_samples_split=6, n_estimators=200; total time=   0.6s\n",
            "[CV] END learning_rate=0.05, max_depth=4, min_samples_split=6, n_estimators=200; total time=   0.6s\n",
            "[CV] END learning_rate=0.05, max_depth=4, min_samples_split=6, n_estimators=200; total time=   0.6s\n",
            "[CV] END learning_rate=0.05, max_depth=4, min_samples_split=6, n_estimators=200; total time=   0.6s\n",
            "[CV] END learning_rate=0.05, max_depth=4, min_samples_split=8, n_estimators=100; total time=   0.3s\n",
            "[CV] END learning_rate=0.05, max_depth=4, min_samples_split=8, n_estimators=100; total time=   0.3s\n",
            "[CV] END learning_rate=0.05, max_depth=4, min_samples_split=8, n_estimators=100; total time=   0.3s\n",
            "[CV] END learning_rate=0.05, max_depth=4, min_samples_split=8, n_estimators=100; total time=   0.3s\n",
            "[CV] END learning_rate=0.05, max_depth=4, min_samples_split=8, n_estimators=100; total time=   0.3s\n",
            "[CV] END learning_rate=0.05, max_depth=4, min_samples_split=8, n_estimators=150; total time=   0.4s\n",
            "[CV] END learning_rate=0.05, max_depth=4, min_samples_split=8, n_estimators=150; total time=   0.4s\n",
            "[CV] END learning_rate=0.05, max_depth=4, min_samples_split=8, n_estimators=150; total time=   0.4s\n",
            "[CV] END learning_rate=0.05, max_depth=4, min_samples_split=8, n_estimators=150; total time=   0.4s\n",
            "[CV] END learning_rate=0.05, max_depth=4, min_samples_split=8, n_estimators=150; total time=   0.4s\n",
            "[CV] END learning_rate=0.05, max_depth=4, min_samples_split=8, n_estimators=200; total time=   0.6s\n",
            "[CV] END learning_rate=0.05, max_depth=4, min_samples_split=8, n_estimators=200; total time=   0.6s\n",
            "[CV] END learning_rate=0.05, max_depth=4, min_samples_split=8, n_estimators=200; total time=   0.6s\n",
            "[CV] END learning_rate=0.05, max_depth=4, min_samples_split=8, n_estimators=200; total time=   0.6s\n",
            "[CV] END learning_rate=0.05, max_depth=4, min_samples_split=8, n_estimators=200; total time=   0.6s\n",
            "[CV] END learning_rate=0.05, max_depth=4, min_samples_split=10, n_estimators=100; total time=   0.3s\n",
            "[CV] END learning_rate=0.05, max_depth=4, min_samples_split=10, n_estimators=100; total time=   0.3s\n",
            "[CV] END learning_rate=0.05, max_depth=4, min_samples_split=10, n_estimators=100; total time=   0.3s\n",
            "[CV] END learning_rate=0.05, max_depth=4, min_samples_split=10, n_estimators=100; total time=   0.3s\n",
            "[CV] END learning_rate=0.05, max_depth=4, min_samples_split=10, n_estimators=100; total time=   0.3s\n",
            "[CV] END learning_rate=0.05, max_depth=4, min_samples_split=10, n_estimators=150; total time=   0.4s\n",
            "[CV] END learning_rate=0.05, max_depth=4, min_samples_split=10, n_estimators=150; total time=   0.4s\n",
            "[CV] END learning_rate=0.05, max_depth=4, min_samples_split=10, n_estimators=150; total time=   0.4s\n",
            "[CV] END learning_rate=0.05, max_depth=4, min_samples_split=10, n_estimators=150; total time=   0.4s\n",
            "[CV] END learning_rate=0.05, max_depth=4, min_samples_split=10, n_estimators=150; total time=   0.4s\n",
            "[CV] END learning_rate=0.05, max_depth=4, min_samples_split=10, n_estimators=200; total time=   0.6s\n",
            "[CV] END learning_rate=0.05, max_depth=4, min_samples_split=10, n_estimators=200; total time=   0.6s\n",
            "[CV] END learning_rate=0.05, max_depth=4, min_samples_split=10, n_estimators=200; total time=   0.6s\n",
            "[CV] END learning_rate=0.05, max_depth=4, min_samples_split=10, n_estimators=200; total time=   0.6s\n",
            "[CV] END learning_rate=0.05, max_depth=4, min_samples_split=10, n_estimators=200; total time=   0.6s\n",
            "[CV] END learning_rate=0.05, max_depth=6, min_samples_split=6, n_estimators=100; total time=   0.4s\n",
            "[CV] END learning_rate=0.05, max_depth=6, min_samples_split=6, n_estimators=100; total time=   0.4s\n",
            "[CV] END learning_rate=0.05, max_depth=6, min_samples_split=6, n_estimators=100; total time=   0.4s\n",
            "[CV] END learning_rate=0.05, max_depth=6, min_samples_split=6, n_estimators=100; total time=   0.4s\n",
            "[CV] END learning_rate=0.05, max_depth=6, min_samples_split=6, n_estimators=100; total time=   0.4s\n",
            "[CV] END learning_rate=0.05, max_depth=6, min_samples_split=6, n_estimators=150; total time=   0.6s\n",
            "[CV] END learning_rate=0.05, max_depth=6, min_samples_split=6, n_estimators=150; total time=   0.6s\n",
            "[CV] END learning_rate=0.05, max_depth=6, min_samples_split=6, n_estimators=150; total time=   0.6s\n",
            "[CV] END learning_rate=0.05, max_depth=6, min_samples_split=6, n_estimators=150; total time=   0.6s\n",
            "[CV] END learning_rate=0.05, max_depth=6, min_samples_split=6, n_estimators=150; total time=   0.6s\n",
            "[CV] END learning_rate=0.05, max_depth=6, min_samples_split=6, n_estimators=200; total time=   0.8s\n",
            "[CV] END learning_rate=0.05, max_depth=6, min_samples_split=6, n_estimators=200; total time=   0.8s\n",
            "[CV] END learning_rate=0.05, max_depth=6, min_samples_split=6, n_estimators=200; total time=   0.8s\n",
            "[CV] END learning_rate=0.05, max_depth=6, min_samples_split=6, n_estimators=200; total time=   0.8s\n",
            "[CV] END learning_rate=0.05, max_depth=6, min_samples_split=6, n_estimators=200; total time=   0.8s\n",
            "[CV] END learning_rate=0.05, max_depth=6, min_samples_split=8, n_estimators=100; total time=   0.4s\n",
            "[CV] END learning_rate=0.05, max_depth=6, min_samples_split=8, n_estimators=100; total time=   0.4s\n",
            "[CV] END learning_rate=0.05, max_depth=6, min_samples_split=8, n_estimators=100; total time=   0.4s\n",
            "[CV] END learning_rate=0.05, max_depth=6, min_samples_split=8, n_estimators=100; total time=   0.4s\n",
            "[CV] END learning_rate=0.05, max_depth=6, min_samples_split=8, n_estimators=100; total time=   0.4s\n",
            "[CV] END learning_rate=0.05, max_depth=6, min_samples_split=8, n_estimators=150; total time=   0.6s\n",
            "[CV] END learning_rate=0.05, max_depth=6, min_samples_split=8, n_estimators=150; total time=   0.6s\n",
            "[CV] END learning_rate=0.05, max_depth=6, min_samples_split=8, n_estimators=150; total time=   0.6s\n",
            "[CV] END learning_rate=0.05, max_depth=6, min_samples_split=8, n_estimators=150; total time=   0.6s\n",
            "[CV] END learning_rate=0.05, max_depth=6, min_samples_split=8, n_estimators=150; total time=   0.6s\n",
            "[CV] END learning_rate=0.05, max_depth=6, min_samples_split=8, n_estimators=200; total time=   0.8s\n",
            "[CV] END learning_rate=0.05, max_depth=6, min_samples_split=8, n_estimators=200; total time=   0.8s\n",
            "[CV] END learning_rate=0.05, max_depth=6, min_samples_split=8, n_estimators=200; total time=   0.8s\n",
            "[CV] END learning_rate=0.05, max_depth=6, min_samples_split=8, n_estimators=200; total time=   0.8s\n",
            "[CV] END learning_rate=0.05, max_depth=6, min_samples_split=8, n_estimators=200; total time=   0.8s\n",
            "[CV] END learning_rate=0.05, max_depth=6, min_samples_split=10, n_estimators=100; total time=   0.4s\n",
            "[CV] END learning_rate=0.05, max_depth=6, min_samples_split=10, n_estimators=100; total time=   0.4s\n",
            "[CV] END learning_rate=0.05, max_depth=6, min_samples_split=10, n_estimators=100; total time=   0.4s\n",
            "[CV] END learning_rate=0.05, max_depth=6, min_samples_split=10, n_estimators=100; total time=   0.4s\n",
            "[CV] END learning_rate=0.05, max_depth=6, min_samples_split=10, n_estimators=100; total time=   0.4s\n",
            "[CV] END learning_rate=0.05, max_depth=6, min_samples_split=10, n_estimators=150; total time=   0.6s\n",
            "[CV] END learning_rate=0.05, max_depth=6, min_samples_split=10, n_estimators=150; total time=   0.6s\n",
            "[CV] END learning_rate=0.05, max_depth=6, min_samples_split=10, n_estimators=150; total time=   0.6s\n",
            "[CV] END learning_rate=0.05, max_depth=6, min_samples_split=10, n_estimators=150; total time=   0.6s\n",
            "[CV] END learning_rate=0.05, max_depth=6, min_samples_split=10, n_estimators=150; total time=   0.6s\n",
            "[CV] END learning_rate=0.05, max_depth=6, min_samples_split=10, n_estimators=200; total time=   0.8s\n",
            "[CV] END learning_rate=0.05, max_depth=6, min_samples_split=10, n_estimators=200; total time=   0.8s\n",
            "[CV] END learning_rate=0.05, max_depth=6, min_samples_split=10, n_estimators=200; total time=   0.8s\n",
            "[CV] END learning_rate=0.05, max_depth=6, min_samples_split=10, n_estimators=200; total time=   0.8s\n",
            "[CV] END learning_rate=0.05, max_depth=6, min_samples_split=10, n_estimators=200; total time=   0.8s\n",
            "[CV] END learning_rate=0.05, max_depth=8, min_samples_split=6, n_estimators=100; total time=   0.5s\n",
            "[CV] END learning_rate=0.05, max_depth=8, min_samples_split=6, n_estimators=100; total time=   0.5s\n",
            "[CV] END learning_rate=0.05, max_depth=8, min_samples_split=6, n_estimators=100; total time=   0.5s\n",
            "[CV] END learning_rate=0.05, max_depth=8, min_samples_split=6, n_estimators=100; total time=   0.5s\n",
            "[CV] END learning_rate=0.05, max_depth=8, min_samples_split=6, n_estimators=100; total time=   0.5s\n",
            "[CV] END learning_rate=0.05, max_depth=8, min_samples_split=6, n_estimators=150; total time=   0.7s\n",
            "[CV] END learning_rate=0.05, max_depth=8, min_samples_split=6, n_estimators=150; total time=   0.7s\n",
            "[CV] END learning_rate=0.05, max_depth=8, min_samples_split=6, n_estimators=150; total time=   0.7s\n",
            "[CV] END learning_rate=0.05, max_depth=8, min_samples_split=6, n_estimators=150; total time=   0.7s\n",
            "[CV] END learning_rate=0.05, max_depth=8, min_samples_split=6, n_estimators=150; total time=   0.7s\n",
            "[CV] END learning_rate=0.05, max_depth=8, min_samples_split=6, n_estimators=200; total time=   1.0s\n",
            "[CV] END learning_rate=0.05, max_depth=8, min_samples_split=6, n_estimators=200; total time=   1.0s\n",
            "[CV] END learning_rate=0.05, max_depth=8, min_samples_split=6, n_estimators=200; total time=   1.0s\n",
            "[CV] END learning_rate=0.05, max_depth=8, min_samples_split=6, n_estimators=200; total time=   1.0s\n",
            "[CV] END learning_rate=0.05, max_depth=8, min_samples_split=6, n_estimators=200; total time=   1.0s\n",
            "[CV] END learning_rate=0.05, max_depth=8, min_samples_split=8, n_estimators=100; total time=   0.5s\n",
            "[CV] END learning_rate=0.05, max_depth=8, min_samples_split=8, n_estimators=100; total time=   0.5s\n",
            "[CV] END learning_rate=0.05, max_depth=8, min_samples_split=8, n_estimators=100; total time=   0.5s\n",
            "[CV] END learning_rate=0.05, max_depth=8, min_samples_split=8, n_estimators=100; total time=   0.5s\n",
            "[CV] END learning_rate=0.05, max_depth=8, min_samples_split=8, n_estimators=100; total time=   0.5s\n",
            "[CV] END learning_rate=0.05, max_depth=8, min_samples_split=8, n_estimators=150; total time=   0.7s\n",
            "[CV] END learning_rate=0.05, max_depth=8, min_samples_split=8, n_estimators=150; total time=   0.7s\n",
            "[CV] END learning_rate=0.05, max_depth=8, min_samples_split=8, n_estimators=150; total time=   0.7s\n",
            "[CV] END learning_rate=0.05, max_depth=8, min_samples_split=8, n_estimators=150; total time=   0.7s\n",
            "[CV] END learning_rate=0.05, max_depth=8, min_samples_split=8, n_estimators=150; total time=   0.7s\n",
            "[CV] END learning_rate=0.05, max_depth=8, min_samples_split=8, n_estimators=200; total time=   1.0s\n",
            "[CV] END learning_rate=0.05, max_depth=8, min_samples_split=8, n_estimators=200; total time=   1.0s\n",
            "[CV] END learning_rate=0.05, max_depth=8, min_samples_split=8, n_estimators=200; total time=   1.0s\n",
            "[CV] END learning_rate=0.05, max_depth=8, min_samples_split=8, n_estimators=200; total time=   1.0s\n",
            "[CV] END learning_rate=0.05, max_depth=8, min_samples_split=8, n_estimators=200; total time=   1.0s\n",
            "[CV] END learning_rate=0.05, max_depth=8, min_samples_split=10, n_estimators=100; total time=   0.5s\n",
            "[CV] END learning_rate=0.05, max_depth=8, min_samples_split=10, n_estimators=100; total time=   0.5s\n",
            "[CV] END learning_rate=0.05, max_depth=8, min_samples_split=10, n_estimators=100; total time=   0.5s\n",
            "[CV] END learning_rate=0.05, max_depth=8, min_samples_split=10, n_estimators=100; total time=   0.5s\n",
            "[CV] END learning_rate=0.05, max_depth=8, min_samples_split=10, n_estimators=100; total time=   0.5s\n",
            "[CV] END learning_rate=0.05, max_depth=8, min_samples_split=10, n_estimators=150; total time=   0.7s\n",
            "[CV] END learning_rate=0.05, max_depth=8, min_samples_split=10, n_estimators=150; total time=   0.7s\n",
            "[CV] END learning_rate=0.05, max_depth=8, min_samples_split=10, n_estimators=150; total time=   0.7s\n",
            "[CV] END learning_rate=0.05, max_depth=8, min_samples_split=10, n_estimators=150; total time=   0.7s\n",
            "[CV] END learning_rate=0.05, max_depth=8, min_samples_split=10, n_estimators=150; total time=   0.7s\n",
            "[CV] END learning_rate=0.05, max_depth=8, min_samples_split=10, n_estimators=200; total time=   1.0s\n",
            "[CV] END learning_rate=0.05, max_depth=8, min_samples_split=10, n_estimators=200; total time=   1.0s\n",
            "[CV] END learning_rate=0.05, max_depth=8, min_samples_split=10, n_estimators=200; total time=   1.0s\n",
            "[CV] END learning_rate=0.05, max_depth=8, min_samples_split=10, n_estimators=200; total time=   1.0s\n",
            "[CV] END learning_rate=0.05, max_depth=8, min_samples_split=10, n_estimators=200; total time=   1.0s\n"
          ]
        },
        {
          "output_type": "execute_result",
          "data": {
            "text/plain": [
              "GridSearchCV(cv=5, estimator=GradientBoostingRegressor(random_state=0),\n",
              "             param_grid={'learning_rate': [0.1, 0.05], 'max_depth': [4, 6, 8],\n",
              "                         'min_samples_split': [6, 8, 10],\n",
              "                         'n_estimators': [100, 150, 200]},\n",
              "             verbose=2)"
            ]
          },
          "metadata": {},
          "execution_count": 121
        }
      ]
    },
    {
      "cell_type": "code",
      "source": [
        "grid.best_params_"
      ],
      "metadata": {
        "id": "5uRq-iXK3XG5",
        "colab": {
          "base_uri": "https://localhost:8080/"
        },
        "outputId": "f8ae3e4e-6cca-4663-9598-0f1755920eb1"
      },
      "execution_count": 122,
      "outputs": [
        {
          "output_type": "execute_result",
          "data": {
            "text/plain": [
              "{'learning_rate': 0.05,\n",
              " 'max_depth': 4,\n",
              " 'min_samples_split': 10,\n",
              " 'n_estimators': 100}"
            ]
          },
          "metadata": {},
          "execution_count": 122
        }
      ]
    },
    {
      "cell_type": "code",
      "source": [
        "parameters = {'learning_rate': 0.1,\n",
        " 'max_depth': 6,\n",
        " 'min_samples_split': 10,\n",
        " 'n_estimators': 150}\n",
        "gbr = GradientBoostingRegressor(learning_rate= 0.1,\n",
        " max_depth= 6,\n",
        " min_samples_split= 10,\n",
        " n_estimators=150, random_state=0)\n",
        "gbr.fit(x_train,y_train_log)\n",
        "test_pred=(gbr.predict(x_test))\n",
        "\n",
        "(NMAE(test_pred,y_test_log))\n",
        "#GradientBoostingRegressor NMAE : \t\t 0.05233498337607055"
      ],
      "metadata": {
        "id": "VcT7jFAQAiae",
        "colab": {
          "base_uri": "https://localhost:8080/"
        },
        "outputId": "58cb293d-c1f8-4260-e28f-5660078ea34e"
      },
      "execution_count": 105,
      "outputs": [
        {
          "output_type": "execute_result",
          "data": {
            "text/plain": [
              "0.05800597022587646"
            ]
          },
          "metadata": {},
          "execution_count": 105
        }
      ]
    },
    {
      "cell_type": "code",
      "source": [
        "parameters = {\n",
        "    \"n_estimators\" : [100,200,500],\n",
        "    'max_depth' : [2,3,5],\n",
        "    'n_jobs' : [-1],\n",
        "    'learing_rate' : [0.1, 0.05, 0.01]\n",
        "    }\n",
        "    \n",
        "#verbose = 2 -> Grid Search 반복시 하이퍼 파라메타별 메시지를 화면에 출력 \n",
        "#cv=5 5번의 교차검증.\n",
        "grid = GridSearchCV(XGBRegressor(random_state=0), parameters, verbose=2, cv=5)\n",
        "grid.fit(x_train, y_train_log)"
      ],
      "metadata": {
        "id": "vqNFLbKw3ZEM",
        "colab": {
          "base_uri": "https://localhost:8080/"
        },
        "outputId": "3efccdcb-cb07-4260-9ae7-61bbb1b21254"
      },
      "execution_count": 123,
      "outputs": [
        {
          "output_type": "stream",
          "name": "stdout",
          "text": [
            "Fitting 5 folds for each of 27 candidates, totalling 135 fits\n",
            "[04:31:32] WARNING: /workspace/src/objective/regression_obj.cu:152: reg:linear is now deprecated in favor of reg:squarederror.\n",
            "[CV] END learing_rate=0.1, max_depth=2, n_estimators=100, n_jobs=-1; total time=   0.1s\n",
            "[04:31:32] WARNING: /workspace/src/objective/regression_obj.cu:152: reg:linear is now deprecated in favor of reg:squarederror.\n",
            "[CV] END learing_rate=0.1, max_depth=2, n_estimators=100, n_jobs=-1; total time=   0.1s\n",
            "[04:31:32] WARNING: /workspace/src/objective/regression_obj.cu:152: reg:linear is now deprecated in favor of reg:squarederror.\n",
            "[CV] END learing_rate=0.1, max_depth=2, n_estimators=100, n_jobs=-1; total time=   0.1s\n",
            "[04:31:32] WARNING: /workspace/src/objective/regression_obj.cu:152: reg:linear is now deprecated in favor of reg:squarederror.\n",
            "[CV] END learing_rate=0.1, max_depth=2, n_estimators=100, n_jobs=-1; total time=   0.1s\n",
            "[04:31:32] WARNING: /workspace/src/objective/regression_obj.cu:152: reg:linear is now deprecated in favor of reg:squarederror.\n",
            "[CV] END learing_rate=0.1, max_depth=2, n_estimators=100, n_jobs=-1; total time=   0.1s\n",
            "[04:31:32] WARNING: /workspace/src/objective/regression_obj.cu:152: reg:linear is now deprecated in favor of reg:squarederror.\n",
            "[CV] END learing_rate=0.1, max_depth=2, n_estimators=200, n_jobs=-1; total time=   0.1s\n",
            "[04:31:32] WARNING: /workspace/src/objective/regression_obj.cu:152: reg:linear is now deprecated in favor of reg:squarederror.\n",
            "[CV] END learing_rate=0.1, max_depth=2, n_estimators=200, n_jobs=-1; total time=   0.1s\n",
            "[04:31:33] WARNING: /workspace/src/objective/regression_obj.cu:152: reg:linear is now deprecated in favor of reg:squarederror.\n",
            "[CV] END learing_rate=0.1, max_depth=2, n_estimators=200, n_jobs=-1; total time=   0.1s\n",
            "[04:31:33] WARNING: /workspace/src/objective/regression_obj.cu:152: reg:linear is now deprecated in favor of reg:squarederror.\n",
            "[CV] END learing_rate=0.1, max_depth=2, n_estimators=200, n_jobs=-1; total time=   0.1s\n",
            "[04:31:33] WARNING: /workspace/src/objective/regression_obj.cu:152: reg:linear is now deprecated in favor of reg:squarederror.\n",
            "[CV] END learing_rate=0.1, max_depth=2, n_estimators=200, n_jobs=-1; total time=   0.1s\n",
            "[04:31:33] WARNING: /workspace/src/objective/regression_obj.cu:152: reg:linear is now deprecated in favor of reg:squarederror.\n",
            "[CV] END learing_rate=0.1, max_depth=2, n_estimators=500, n_jobs=-1; total time=   0.2s\n",
            "[04:31:33] WARNING: /workspace/src/objective/regression_obj.cu:152: reg:linear is now deprecated in favor of reg:squarederror.\n",
            "[CV] END learing_rate=0.1, max_depth=2, n_estimators=500, n_jobs=-1; total time=   0.2s\n",
            "[04:31:33] WARNING: /workspace/src/objective/regression_obj.cu:152: reg:linear is now deprecated in favor of reg:squarederror.\n",
            "[CV] END learing_rate=0.1, max_depth=2, n_estimators=500, n_jobs=-1; total time=   0.3s\n",
            "[04:31:34] WARNING: /workspace/src/objective/regression_obj.cu:152: reg:linear is now deprecated in favor of reg:squarederror.\n",
            "[CV] END learing_rate=0.1, max_depth=2, n_estimators=500, n_jobs=-1; total time=   0.2s\n",
            "[04:31:34] WARNING: /workspace/src/objective/regression_obj.cu:152: reg:linear is now deprecated in favor of reg:squarederror.\n",
            "[CV] END learing_rate=0.1, max_depth=2, n_estimators=500, n_jobs=-1; total time=   0.2s\n",
            "[04:31:34] WARNING: /workspace/src/objective/regression_obj.cu:152: reg:linear is now deprecated in favor of reg:squarederror.\n",
            "[CV] END learing_rate=0.1, max_depth=3, n_estimators=100, n_jobs=-1; total time=   0.1s\n",
            "[04:31:34] WARNING: /workspace/src/objective/regression_obj.cu:152: reg:linear is now deprecated in favor of reg:squarederror.\n",
            "[CV] END learing_rate=0.1, max_depth=3, n_estimators=100, n_jobs=-1; total time=   0.1s\n",
            "[04:31:34] WARNING: /workspace/src/objective/regression_obj.cu:152: reg:linear is now deprecated in favor of reg:squarederror.\n",
            "[CV] END learing_rate=0.1, max_depth=3, n_estimators=100, n_jobs=-1; total time=   0.1s\n",
            "[04:31:34] WARNING: /workspace/src/objective/regression_obj.cu:152: reg:linear is now deprecated in favor of reg:squarederror.\n",
            "[CV] END learing_rate=0.1, max_depth=3, n_estimators=100, n_jobs=-1; total time=   0.1s\n",
            "[04:31:34] WARNING: /workspace/src/objective/regression_obj.cu:152: reg:linear is now deprecated in favor of reg:squarederror.\n",
            "[CV] END learing_rate=0.1, max_depth=3, n_estimators=100, n_jobs=-1; total time=   0.1s\n",
            "[04:31:34] WARNING: /workspace/src/objective/regression_obj.cu:152: reg:linear is now deprecated in favor of reg:squarederror.\n",
            "[CV] END learing_rate=0.1, max_depth=3, n_estimators=200, n_jobs=-1; total time=   0.1s\n",
            "[04:31:35] WARNING: /workspace/src/objective/regression_obj.cu:152: reg:linear is now deprecated in favor of reg:squarederror.\n",
            "[CV] END learing_rate=0.1, max_depth=3, n_estimators=200, n_jobs=-1; total time=   0.1s\n",
            "[04:31:35] WARNING: /workspace/src/objective/regression_obj.cu:152: reg:linear is now deprecated in favor of reg:squarederror.\n",
            "[CV] END learing_rate=0.1, max_depth=3, n_estimators=200, n_jobs=-1; total time=   0.2s\n",
            "[04:31:35] WARNING: /workspace/src/objective/regression_obj.cu:152: reg:linear is now deprecated in favor of reg:squarederror.\n",
            "[CV] END learing_rate=0.1, max_depth=3, n_estimators=200, n_jobs=-1; total time=   0.1s\n",
            "[04:31:35] WARNING: /workspace/src/objective/regression_obj.cu:152: reg:linear is now deprecated in favor of reg:squarederror.\n",
            "[CV] END learing_rate=0.1, max_depth=3, n_estimators=200, n_jobs=-1; total time=   0.1s\n",
            "[04:31:35] WARNING: /workspace/src/objective/regression_obj.cu:152: reg:linear is now deprecated in favor of reg:squarederror.\n",
            "[CV] END learing_rate=0.1, max_depth=3, n_estimators=500, n_jobs=-1; total time=   0.3s\n",
            "[04:31:36] WARNING: /workspace/src/objective/regression_obj.cu:152: reg:linear is now deprecated in favor of reg:squarederror.\n",
            "[CV] END learing_rate=0.1, max_depth=3, n_estimators=500, n_jobs=-1; total time=   0.3s\n",
            "[04:31:36] WARNING: /workspace/src/objective/regression_obj.cu:152: reg:linear is now deprecated in favor of reg:squarederror.\n",
            "[CV] END learing_rate=0.1, max_depth=3, n_estimators=500, n_jobs=-1; total time=   0.3s\n",
            "[04:31:36] WARNING: /workspace/src/objective/regression_obj.cu:152: reg:linear is now deprecated in favor of reg:squarederror.\n",
            "[CV] END learing_rate=0.1, max_depth=3, n_estimators=500, n_jobs=-1; total time=   0.3s\n",
            "[04:31:37] WARNING: /workspace/src/objective/regression_obj.cu:152: reg:linear is now deprecated in favor of reg:squarederror.\n",
            "[CV] END learing_rate=0.1, max_depth=3, n_estimators=500, n_jobs=-1; total time=   0.3s\n",
            "[04:31:37] WARNING: /workspace/src/objective/regression_obj.cu:152: reg:linear is now deprecated in favor of reg:squarederror.\n",
            "[CV] END learing_rate=0.1, max_depth=5, n_estimators=100, n_jobs=-1; total time=   0.1s\n",
            "[04:31:37] WARNING: /workspace/src/objective/regression_obj.cu:152: reg:linear is now deprecated in favor of reg:squarederror.\n",
            "[CV] END learing_rate=0.1, max_depth=5, n_estimators=100, n_jobs=-1; total time=   0.1s\n",
            "[04:31:37] WARNING: /workspace/src/objective/regression_obj.cu:152: reg:linear is now deprecated in favor of reg:squarederror.\n",
            "[CV] END learing_rate=0.1, max_depth=5, n_estimators=100, n_jobs=-1; total time=   0.1s\n",
            "[04:31:37] WARNING: /workspace/src/objective/regression_obj.cu:152: reg:linear is now deprecated in favor of reg:squarederror.\n",
            "[CV] END learing_rate=0.1, max_depth=5, n_estimators=100, n_jobs=-1; total time=   0.1s\n",
            "[04:31:37] WARNING: /workspace/src/objective/regression_obj.cu:152: reg:linear is now deprecated in favor of reg:squarederror.\n",
            "[CV] END learing_rate=0.1, max_depth=5, n_estimators=100, n_jobs=-1; total time=   0.1s\n",
            "[04:31:37] WARNING: /workspace/src/objective/regression_obj.cu:152: reg:linear is now deprecated in favor of reg:squarederror.\n",
            "[CV] END learing_rate=0.1, max_depth=5, n_estimators=200, n_jobs=-1; total time=   0.2s\n",
            "[04:31:38] WARNING: /workspace/src/objective/regression_obj.cu:152: reg:linear is now deprecated in favor of reg:squarederror.\n",
            "[CV] END learing_rate=0.1, max_depth=5, n_estimators=200, n_jobs=-1; total time=   0.2s\n",
            "[04:31:38] WARNING: /workspace/src/objective/regression_obj.cu:152: reg:linear is now deprecated in favor of reg:squarederror.\n",
            "[CV] END learing_rate=0.1, max_depth=5, n_estimators=200, n_jobs=-1; total time=   0.2s\n",
            "[04:31:38] WARNING: /workspace/src/objective/regression_obj.cu:152: reg:linear is now deprecated in favor of reg:squarederror.\n",
            "[CV] END learing_rate=0.1, max_depth=5, n_estimators=200, n_jobs=-1; total time=   0.2s\n",
            "[04:31:38] WARNING: /workspace/src/objective/regression_obj.cu:152: reg:linear is now deprecated in favor of reg:squarederror.\n",
            "[CV] END learing_rate=0.1, max_depth=5, n_estimators=200, n_jobs=-1; total time=   0.2s\n",
            "[04:31:39] WARNING: /workspace/src/objective/regression_obj.cu:152: reg:linear is now deprecated in favor of reg:squarederror.\n",
            "[CV] END learing_rate=0.1, max_depth=5, n_estimators=500, n_jobs=-1; total time=   0.6s\n",
            "[04:31:39] WARNING: /workspace/src/objective/regression_obj.cu:152: reg:linear is now deprecated in favor of reg:squarederror.\n",
            "[CV] END learing_rate=0.1, max_depth=5, n_estimators=500, n_jobs=-1; total time=   0.6s\n",
            "[04:31:40] WARNING: /workspace/src/objective/regression_obj.cu:152: reg:linear is now deprecated in favor of reg:squarederror.\n",
            "[CV] END learing_rate=0.1, max_depth=5, n_estimators=500, n_jobs=-1; total time=   0.6s\n",
            "[04:31:40] WARNING: /workspace/src/objective/regression_obj.cu:152: reg:linear is now deprecated in favor of reg:squarederror.\n",
            "[CV] END learing_rate=0.1, max_depth=5, n_estimators=500, n_jobs=-1; total time=   0.6s\n",
            "[04:31:41] WARNING: /workspace/src/objective/regression_obj.cu:152: reg:linear is now deprecated in favor of reg:squarederror.\n",
            "[CV] END learing_rate=0.1, max_depth=5, n_estimators=500, n_jobs=-1; total time=   0.6s\n",
            "[04:31:41] WARNING: /workspace/src/objective/regression_obj.cu:152: reg:linear is now deprecated in favor of reg:squarederror.\n",
            "[CV] END learing_rate=0.05, max_depth=2, n_estimators=100, n_jobs=-1; total time=   0.1s\n",
            "[04:31:42] WARNING: /workspace/src/objective/regression_obj.cu:152: reg:linear is now deprecated in favor of reg:squarederror.\n",
            "[CV] END learing_rate=0.05, max_depth=2, n_estimators=100, n_jobs=-1; total time=   0.1s\n",
            "[04:31:42] WARNING: /workspace/src/objective/regression_obj.cu:152: reg:linear is now deprecated in favor of reg:squarederror.\n",
            "[CV] END learing_rate=0.05, max_depth=2, n_estimators=100, n_jobs=-1; total time=   0.1s\n",
            "[04:31:42] WARNING: /workspace/src/objective/regression_obj.cu:152: reg:linear is now deprecated in favor of reg:squarederror.\n",
            "[CV] END learing_rate=0.05, max_depth=2, n_estimators=100, n_jobs=-1; total time=   0.1s\n",
            "[04:31:42] WARNING: /workspace/src/objective/regression_obj.cu:152: reg:linear is now deprecated in favor of reg:squarederror.\n",
            "[CV] END learing_rate=0.05, max_depth=2, n_estimators=100, n_jobs=-1; total time=   0.1s\n",
            "[04:31:42] WARNING: /workspace/src/objective/regression_obj.cu:152: reg:linear is now deprecated in favor of reg:squarederror.\n",
            "[CV] END learing_rate=0.05, max_depth=2, n_estimators=200, n_jobs=-1; total time=   0.1s\n",
            "[04:31:42] WARNING: /workspace/src/objective/regression_obj.cu:152: reg:linear is now deprecated in favor of reg:squarederror.\n",
            "[CV] END learing_rate=0.05, max_depth=2, n_estimators=200, n_jobs=-1; total time=   0.1s\n",
            "[04:31:42] WARNING: /workspace/src/objective/regression_obj.cu:152: reg:linear is now deprecated in favor of reg:squarederror.\n",
            "[CV] END learing_rate=0.05, max_depth=2, n_estimators=200, n_jobs=-1; total time=   0.1s\n",
            "[04:31:42] WARNING: /workspace/src/objective/regression_obj.cu:152: reg:linear is now deprecated in favor of reg:squarederror.\n",
            "[CV] END learing_rate=0.05, max_depth=2, n_estimators=200, n_jobs=-1; total time=   0.1s\n",
            "[04:31:42] WARNING: /workspace/src/objective/regression_obj.cu:152: reg:linear is now deprecated in favor of reg:squarederror.\n",
            "[CV] END learing_rate=0.05, max_depth=2, n_estimators=200, n_jobs=-1; total time=   0.1s\n",
            "[04:31:42] WARNING: /workspace/src/objective/regression_obj.cu:152: reg:linear is now deprecated in favor of reg:squarederror.\n",
            "[CV] END learing_rate=0.05, max_depth=2, n_estimators=500, n_jobs=-1; total time=   0.2s\n",
            "[04:31:43] WARNING: /workspace/src/objective/regression_obj.cu:152: reg:linear is now deprecated in favor of reg:squarederror.\n",
            "[CV] END learing_rate=0.05, max_depth=2, n_estimators=500, n_jobs=-1; total time=   0.2s\n",
            "[04:31:43] WARNING: /workspace/src/objective/regression_obj.cu:152: reg:linear is now deprecated in favor of reg:squarederror.\n",
            "[CV] END learing_rate=0.05, max_depth=2, n_estimators=500, n_jobs=-1; total time=   0.2s\n",
            "[04:31:43] WARNING: /workspace/src/objective/regression_obj.cu:152: reg:linear is now deprecated in favor of reg:squarederror.\n",
            "[CV] END learing_rate=0.05, max_depth=2, n_estimators=500, n_jobs=-1; total time=   0.2s\n",
            "[04:31:43] WARNING: /workspace/src/objective/regression_obj.cu:152: reg:linear is now deprecated in favor of reg:squarederror.\n",
            "[CV] END learing_rate=0.05, max_depth=2, n_estimators=500, n_jobs=-1; total time=   0.2s\n",
            "[04:31:43] WARNING: /workspace/src/objective/regression_obj.cu:152: reg:linear is now deprecated in favor of reg:squarederror.\n",
            "[CV] END learing_rate=0.05, max_depth=3, n_estimators=100, n_jobs=-1; total time=   0.1s\n",
            "[04:31:44] WARNING: /workspace/src/objective/regression_obj.cu:152: reg:linear is now deprecated in favor of reg:squarederror.\n",
            "[CV] END learing_rate=0.05, max_depth=3, n_estimators=100, n_jobs=-1; total time=   0.1s\n",
            "[04:31:44] WARNING: /workspace/src/objective/regression_obj.cu:152: reg:linear is now deprecated in favor of reg:squarederror.\n",
            "[CV] END learing_rate=0.05, max_depth=3, n_estimators=100, n_jobs=-1; total time=   0.1s\n",
            "[04:31:44] WARNING: /workspace/src/objective/regression_obj.cu:152: reg:linear is now deprecated in favor of reg:squarederror.\n",
            "[CV] END learing_rate=0.05, max_depth=3, n_estimators=100, n_jobs=-1; total time=   0.1s\n",
            "[04:31:44] WARNING: /workspace/src/objective/regression_obj.cu:152: reg:linear is now deprecated in favor of reg:squarederror.\n",
            "[CV] END learing_rate=0.05, max_depth=3, n_estimators=100, n_jobs=-1; total time=   0.1s\n",
            "[04:31:44] WARNING: /workspace/src/objective/regression_obj.cu:152: reg:linear is now deprecated in favor of reg:squarederror.\n",
            "[CV] END learing_rate=0.05, max_depth=3, n_estimators=200, n_jobs=-1; total time=   0.1s\n",
            "[04:31:44] WARNING: /workspace/src/objective/regression_obj.cu:152: reg:linear is now deprecated in favor of reg:squarederror.\n",
            "[CV] END learing_rate=0.05, max_depth=3, n_estimators=200, n_jobs=-1; total time=   0.2s\n",
            "[04:31:44] WARNING: /workspace/src/objective/regression_obj.cu:152: reg:linear is now deprecated in favor of reg:squarederror.\n",
            "[CV] END learing_rate=0.05, max_depth=3, n_estimators=200, n_jobs=-1; total time=   0.1s\n",
            "[04:31:44] WARNING: /workspace/src/objective/regression_obj.cu:152: reg:linear is now deprecated in favor of reg:squarederror.\n",
            "[CV] END learing_rate=0.05, max_depth=3, n_estimators=200, n_jobs=-1; total time=   0.1s\n",
            "[04:31:44] WARNING: /workspace/src/objective/regression_obj.cu:152: reg:linear is now deprecated in favor of reg:squarederror.\n",
            "[CV] END learing_rate=0.05, max_depth=3, n_estimators=200, n_jobs=-1; total time=   0.1s\n",
            "[04:31:45] WARNING: /workspace/src/objective/regression_obj.cu:152: reg:linear is now deprecated in favor of reg:squarederror.\n",
            "[CV] END learing_rate=0.05, max_depth=3, n_estimators=500, n_jobs=-1; total time=   0.3s\n",
            "[04:31:45] WARNING: /workspace/src/objective/regression_obj.cu:152: reg:linear is now deprecated in favor of reg:squarederror.\n",
            "[CV] END learing_rate=0.05, max_depth=3, n_estimators=500, n_jobs=-1; total time=   0.4s\n",
            "[04:31:45] WARNING: /workspace/src/objective/regression_obj.cu:152: reg:linear is now deprecated in favor of reg:squarederror.\n",
            "[CV] END learing_rate=0.05, max_depth=3, n_estimators=500, n_jobs=-1; total time=   0.3s\n",
            "[04:31:46] WARNING: /workspace/src/objective/regression_obj.cu:152: reg:linear is now deprecated in favor of reg:squarederror.\n",
            "[CV] END learing_rate=0.05, max_depth=3, n_estimators=500, n_jobs=-1; total time=   0.3s\n",
            "[04:31:46] WARNING: /workspace/src/objective/regression_obj.cu:152: reg:linear is now deprecated in favor of reg:squarederror.\n",
            "[CV] END learing_rate=0.05, max_depth=3, n_estimators=500, n_jobs=-1; total time=   0.3s\n",
            "[04:31:46] WARNING: /workspace/src/objective/regression_obj.cu:152: reg:linear is now deprecated in favor of reg:squarederror.\n",
            "[CV] END learing_rate=0.05, max_depth=5, n_estimators=100, n_jobs=-1; total time=   0.1s\n",
            "[04:31:46] WARNING: /workspace/src/objective/regression_obj.cu:152: reg:linear is now deprecated in favor of reg:squarederror.\n",
            "[CV] END learing_rate=0.05, max_depth=5, n_estimators=100, n_jobs=-1; total time=   0.1s\n",
            "[04:31:47] WARNING: /workspace/src/objective/regression_obj.cu:152: reg:linear is now deprecated in favor of reg:squarederror.\n",
            "[CV] END learing_rate=0.05, max_depth=5, n_estimators=100, n_jobs=-1; total time=   0.1s\n",
            "[04:31:47] WARNING: /workspace/src/objective/regression_obj.cu:152: reg:linear is now deprecated in favor of reg:squarederror.\n",
            "[CV] END learing_rate=0.05, max_depth=5, n_estimators=100, n_jobs=-1; total time=   0.1s\n",
            "[04:31:47] WARNING: /workspace/src/objective/regression_obj.cu:152: reg:linear is now deprecated in favor of reg:squarederror.\n",
            "[CV] END learing_rate=0.05, max_depth=5, n_estimators=100, n_jobs=-1; total time=   0.1s\n",
            "[04:31:47] WARNING: /workspace/src/objective/regression_obj.cu:152: reg:linear is now deprecated in favor of reg:squarederror.\n",
            "[CV] END learing_rate=0.05, max_depth=5, n_estimators=200, n_jobs=-1; total time=   0.2s\n",
            "[04:31:47] WARNING: /workspace/src/objective/regression_obj.cu:152: reg:linear is now deprecated in favor of reg:squarederror.\n",
            "[CV] END learing_rate=0.05, max_depth=5, n_estimators=200, n_jobs=-1; total time=   0.2s\n",
            "[04:31:47] WARNING: /workspace/src/objective/regression_obj.cu:152: reg:linear is now deprecated in favor of reg:squarederror.\n",
            "[CV] END learing_rate=0.05, max_depth=5, n_estimators=200, n_jobs=-1; total time=   0.2s\n",
            "[04:31:48] WARNING: /workspace/src/objective/regression_obj.cu:152: reg:linear is now deprecated in favor of reg:squarederror.\n",
            "[CV] END learing_rate=0.05, max_depth=5, n_estimators=200, n_jobs=-1; total time=   0.2s\n",
            "[04:31:48] WARNING: /workspace/src/objective/regression_obj.cu:152: reg:linear is now deprecated in favor of reg:squarederror.\n",
            "[CV] END learing_rate=0.05, max_depth=5, n_estimators=200, n_jobs=-1; total time=   0.2s\n",
            "[04:31:48] WARNING: /workspace/src/objective/regression_obj.cu:152: reg:linear is now deprecated in favor of reg:squarederror.\n",
            "[CV] END learing_rate=0.05, max_depth=5, n_estimators=500, n_jobs=-1; total time=   0.6s\n",
            "[04:31:49] WARNING: /workspace/src/objective/regression_obj.cu:152: reg:linear is now deprecated in favor of reg:squarederror.\n",
            "[CV] END learing_rate=0.05, max_depth=5, n_estimators=500, n_jobs=-1; total time=   0.6s\n",
            "[04:31:49] WARNING: /workspace/src/objective/regression_obj.cu:152: reg:linear is now deprecated in favor of reg:squarederror.\n",
            "[CV] END learing_rate=0.05, max_depth=5, n_estimators=500, n_jobs=-1; total time=   0.6s\n",
            "[04:31:50] WARNING: /workspace/src/objective/regression_obj.cu:152: reg:linear is now deprecated in favor of reg:squarederror.\n",
            "[CV] END learing_rate=0.05, max_depth=5, n_estimators=500, n_jobs=-1; total time=   0.6s\n",
            "[04:31:50] WARNING: /workspace/src/objective/regression_obj.cu:152: reg:linear is now deprecated in favor of reg:squarederror.\n",
            "[CV] END learing_rate=0.05, max_depth=5, n_estimators=500, n_jobs=-1; total time=   0.6s\n",
            "[04:31:51] WARNING: /workspace/src/objective/regression_obj.cu:152: reg:linear is now deprecated in favor of reg:squarederror.\n",
            "[CV] END learing_rate=0.01, max_depth=2, n_estimators=100, n_jobs=-1; total time=   0.1s\n",
            "[04:31:51] WARNING: /workspace/src/objective/regression_obj.cu:152: reg:linear is now deprecated in favor of reg:squarederror.\n",
            "[CV] END learing_rate=0.01, max_depth=2, n_estimators=100, n_jobs=-1; total time=   0.1s\n",
            "[04:31:51] WARNING: /workspace/src/objective/regression_obj.cu:152: reg:linear is now deprecated in favor of reg:squarederror.\n",
            "[CV] END learing_rate=0.01, max_depth=2, n_estimators=100, n_jobs=-1; total time=   0.1s\n",
            "[04:31:51] WARNING: /workspace/src/objective/regression_obj.cu:152: reg:linear is now deprecated in favor of reg:squarederror.\n",
            "[CV] END learing_rate=0.01, max_depth=2, n_estimators=100, n_jobs=-1; total time=   0.1s\n",
            "[04:31:51] WARNING: /workspace/src/objective/regression_obj.cu:152: reg:linear is now deprecated in favor of reg:squarederror.\n",
            "[CV] END learing_rate=0.01, max_depth=2, n_estimators=100, n_jobs=-1; total time=   0.1s\n",
            "[04:31:51] WARNING: /workspace/src/objective/regression_obj.cu:152: reg:linear is now deprecated in favor of reg:squarederror.\n",
            "[CV] END learing_rate=0.01, max_depth=2, n_estimators=200, n_jobs=-1; total time=   0.1s\n",
            "[04:31:51] WARNING: /workspace/src/objective/regression_obj.cu:152: reg:linear is now deprecated in favor of reg:squarederror.\n",
            "[CV] END learing_rate=0.01, max_depth=2, n_estimators=200, n_jobs=-1; total time=   0.1s\n",
            "[04:31:51] WARNING: /workspace/src/objective/regression_obj.cu:152: reg:linear is now deprecated in favor of reg:squarederror.\n",
            "[CV] END learing_rate=0.01, max_depth=2, n_estimators=200, n_jobs=-1; total time=   0.1s\n",
            "[04:31:51] WARNING: /workspace/src/objective/regression_obj.cu:152: reg:linear is now deprecated in favor of reg:squarederror.\n",
            "[CV] END learing_rate=0.01, max_depth=2, n_estimators=200, n_jobs=-1; total time=   0.1s\n",
            "[04:31:52] WARNING: /workspace/src/objective/regression_obj.cu:152: reg:linear is now deprecated in favor of reg:squarederror.\n",
            "[CV] END learing_rate=0.01, max_depth=2, n_estimators=200, n_jobs=-1; total time=   0.1s\n",
            "[04:31:52] WARNING: /workspace/src/objective/regression_obj.cu:152: reg:linear is now deprecated in favor of reg:squarederror.\n",
            "[CV] END learing_rate=0.01, max_depth=2, n_estimators=500, n_jobs=-1; total time=   0.2s\n",
            "[04:31:52] WARNING: /workspace/src/objective/regression_obj.cu:152: reg:linear is now deprecated in favor of reg:squarederror.\n",
            "[CV] END learing_rate=0.01, max_depth=2, n_estimators=500, n_jobs=-1; total time=   0.2s\n",
            "[04:31:52] WARNING: /workspace/src/objective/regression_obj.cu:152: reg:linear is now deprecated in favor of reg:squarederror.\n",
            "[CV] END learing_rate=0.01, max_depth=2, n_estimators=500, n_jobs=-1; total time=   0.3s\n",
            "[04:31:52] WARNING: /workspace/src/objective/regression_obj.cu:152: reg:linear is now deprecated in favor of reg:squarederror.\n",
            "[CV] END learing_rate=0.01, max_depth=2, n_estimators=500, n_jobs=-1; total time=   0.2s\n",
            "[04:31:53] WARNING: /workspace/src/objective/regression_obj.cu:152: reg:linear is now deprecated in favor of reg:squarederror.\n",
            "[CV] END learing_rate=0.01, max_depth=2, n_estimators=500, n_jobs=-1; total time=   0.3s\n",
            "[04:31:53] WARNING: /workspace/src/objective/regression_obj.cu:152: reg:linear is now deprecated in favor of reg:squarederror.\n",
            "[CV] END learing_rate=0.01, max_depth=3, n_estimators=100, n_jobs=-1; total time=   0.1s\n",
            "[04:31:53] WARNING: /workspace/src/objective/regression_obj.cu:152: reg:linear is now deprecated in favor of reg:squarederror.\n",
            "[CV] END learing_rate=0.01, max_depth=3, n_estimators=100, n_jobs=-1; total time=   0.1s\n",
            "[04:31:53] WARNING: /workspace/src/objective/regression_obj.cu:152: reg:linear is now deprecated in favor of reg:squarederror.\n",
            "[CV] END learing_rate=0.01, max_depth=3, n_estimators=100, n_jobs=-1; total time=   0.1s\n",
            "[04:31:53] WARNING: /workspace/src/objective/regression_obj.cu:152: reg:linear is now deprecated in favor of reg:squarederror.\n",
            "[CV] END learing_rate=0.01, max_depth=3, n_estimators=100, n_jobs=-1; total time=   0.1s\n",
            "[04:31:53] WARNING: /workspace/src/objective/regression_obj.cu:152: reg:linear is now deprecated in favor of reg:squarederror.\n",
            "[CV] END learing_rate=0.01, max_depth=3, n_estimators=100, n_jobs=-1; total time=   0.1s\n",
            "[04:31:53] WARNING: /workspace/src/objective/regression_obj.cu:152: reg:linear is now deprecated in favor of reg:squarederror.\n",
            "[CV] END learing_rate=0.01, max_depth=3, n_estimators=200, n_jobs=-1; total time=   0.1s\n",
            "[04:31:53] WARNING: /workspace/src/objective/regression_obj.cu:152: reg:linear is now deprecated in favor of reg:squarederror.\n",
            "[CV] END learing_rate=0.01, max_depth=3, n_estimators=200, n_jobs=-1; total time=   0.1s\n",
            "[04:31:54] WARNING: /workspace/src/objective/regression_obj.cu:152: reg:linear is now deprecated in favor of reg:squarederror.\n",
            "[CV] END learing_rate=0.01, max_depth=3, n_estimators=200, n_jobs=-1; total time=   0.1s\n",
            "[04:31:54] WARNING: /workspace/src/objective/regression_obj.cu:152: reg:linear is now deprecated in favor of reg:squarederror.\n",
            "[CV] END learing_rate=0.01, max_depth=3, n_estimators=200, n_jobs=-1; total time=   0.1s\n",
            "[04:31:54] WARNING: /workspace/src/objective/regression_obj.cu:152: reg:linear is now deprecated in favor of reg:squarederror.\n",
            "[CV] END learing_rate=0.01, max_depth=3, n_estimators=200, n_jobs=-1; total time=   0.1s\n",
            "[04:31:54] WARNING: /workspace/src/objective/regression_obj.cu:152: reg:linear is now deprecated in favor of reg:squarederror.\n",
            "[CV] END learing_rate=0.01, max_depth=3, n_estimators=500, n_jobs=-1; total time=   0.4s\n",
            "[04:31:54] WARNING: /workspace/src/objective/regression_obj.cu:152: reg:linear is now deprecated in favor of reg:squarederror.\n",
            "[CV] END learing_rate=0.01, max_depth=3, n_estimators=500, n_jobs=-1; total time=   0.3s\n",
            "[04:31:55] WARNING: /workspace/src/objective/regression_obj.cu:152: reg:linear is now deprecated in favor of reg:squarederror.\n",
            "[CV] END learing_rate=0.01, max_depth=3, n_estimators=500, n_jobs=-1; total time=   0.3s\n",
            "[04:31:55] WARNING: /workspace/src/objective/regression_obj.cu:152: reg:linear is now deprecated in favor of reg:squarederror.\n",
            "[CV] END learing_rate=0.01, max_depth=3, n_estimators=500, n_jobs=-1; total time=   0.3s\n",
            "[04:31:55] WARNING: /workspace/src/objective/regression_obj.cu:152: reg:linear is now deprecated in favor of reg:squarederror.\n",
            "[CV] END learing_rate=0.01, max_depth=3, n_estimators=500, n_jobs=-1; total time=   0.3s\n",
            "[04:31:56] WARNING: /workspace/src/objective/regression_obj.cu:152: reg:linear is now deprecated in favor of reg:squarederror.\n",
            "[CV] END learing_rate=0.01, max_depth=5, n_estimators=100, n_jobs=-1; total time=   0.1s\n",
            "[04:31:56] WARNING: /workspace/src/objective/regression_obj.cu:152: reg:linear is now deprecated in favor of reg:squarederror.\n",
            "[CV] END learing_rate=0.01, max_depth=5, n_estimators=100, n_jobs=-1; total time=   0.1s\n",
            "[04:31:56] WARNING: /workspace/src/objective/regression_obj.cu:152: reg:linear is now deprecated in favor of reg:squarederror.\n",
            "[CV] END learing_rate=0.01, max_depth=5, n_estimators=100, n_jobs=-1; total time=   0.1s\n",
            "[04:31:56] WARNING: /workspace/src/objective/regression_obj.cu:152: reg:linear is now deprecated in favor of reg:squarederror.\n",
            "[CV] END learing_rate=0.01, max_depth=5, n_estimators=100, n_jobs=-1; total time=   0.1s\n",
            "[04:31:56] WARNING: /workspace/src/objective/regression_obj.cu:152: reg:linear is now deprecated in favor of reg:squarederror.\n",
            "[CV] END learing_rate=0.01, max_depth=5, n_estimators=100, n_jobs=-1; total time=   0.1s\n",
            "[04:31:56] WARNING: /workspace/src/objective/regression_obj.cu:152: reg:linear is now deprecated in favor of reg:squarederror.\n",
            "[CV] END learing_rate=0.01, max_depth=5, n_estimators=200, n_jobs=-1; total time=   0.2s\n",
            "[04:31:57] WARNING: /workspace/src/objective/regression_obj.cu:152: reg:linear is now deprecated in favor of reg:squarederror.\n",
            "[CV] END learing_rate=0.01, max_depth=5, n_estimators=200, n_jobs=-1; total time=   0.2s\n",
            "[04:31:57] WARNING: /workspace/src/objective/regression_obj.cu:152: reg:linear is now deprecated in favor of reg:squarederror.\n",
            "[CV] END learing_rate=0.01, max_depth=5, n_estimators=200, n_jobs=-1; total time=   0.2s\n",
            "[04:31:57] WARNING: /workspace/src/objective/regression_obj.cu:152: reg:linear is now deprecated in favor of reg:squarederror.\n",
            "[CV] END learing_rate=0.01, max_depth=5, n_estimators=200, n_jobs=-1; total time=   0.2s\n",
            "[04:31:57] WARNING: /workspace/src/objective/regression_obj.cu:152: reg:linear is now deprecated in favor of reg:squarederror.\n",
            "[CV] END learing_rate=0.01, max_depth=5, n_estimators=200, n_jobs=-1; total time=   0.2s\n",
            "[04:31:57] WARNING: /workspace/src/objective/regression_obj.cu:152: reg:linear is now deprecated in favor of reg:squarederror.\n",
            "[CV] END learing_rate=0.01, max_depth=5, n_estimators=500, n_jobs=-1; total time=   0.6s\n",
            "[04:31:58] WARNING: /workspace/src/objective/regression_obj.cu:152: reg:linear is now deprecated in favor of reg:squarederror.\n",
            "[CV] END learing_rate=0.01, max_depth=5, n_estimators=500, n_jobs=-1; total time=   0.6s\n",
            "[04:31:59] WARNING: /workspace/src/objective/regression_obj.cu:152: reg:linear is now deprecated in favor of reg:squarederror.\n",
            "[CV] END learing_rate=0.01, max_depth=5, n_estimators=500, n_jobs=-1; total time=   0.6s\n",
            "[04:31:59] WARNING: /workspace/src/objective/regression_obj.cu:152: reg:linear is now deprecated in favor of reg:squarederror.\n",
            "[CV] END learing_rate=0.01, max_depth=5, n_estimators=500, n_jobs=-1; total time=   0.6s\n",
            "[04:32:00] WARNING: /workspace/src/objective/regression_obj.cu:152: reg:linear is now deprecated in favor of reg:squarederror.\n",
            "[CV] END learing_rate=0.01, max_depth=5, n_estimators=500, n_jobs=-1; total time=   0.6s\n",
            "[04:32:00] WARNING: /workspace/src/objective/regression_obj.cu:152: reg:linear is now deprecated in favor of reg:squarederror.\n"
          ]
        },
        {
          "output_type": "execute_result",
          "data": {
            "text/plain": [
              "GridSearchCV(cv=5, estimator=XGBRegressor(),\n",
              "             param_grid={'learing_rate': [0.1, 0.05, 0.01],\n",
              "                         'max_depth': [2, 3, 5],\n",
              "                         'n_estimators': [100, 200, 500], 'n_jobs': [-1]},\n",
              "             verbose=2)"
            ]
          },
          "metadata": {},
          "execution_count": 123
        }
      ]
    },
    {
      "cell_type": "code",
      "source": [
        "grid.best_params_"
      ],
      "metadata": {
        "id": "euAXIoQK3aU-",
        "colab": {
          "base_uri": "https://localhost:8080/"
        },
        "outputId": "e7f42c65-2786-4de0-9b95-0d148f9b04f1"
      },
      "execution_count": 124,
      "outputs": [
        {
          "output_type": "execute_result",
          "data": {
            "text/plain": [
              "{'learing_rate': 0.1, 'max_depth': 2, 'n_estimators': 100, 'n_jobs': -1}"
            ]
          },
          "metadata": {},
          "execution_count": 124
        }
      ]
    },
    {
      "cell_type": "code",
      "source": [
        "parameters = {'learing_rate': 0.1, 'max_depth': 2, \n",
        "              'n_estimators': 500, 'n_jobs': -1}\n",
        "xgb = XGBRegressor(learning_rate= 0.1,\n",
        " max_depth= 2,\n",
        " n_jobs=-1 ,\n",
        " n_estimators=500, random_state=0)\n",
        "xgb.fit(x_train,y_train_log)\n",
        "test_pred=(xgb.predict(x_test))\n",
        "\n",
        "(NMAE(test_pred,y_test_log))\n",
        "#XGBRegressor NMAE : \t\t 0.05929196121598696 \n"
      ],
      "metadata": {
        "id": "xQK_GGnFApUT",
        "colab": {
          "base_uri": "https://localhost:8080/"
        },
        "outputId": "3529971d-3c6b-4fa4-c934-19775b2941e1"
      },
      "execution_count": 106,
      "outputs": [
        {
          "output_type": "stream",
          "name": "stdout",
          "text": [
            "[04:16:13] WARNING: /workspace/src/objective/regression_obj.cu:152: reg:linear is now deprecated in favor of reg:squarederror.\n"
          ]
        },
        {
          "output_type": "execute_result",
          "data": {
            "text/plain": [
              "0.05485671570611979"
            ]
          },
          "metadata": {},
          "execution_count": 106
        }
      ]
    },
    {
      "cell_type": "code",
      "source": [
        "lgb.fit(x_train,y_train_log)\n",
        "xgb.fit(x_train,y_train_log)\n",
        "rfr.fit(x_train,y_train_log)\n",
        "gbr.fit(x_train,y_train_log)\n",
        "\n"
      ],
      "metadata": {
        "colab": {
          "base_uri": "https://localhost:8080/"
        },
        "id": "fgqEmPUJvyg8",
        "outputId": "c98d7eff-853f-4e81-c736-2ba1cb844c80"
      },
      "execution_count": 107,
      "outputs": [
        {
          "output_type": "stream",
          "name": "stdout",
          "text": [
            "[04:16:38] WARNING: /workspace/src/objective/regression_obj.cu:152: reg:linear is now deprecated in favor of reg:squarederror.\n"
          ]
        },
        {
          "output_type": "execute_result",
          "data": {
            "text/plain": [
              "GradientBoostingRegressor(max_depth=6, min_samples_split=10, n_estimators=150,\n",
              "                          random_state=0)"
            ]
          },
          "metadata": {},
          "execution_count": 107
        }
      ]
    },
    {
      "cell_type": "code",
      "source": [
        "rfr_p = rfr.predict(target)\n",
        "gbr_p = gbr.predict(target)\n",
        "xgb_p = xgb.predict(target)\n",
        "lgb_p = lgb.predict(target)"
      ],
      "metadata": {
        "id": "Npl8XpX9Ayxt"
      },
      "execution_count": 109,
      "outputs": []
    },
    {
      "cell_type": "code",
      "source": [
        "lgb_pred = (np.expm1(lgb_p.reshape(-1,1)))\n",
        "rfr_pred =  (np.expm1(rfr_p.reshape(-1,1)))\n",
        "gbr_pred = (np.expm1(gbr_p.reshape(-1,1)))\n",
        "xgb_pred = (np.expm1(xgb_p.reshape(-1,1)))\n"
      ],
      "metadata": {
        "id": "Vtra0q1rxOg-"
      },
      "execution_count": 110,
      "outputs": []
    },
    {
      "cell_type": "code",
      "source": [
        "lgb_pred"
      ],
      "metadata": {
        "colab": {
          "base_uri": "https://localhost:8080/"
        },
        "id": "PBcbfhQ3xX9m",
        "outputId": "1cc47b8d-3c5a-4f16-93b1-27d73f20aa8d"
      },
      "execution_count": 111,
      "outputs": [
        {
          "output_type": "execute_result",
          "data": {
            "text/plain": [
              "array([[10.63810862],\n",
              "       [12.95631782],\n",
              "       [ 5.4493383 ],\n",
              "       ...,\n",
              "       [ 9.21629169],\n",
              "       [ 9.44302139],\n",
              "       [10.99966918]])"
            ]
          },
          "metadata": {},
          "execution_count": 111
        }
      ]
    },
    {
      "cell_type": "code",
      "source": [
        "rfr_pred"
      ],
      "metadata": {
        "colab": {
          "base_uri": "https://localhost:8080/"
        },
        "id": "9ojNOUlQySOB",
        "outputId": "20564f94-3472-47da-eba1-2e2c9e930317"
      },
      "execution_count": 112,
      "outputs": [
        {
          "output_type": "execute_result",
          "data": {
            "text/plain": [
              "array([[10.45336968],\n",
              "       [13.31398594],\n",
              "       [ 5.36296894],\n",
              "       ...,\n",
              "       [ 9.02355303],\n",
              "       [ 9.72035279],\n",
              "       [11.41601504]])"
            ]
          },
          "metadata": {},
          "execution_count": 112
        }
      ]
    },
    {
      "cell_type": "code",
      "source": [
        "gbr_pred"
      ],
      "metadata": {
        "colab": {
          "base_uri": "https://localhost:8080/"
        },
        "id": "hNjIx9LGySwI",
        "outputId": "75edc5e4-388f-4c96-911d-00da4101130b"
      },
      "execution_count": 113,
      "outputs": [
        {
          "output_type": "execute_result",
          "data": {
            "text/plain": [
              "array([[11.23638328],\n",
              "       [13.46774752],\n",
              "       [ 5.27124197],\n",
              "       ...,\n",
              "       [ 9.85870708],\n",
              "       [ 9.879646  ],\n",
              "       [10.05968993]])"
            ]
          },
          "metadata": {},
          "execution_count": 113
        }
      ]
    },
    {
      "cell_type": "code",
      "source": [
        "xgb_pred"
      ],
      "metadata": {
        "colab": {
          "base_uri": "https://localhost:8080/"
        },
        "id": "fCnG98lRyVd2",
        "outputId": "123ad0ff-315c-471c-b626-6317628aa82f"
      },
      "execution_count": 114,
      "outputs": [
        {
          "output_type": "execute_result",
          "data": {
            "text/plain": [
              "array([[11.14919 ],\n",
              "       [12.174976],\n",
              "       [ 5.288225],\n",
              "       ...,\n",
              "       [ 9.096036],\n",
              "       [ 9.688713],\n",
              "       [10.489915]], dtype=float32)"
            ]
          },
          "metadata": {},
          "execution_count": 114
        }
      ]
    },
    {
      "cell_type": "code",
      "source": [
        "Marine5 = (lgb_pred*0.3 + rfr_pred*0.2 +gbr_pred*0.25 + xgb_pred*0.25)\n",
        "Marine5"
      ],
      "metadata": {
        "colab": {
          "base_uri": "https://localhost:8080/"
        },
        "id": "xIeRDV4eyWKX",
        "outputId": "f2d5cec6-6326-452f-c849-9aaff33cff1c"
      },
      "execution_count": 115,
      "outputs": [
        {
          "output_type": "execute_result",
          "data": {
            "text/plain": [
              "array([[10.87849983],\n",
              "       [12.9603735 ],\n",
              "       [ 5.34726206],\n",
              "       ...,\n",
              "       [ 9.30828387],\n",
              "       [ 9.66906674],\n",
              "       [10.72050497]])"
            ]
          },
          "metadata": {},
          "execution_count": 115
        }
      ]
    },
    {
      "cell_type": "code",
      "source": [
        "submission['Target'] = Marine5\n",
        "submission.to_csv('Marine5.csv', index=False)"
      ],
      "metadata": {
        "id": "Lbclv_aeyjKX"
      },
      "execution_count": 116,
      "outputs": []
    }
  ]
}